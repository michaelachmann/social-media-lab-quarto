{
  "cells": [
    {
      "cell_type": "markdown",
      "metadata": {},
      "source": [
        "---\n",
        "format:\n",
        "  html: default\n",
        "aliases:\n",
        "  - getting-started/literature-review-assistant.html\n",
        "title: \"GPT Literature Review Assistant\"\n",
        "date: 2023-10-31\n",
        "date-modified: 2024-10-28\n",
        "bibliography: ../literature.bib\n",
        "author:\n",
        "  - name: Michael Achmann-Denkler\n",
        "    id: ma\n",
        "    orcid: \"0000-0002-4754-7842\"\n",
        "    doi: \"10.5281/zenodo.10039756\"\n",
        "    email: michael.achmann@informatik.uni-regensburg.de\n",
        "citation:\n",
        "  type: webpage\n",
        "  doi: \"10.5281/zenodo.10039756\"\n",
        "license: \n",
        "  text: \"GNU GPLv3\"\n",
        "  link: https://www.gnu.org/licenses/gpl-3.0.en.html\n",
        "notebook-view:\n",
        "  - notebook: ../notebooks/literature-review-v2.ipynb\n",
        "    title: \"GPT Literature Review Assistant V2\"\n",
        "    url: https://github.com/michaelachmann/social-media-lab/blob/main/notebooks/2024_10_24_GPT_Literature_Review_Assistant_V2.ipynb\n",
        "---"
      ]
    },
    {
      "cell_type": "markdown",
      "metadata": {
        "id": "y6Om3-psbtNQ"
      },
      "source": [
        "## Introduction\n",
        "\n",
        "In this session, we build upon [our previous exploration of literature research methods and guidelines for composing related work sections in your projects](../getting-started/related-work.qmd#writing-the-related-work-section). As you prepare to develop your project reports, a thorough and efficient literature review becomes crucial.\n",
        "\n",
        "We will introduce you to the use of GPT, a state-of-the-art language model, to assist in extracting key information from research paper abstracts. This technique will not only streamline your literature review process but also serve as a practical introduction to automated text analysis—a topic we'll delve deeper into in upcoming sessions.\n",
        "\n",
        "By integrating Python with the OpenAI GPT API, you'll learn how to automate the extraction of features such as research questions, methodologies, data sources, populations, and scientific disciplines from abstracts. This hands-on experience will demonstrate the potential of LLMs.\n",
        "\n",
        "**What You'll Learn:**\n",
        "\n",
        "- **Automating Literature Review Tasks:** Use GPT to quickly identify and summarize key aspects of academic papers.\n",
        "- **Practical Python Skills:** Enhance your coding abilities by working with APIs and handling data within Jupyter notebooks.\n",
        "- **Foundations for Text Classification:** Gain insights that will prepare you for our future sessions on automated text classification techniques.\n",
        "\n",
        "\n",
        "By the end of this session, you'll have a functional literature review assistant powered by GPT, positioning you well for the advanced text analysis topics ahead.\n",
        "\n",
        "::: {.callout-warning}\n",
        "This notebook provides a quick introduction to automated text extraction using GPT. **Note**: We are not [evaluating](../evaluation/index.qmd) the results in this session, so **do not use this notebook for production purposes or in your actual project reports**! Additionally, we use certain shortcuts for demonstration purposes—for example, removing search results that lack DOIs.\n",
        ":::\n"
      ]
    },
    {
      "cell_type": "markdown",
      "metadata": {},
      "source": [
        "## Prepare your Literature List\n",
        "\n",
        "Use [Publish or Persih](https://harzing.com/resources/publish-or-perish), enter your search term, and export the results as `CSV` file.\n",
        "\n",
        "![Right click on the search, select *Save Results* > *Results as CSV...*](../images/publishperish2024.png)\n",
        "\n",
        "Start the notebook on Colab and upload the `CSV` file. The notebook is available: \n",
        "* [GitHub](https://github.com/michaelachmann/social-media-lab/blob/main/notebooks/2024_10_24_GPT_Literature_Review_Assistant_V2.ipynb)\n",
        "* [![](https://camo.githubusercontent.com/96889048f8a9014fdeba2a891f97150c6aac6e723f5190236b10215a97ed41f3/68747470733a2f2f636f6c61622e72657365617263682e676f6f676c652e636f6d2f6173736574732f636f6c61622d62616467652e737667)](https://colab.research.google.com/github/michaelachmann/social-media-lab/blob/main/notebooks/2024_10_24_GPT_Literature_Review_Assistant_V2.ipynb)"
      ]
    },
    {
      "cell_type": "markdown",
      "metadata": {},
      "source": [
        "## Setup\n",
        "At first we need to install necessary packages. Hit run and wait."
      ]
    },
    {
      "cell_type": "code",
      "execution_count": 7,
      "metadata": {
        "cellView": "form",
        "colab": {
          "base_uri": "https://localhost:8080/"
        },
        "id": "XlJ90uBPmknH",
        "outputId": "7bf5528c-6297-43a3-8a9e-904ad3c929d0"
      },
      "outputs": [
        {
          "name": "stdout",
          "output_type": "stream",
          "text": [
            "Install Packages\n",
            "  Preparing metadata (setup.py) ... \u001b[?25l\u001b[?25hdone\n",
            "\u001b[2K     \u001b[90m━━━━━━━━━━━━━━━━━━━━━━━━━━━━━━━━━━━━━━━━\u001b[0m \u001b[32m50.6/50.6 kB\u001b[0m \u001b[31m3.8 MB/s\u001b[0m eta \u001b[36m0:00:00\u001b[0m\n",
            "\u001b[2K   \u001b[90m━━━━━━━━━━━━━━━━━━━━━━━━━━━━━━━━━━━━━━━━\u001b[0m \u001b[32m386.9/386.9 kB\u001b[0m \u001b[31m15.5 MB/s\u001b[0m eta \u001b[36m0:00:00\u001b[0m\n",
            "\u001b[2K   \u001b[90m━━━━━━━━━━━━━━━━━━━━━━━━━━━━━━━━━━━━━━━━\u001b[0m \u001b[32m56.7/56.7 MB\u001b[0m \u001b[31m15.6 MB/s\u001b[0m eta \u001b[36m0:00:00\u001b[0m\n",
            "\u001b[2K   \u001b[90m━━━━━━━━━━━━━━━━━━━━━━━━━━━━━━━━━━━━━━━━\u001b[0m \u001b[32m319.8/319.8 kB\u001b[0m \u001b[31m22.8 MB/s\u001b[0m eta \u001b[36m0:00:00\u001b[0m\n",
            "\u001b[2K   \u001b[90m━━━━━━━━━━━━━━━━━━━━━━━━━━━━━━━━━━━━━━━━\u001b[0m \u001b[32m94.7/94.7 kB\u001b[0m \u001b[31m6.2 MB/s\u001b[0m eta \u001b[36m0:00:00\u001b[0m\n",
            "\u001b[2K   \u001b[90m━━━━━━━━━━━━━━━━━━━━━━━━━━━━━━━━━━━━━━━━\u001b[0m \u001b[32m76.4/76.4 kB\u001b[0m \u001b[31m5.9 MB/s\u001b[0m eta \u001b[36m0:00:00\u001b[0m\n",
            "\u001b[2K   \u001b[90m━━━━━━━━━━━━━━━━━━━━━━━━━━━━━━━━━━━━━━━━\u001b[0m \u001b[32m78.0/78.0 kB\u001b[0m \u001b[31m6.3 MB/s\u001b[0m eta \u001b[36m0:00:00\u001b[0m\n",
            "\u001b[2K   \u001b[90m━━━━━━━━━━━━━━━━━━━━━━━━━━━━━━━━━━━━━━━━\u001b[0m \u001b[32m447.4/447.4 kB\u001b[0m \u001b[31m31.1 MB/s\u001b[0m eta \u001b[36m0:00:00\u001b[0m\n",
            "\u001b[2K   \u001b[90m━━━━━━━━━━━━━━━━━━━━━━━━━━━━━━━━━━━━━━━━\u001b[0m \u001b[32m325.2/325.2 kB\u001b[0m \u001b[31m24.1 MB/s\u001b[0m eta \u001b[36m0:00:00\u001b[0m\n",
            "\u001b[2K   \u001b[90m━━━━━━━━━━━━━━━━━━━━━━━━━━━━━━━━━━━━━━━━\u001b[0m \u001b[32m144.5/144.5 kB\u001b[0m \u001b[31m11.3 MB/s\u001b[0m eta \u001b[36m0:00:00\u001b[0m\n",
            "\u001b[2K   \u001b[90m━━━━━━━━━━━━━━━━━━━━━━━━━━━━━━━━━━━━━━━━\u001b[0m \u001b[32m11.0/11.0 MB\u001b[0m \u001b[31m99.9 MB/s\u001b[0m eta \u001b[36m0:00:00\u001b[0m\n",
            "\u001b[2K   \u001b[90m━━━━━━━━━━━━━━━━━━━━━━━━━━━━━━━━━━━━━━━━\u001b[0m \u001b[32m73.3/73.3 kB\u001b[0m \u001b[31m6.2 MB/s\u001b[0m eta \u001b[36m0:00:00\u001b[0m\n",
            "\u001b[2K   \u001b[90m━━━━━━━━━━━━━━━━━━━━━━━━━━━━━━━━━━━━━━━━\u001b[0m \u001b[32m63.7/63.7 kB\u001b[0m \u001b[31m3.8 MB/s\u001b[0m eta \u001b[36m0:00:00\u001b[0m\n",
            "\u001b[2K   \u001b[90m━━━━━━━━━━━━━━━━━━━━━━━━━━━━━━━━━━━━━━━━\u001b[0m \u001b[32m58.3/58.3 kB\u001b[0m \u001b[31m4.6 MB/s\u001b[0m eta \u001b[36m0:00:00\u001b[0m\n",
            "\u001b[2K   \u001b[90m━━━━━━━━━━━━━━━━━━━━━━━━━━━━━━━━━━━━━━━━\u001b[0m \u001b[32m130.2/130.2 kB\u001b[0m \u001b[31m10.3 MB/s\u001b[0m eta \u001b[36m0:00:00\u001b[0m\n",
            "\u001b[?25h  Building wheel for ratelimit (setup.py) ... \u001b[?25l\u001b[?25hdone\n"
          ]
        }
      ],
      "source": [
        "print(\"Install Packages\")\n",
        "!pip install -q openai crossref-commons gradio backoff"
      ]
    },
    {
      "cell_type": "markdown",
      "metadata": {
        "id": "iHqbR57EiKLE"
      },
      "source": [
        "## Using GPT to extract information from abstracts\n",
        "\n",
        "Now for the exciting part: Can we leverage GPT to streamline our literature review process? Here, we’ll experiment with automatically extracting key features from abstracts using `gpt-4o-turbo`.\n",
        "\n",
        "**Note:**\n",
        "Feel free to test different prompts and questions to optimize results. The [Promptingguide](https://www.promptingguide.ai/) is a good resource to learn more about different prompting techniques. Use the [ChatGPT](https://chat.openai.com/) interface to cheaply test prompt prior to using them with the API. Use the [OpenAI Playground](https://platform.openai.com/playground) to optimize your prompts with a visual user interface for different settings and a prompting history (trust me, this can save your life!). See also the [Text Classification](../processing/classification.qmd) chapter.\n",
        "\n",
        "**Prompts:** We're going to use the **system prompt** for our instructions, and the **user prompt** to send our content."
      ]
    },
    {
      "cell_type": "markdown",
      "metadata": {},
      "source": [
        "### Import from Publish or Perish Data.\n",
        " If this is the start of your review process, upload the `csv` file exported from [Publish or Perish](https://harzing.com/resources/publish-or-perish) in the left-hand *Files* pane. Enter the filename in `publish_or_perish_file_name`. Define the output name in `file_name`. If you want to save the imported file in the google drive add `/content/drive/MyDrive/` to the path. <br/> **Skip this cell if you want to work with a file that has been imported in the past.**\n"
      ]
    },
    {
      "cell_type": "code",
      "execution_count": 4,
      "metadata": {
        "cellView": "form",
        "colab": {
          "base_uri": "https://localhost:8080/"
        },
        "id": "qVDJxnENyXyq",
        "outputId": "3bfa2ad4-37d3-4904-b39a-507c9cdec599"
      },
      "outputs": [
        {
          "name": "stdout",
          "output_type": "stream",
          "text": [
            "Removed 114 rows without DOI.\n",
            "Removed 0 duplicates based on DOI.\n",
            "Sorted Table by Cites.\n",
            "Initialized Columns\n",
            "Success: Saved data to 2024-10-24-Literature-Review.csv\n",
            "Success: Data loaded from File \"2024-10-24-Literature-Review.csv\".\n"
          ]
        }
      ],
      "source": [
        "import pandas as pd\n",
        "import numpy as np\n",
        "import io\n",
        "\n",
        "publish_or_perish_file_name = \"/content/2024-10-24-Lit-Review-Seminar.csv\" # @param {type: \"string\"}\n",
        "file_name = \"2024-10-24-Literature-Review.csv\" # @param {type: \"string\"}\n",
        "\n",
        "# Initialize empty DataFrame\n",
        "all_data = pd.DataFrame()\n",
        "\n",
        "\n",
        "try:\n",
        "    all_data = pd.read_csv(publish_or_perish_file_name)\n",
        "\n",
        "    # Remove missing DOIs\n",
        "    initial_len = len(all_data)\n",
        "    all_data = all_data[~pd.isna(all_data['DOI'])]\n",
        "    removed_len = initial_len - len(all_data)\n",
        "    print(f'Removed {removed_len} rows without DOI.')\n",
        "\n",
        "    # Remove Duplicates\n",
        "    initial_len = len(all_data)\n",
        "    all_data = all_data.drop_duplicates(subset='DOI', keep='first')\n",
        "    removed_len = initial_len - len(all_data)\n",
        "    print(f'Removed {removed_len} duplicates based on DOI.')\n",
        "\n",
        "    all_data = all_data.sort_values(by='Cites', ascending=False).reset_index(drop=True)\n",
        "\n",
        "    print('Sorted Table by Cites.')\n",
        "\n",
        "    # Create empty columns for Literature Review\n",
        "    all_data[\"Relevant\"] = \"\"\n",
        "    all_data[\"Notes\"] = \"\"\n",
        "    all_data[\"Checked\"] = False\n",
        "\n",
        "    print('Initialized Columns')\n",
        "\n",
        "    all_data.to_csv(file_name)\n",
        "    print(f\"Success: Saved data to {file_name}\")\n",
        "\n",
        "    print(f'Success: Data loaded from File \"{file_name}\".')\n",
        "except Exception as e:\n",
        "    print(f\"Error: Failed to load data from File. {str(e)}\")"
      ]
    },
    {
      "cell_type": "markdown",
      "metadata": {},
      "source": [
        "### Read previously imported File\n",
        "If you want to keep going with a former review process, we can read an uploaded file / a file from google drive. **Only run one cell, this one or the above.**"
      ]
    },
    {
      "cell_type": "code",
      "execution_count": null,
      "metadata": {
        "cellView": "form",
        "colab": {
          "base_uri": "https://localhost:8080/"
        },
        "id": "iixJcNUUm3QF",
        "outputId": "0dff9185-d759-443b-e47c-9b5e82e2a6c2"
      },
      "outputs": [
        {
          "name": "stdout",
          "output_type": "stream",
          "text": [
            "Success: Data loaded from File \"2023-10-31-Literature-Review.csv\".\n"
          ]
        }
      ],
      "source": [
        "import pandas as pd\n",
        "import numpy as np\n",
        "import io\n",
        "\n",
        "file_name = \"2023-10-31-Literature-Review.csv\" # @param {type: \"string\"}\n",
        "\n",
        "try:\n",
        "    all_data = pd.read_csv(file_name)\n",
        "\n",
        "    print(f'Success: Data loaded from File \"{file_name}\".')\n",
        "except Exception as e:\n",
        "    print(f\"Error: Failed to load data from File. {str(e)}\")"
      ]
    },
    {
      "cell_type": "markdown",
      "metadata": {
        "id": "8xMdEPeOobA_"
      },
      "source": [
        "In this example we've saved the file locally. When working with Colab, the file will be deleted when we disconnect. For colab you should link your google drive (open the files pane on the left, click the Google Drive button). Once connected, save the file in the folder `/content/drive/MyDrive/YOUR-FILENAME.csv`. It will be accessible through Drive, and Colab is from now on going to connect automatically to drive.\n",
        "\n",
        "Check the imported data. We're using pandas, the imported data is saved in the `all_data`variable. `head(2)`displays the two top rows of the table. Additionally, we have added three columns: `Relevant`, `Notes`, and `Checked`. We are going to make use of them to keep track of our progress."
      ]
    },
    {
      "cell_type": "code",
      "execution_count": 5,
      "metadata": {
        "colab": {
          "base_uri": "https://localhost:8080/",
          "height": 370
        },
        "id": "5qaAJSF1omZe",
        "outputId": "6b4e59ca-8db9-4a2f-e449-86e170dfde47"
      },
      "outputs": [
        {
          "data": {
            "application/vnd.google.colaboratory.intrinsic+json": {
              "type": "dataframe",
              "variable_name": "all_data"
            },
            "text/html": [
              "\n",
              "  <div id=\"df-48354e6a-e9a4-4226-9a1e-d4d9283a443e\" class=\"colab-df-container\">\n",
              "    <div>\n",
              "<style scoped>\n",
              "    .dataframe tbody tr th:only-of-type {\n",
              "        vertical-align: middle;\n",
              "    }\n",
              "\n",
              "    .dataframe tbody tr th {\n",
              "        vertical-align: top;\n",
              "    }\n",
              "\n",
              "    .dataframe thead th {\n",
              "        text-align: right;\n",
              "    }\n",
              "</style>\n",
              "<table border=\"1\" class=\"dataframe\">\n",
              "  <thead>\n",
              "    <tr style=\"text-align: right;\">\n",
              "      <th></th>\n",
              "      <th>Cites</th>\n",
              "      <th>Authors</th>\n",
              "      <th>Title</th>\n",
              "      <th>Year</th>\n",
              "      <th>Source</th>\n",
              "      <th>Publisher</th>\n",
              "      <th>ArticleURL</th>\n",
              "      <th>CitesURL</th>\n",
              "      <th>GSRank</th>\n",
              "      <th>QueryDate</th>\n",
              "      <th>...</th>\n",
              "      <th>CitesPerYear</th>\n",
              "      <th>CitesPerAuthor</th>\n",
              "      <th>AuthorCount</th>\n",
              "      <th>Age</th>\n",
              "      <th>Abstract</th>\n",
              "      <th>FullTextURL</th>\n",
              "      <th>RelatedURL</th>\n",
              "      <th>Relevant</th>\n",
              "      <th>Notes</th>\n",
              "      <th>Checked</th>\n",
              "    </tr>\n",
              "  </thead>\n",
              "  <tbody>\n",
              "    <tr>\n",
              "      <th>0</th>\n",
              "      <td>764</td>\n",
              "      <td>A Ceron, L Curini, SM Iacus, G Porro</td>\n",
              "      <td>Every tweet counts? How sentiment analysis of ...</td>\n",
              "      <td>2014.0</td>\n",
              "      <td>New media &amp;society</td>\n",
              "      <td>journals.sagepub.com</td>\n",
              "      <td>https://journals.sagepub.com/doi/abs/10.1177/1...</td>\n",
              "      <td>https://scholar.google.com/scholar?cites=18273...</td>\n",
              "      <td>175</td>\n",
              "      <td>2024-10-16 10:47:35</td>\n",
              "      <td>...</td>\n",
              "      <td>76.4</td>\n",
              "      <td>191</td>\n",
              "      <td>4</td>\n",
              "      <td>10.0</td>\n",
              "      <td>… Due to recent developments in quantitative t...</td>\n",
              "      <td>https://journals.sagepub.com/doi/full/10.1177/...</td>\n",
              "      <td>https://scholar.google.com/scholar?q=related:J...</td>\n",
              "      <td></td>\n",
              "      <td></td>\n",
              "      <td>False</td>\n",
              "    </tr>\n",
              "    <tr>\n",
              "      <th>1</th>\n",
              "      <td>470</td>\n",
              "      <td>M Lalancette, V Raynauld</td>\n",
              "      <td>The power of political image: Justin Trudeau, ...</td>\n",
              "      <td>2019.0</td>\n",
              "      <td>American behavioral scientist</td>\n",
              "      <td>journals.sagepub.com</td>\n",
              "      <td>https://journals.sagepub.com/doi/abs/10.1177/0...</td>\n",
              "      <td>https://scholar.google.com/scholar?cites=15892...</td>\n",
              "      <td>38</td>\n",
              "      <td>2024-10-16 10:47:35</td>\n",
              "      <td>...</td>\n",
              "      <td>94.0</td>\n",
              "      <td>235</td>\n",
              "      <td>2</td>\n",
              "      <td>5.0</td>\n",
              "      <td>… As few studies have been done on Instagram-b...</td>\n",
              "      <td>https://journals.sagepub.com/doi/full/10.1177/...</td>\n",
              "      <td>https://scholar.google.com/scholar?q=related:7...</td>\n",
              "      <td></td>\n",
              "      <td></td>\n",
              "      <td>False</td>\n",
              "    </tr>\n",
              "  </tbody>\n",
              "</table>\n",
              "<p>2 rows × 29 columns</p>\n",
              "</div>\n",
              "    <div class=\"colab-df-buttons\">\n",
              "\n",
              "  <div class=\"colab-df-container\">\n",
              "    <button class=\"colab-df-convert\" onclick=\"convertToInteractive('df-48354e6a-e9a4-4226-9a1e-d4d9283a443e')\"\n",
              "            title=\"Convert this dataframe to an interactive table.\"\n",
              "            style=\"display:none;\">\n",
              "\n",
              "  <svg xmlns=\"http://www.w3.org/2000/svg\" height=\"24px\" viewBox=\"0 -960 960 960\">\n",
              "    <path d=\"M120-120v-720h720v720H120Zm60-500h600v-160H180v160Zm220 220h160v-160H400v160Zm0 220h160v-160H400v160ZM180-400h160v-160H180v160Zm440 0h160v-160H620v160ZM180-180h160v-160H180v160Zm440 0h160v-160H620v160Z\"/>\n",
              "  </svg>\n",
              "    </button>\n",
              "\n",
              "  <style>\n",
              "    .colab-df-container {\n",
              "      display:flex;\n",
              "      gap: 12px;\n",
              "    }\n",
              "\n",
              "    .colab-df-convert {\n",
              "      background-color: #E8F0FE;\n",
              "      border: none;\n",
              "      border-radius: 50%;\n",
              "      cursor: pointer;\n",
              "      display: none;\n",
              "      fill: #1967D2;\n",
              "      height: 32px;\n",
              "      padding: 0 0 0 0;\n",
              "      width: 32px;\n",
              "    }\n",
              "\n",
              "    .colab-df-convert:hover {\n",
              "      background-color: #E2EBFA;\n",
              "      box-shadow: 0px 1px 2px rgba(60, 64, 67, 0.3), 0px 1px 3px 1px rgba(60, 64, 67, 0.15);\n",
              "      fill: #174EA6;\n",
              "    }\n",
              "\n",
              "    .colab-df-buttons div {\n",
              "      margin-bottom: 4px;\n",
              "    }\n",
              "\n",
              "    [theme=dark] .colab-df-convert {\n",
              "      background-color: #3B4455;\n",
              "      fill: #D2E3FC;\n",
              "    }\n",
              "\n",
              "    [theme=dark] .colab-df-convert:hover {\n",
              "      background-color: #434B5C;\n",
              "      box-shadow: 0px 1px 3px 1px rgba(0, 0, 0, 0.15);\n",
              "      filter: drop-shadow(0px 1px 2px rgba(0, 0, 0, 0.3));\n",
              "      fill: #FFFFFF;\n",
              "    }\n",
              "  </style>\n",
              "\n",
              "    <script>\n",
              "      const buttonEl =\n",
              "        document.querySelector('#df-48354e6a-e9a4-4226-9a1e-d4d9283a443e button.colab-df-convert');\n",
              "      buttonEl.style.display =\n",
              "        google.colab.kernel.accessAllowed ? 'block' : 'none';\n",
              "\n",
              "      async function convertToInteractive(key) {\n",
              "        const element = document.querySelector('#df-48354e6a-e9a4-4226-9a1e-d4d9283a443e');\n",
              "        const dataTable =\n",
              "          await google.colab.kernel.invokeFunction('convertToInteractive',\n",
              "                                                    [key], {});\n",
              "        if (!dataTable) return;\n",
              "\n",
              "        const docLinkHtml = 'Like what you see? Visit the ' +\n",
              "          '<a target=\"_blank\" href=https://colab.research.google.com/notebooks/data_table.ipynb>data table notebook</a>'\n",
              "          + ' to learn more about interactive tables.';\n",
              "        element.innerHTML = '';\n",
              "        dataTable['output_type'] = 'display_data';\n",
              "        await google.colab.output.renderOutput(dataTable, element);\n",
              "        const docLink = document.createElement('div');\n",
              "        docLink.innerHTML = docLinkHtml;\n",
              "        element.appendChild(docLink);\n",
              "      }\n",
              "    </script>\n",
              "  </div>\n",
              "\n",
              "\n",
              "<div id=\"df-7a305f00-2457-4c5a-bced-5aca760f27e1\">\n",
              "  <button class=\"colab-df-quickchart\" onclick=\"quickchart('df-7a305f00-2457-4c5a-bced-5aca760f27e1')\"\n",
              "            title=\"Suggest charts\"\n",
              "            style=\"display:none;\">\n",
              "\n",
              "<svg xmlns=\"http://www.w3.org/2000/svg\" height=\"24px\"viewBox=\"0 0 24 24\"\n",
              "     width=\"24px\">\n",
              "    <g>\n",
              "        <path d=\"M19 3H5c-1.1 0-2 .9-2 2v14c0 1.1.9 2 2 2h14c1.1 0 2-.9 2-2V5c0-1.1-.9-2-2-2zM9 17H7v-7h2v7zm4 0h-2V7h2v10zm4 0h-2v-4h2v4z\"/>\n",
              "    </g>\n",
              "</svg>\n",
              "  </button>\n",
              "\n",
              "<style>\n",
              "  .colab-df-quickchart {\n",
              "      --bg-color: #E8F0FE;\n",
              "      --fill-color: #1967D2;\n",
              "      --hover-bg-color: #E2EBFA;\n",
              "      --hover-fill-color: #174EA6;\n",
              "      --disabled-fill-color: #AAA;\n",
              "      --disabled-bg-color: #DDD;\n",
              "  }\n",
              "\n",
              "  [theme=dark] .colab-df-quickchart {\n",
              "      --bg-color: #3B4455;\n",
              "      --fill-color: #D2E3FC;\n",
              "      --hover-bg-color: #434B5C;\n",
              "      --hover-fill-color: #FFFFFF;\n",
              "      --disabled-bg-color: #3B4455;\n",
              "      --disabled-fill-color: #666;\n",
              "  }\n",
              "\n",
              "  .colab-df-quickchart {\n",
              "    background-color: var(--bg-color);\n",
              "    border: none;\n",
              "    border-radius: 50%;\n",
              "    cursor: pointer;\n",
              "    display: none;\n",
              "    fill: var(--fill-color);\n",
              "    height: 32px;\n",
              "    padding: 0;\n",
              "    width: 32px;\n",
              "  }\n",
              "\n",
              "  .colab-df-quickchart:hover {\n",
              "    background-color: var(--hover-bg-color);\n",
              "    box-shadow: 0 1px 2px rgba(60, 64, 67, 0.3), 0 1px 3px 1px rgba(60, 64, 67, 0.15);\n",
              "    fill: var(--button-hover-fill-color);\n",
              "  }\n",
              "\n",
              "  .colab-df-quickchart-complete:disabled,\n",
              "  .colab-df-quickchart-complete:disabled:hover {\n",
              "    background-color: var(--disabled-bg-color);\n",
              "    fill: var(--disabled-fill-color);\n",
              "    box-shadow: none;\n",
              "  }\n",
              "\n",
              "  .colab-df-spinner {\n",
              "    border: 2px solid var(--fill-color);\n",
              "    border-color: transparent;\n",
              "    border-bottom-color: var(--fill-color);\n",
              "    animation:\n",
              "      spin 1s steps(1) infinite;\n",
              "  }\n",
              "\n",
              "  @keyframes spin {\n",
              "    0% {\n",
              "      border-color: transparent;\n",
              "      border-bottom-color: var(--fill-color);\n",
              "      border-left-color: var(--fill-color);\n",
              "    }\n",
              "    20% {\n",
              "      border-color: transparent;\n",
              "      border-left-color: var(--fill-color);\n",
              "      border-top-color: var(--fill-color);\n",
              "    }\n",
              "    30% {\n",
              "      border-color: transparent;\n",
              "      border-left-color: var(--fill-color);\n",
              "      border-top-color: var(--fill-color);\n",
              "      border-right-color: var(--fill-color);\n",
              "    }\n",
              "    40% {\n",
              "      border-color: transparent;\n",
              "      border-right-color: var(--fill-color);\n",
              "      border-top-color: var(--fill-color);\n",
              "    }\n",
              "    60% {\n",
              "      border-color: transparent;\n",
              "      border-right-color: var(--fill-color);\n",
              "    }\n",
              "    80% {\n",
              "      border-color: transparent;\n",
              "      border-right-color: var(--fill-color);\n",
              "      border-bottom-color: var(--fill-color);\n",
              "    }\n",
              "    90% {\n",
              "      border-color: transparent;\n",
              "      border-bottom-color: var(--fill-color);\n",
              "    }\n",
              "  }\n",
              "</style>\n",
              "\n",
              "  <script>\n",
              "    async function quickchart(key) {\n",
              "      const quickchartButtonEl =\n",
              "        document.querySelector('#' + key + ' button');\n",
              "      quickchartButtonEl.disabled = true;  // To prevent multiple clicks.\n",
              "      quickchartButtonEl.classList.add('colab-df-spinner');\n",
              "      try {\n",
              "        const charts = await google.colab.kernel.invokeFunction(\n",
              "            'suggestCharts', [key], {});\n",
              "      } catch (error) {\n",
              "        console.error('Error during call to suggestCharts:', error);\n",
              "      }\n",
              "      quickchartButtonEl.classList.remove('colab-df-spinner');\n",
              "      quickchartButtonEl.classList.add('colab-df-quickchart-complete');\n",
              "    }\n",
              "    (() => {\n",
              "      let quickchartButtonEl =\n",
              "        document.querySelector('#df-7a305f00-2457-4c5a-bced-5aca760f27e1 button');\n",
              "      quickchartButtonEl.style.display =\n",
              "        google.colab.kernel.accessAllowed ? 'block' : 'none';\n",
              "    })();\n",
              "  </script>\n",
              "</div>\n",
              "\n",
              "    </div>\n",
              "  </div>\n"
            ],
            "text/plain": [
              "   Cites                               Authors  \\\n",
              "0    764  A Ceron, L Curini, SM Iacus, G Porro   \n",
              "1    470              M Lalancette, V Raynauld   \n",
              "\n",
              "                                               Title    Year  \\\n",
              "0  Every tweet counts? How sentiment analysis of ...  2014.0   \n",
              "1  The power of political image: Justin Trudeau, ...  2019.0   \n",
              "\n",
              "                          Source             Publisher  \\\n",
              "0             New media &society  journals.sagepub.com   \n",
              "1  American behavioral scientist  journals.sagepub.com   \n",
              "\n",
              "                                          ArticleURL  \\\n",
              "0  https://journals.sagepub.com/doi/abs/10.1177/1...   \n",
              "1  https://journals.sagepub.com/doi/abs/10.1177/0...   \n",
              "\n",
              "                                            CitesURL  GSRank  \\\n",
              "0  https://scholar.google.com/scholar?cites=18273...     175   \n",
              "1  https://scholar.google.com/scholar?cites=15892...      38   \n",
              "\n",
              "             QueryDate  ... CitesPerYear CitesPerAuthor  AuthorCount   Age  \\\n",
              "0  2024-10-16 10:47:35  ...         76.4            191            4  10.0   \n",
              "1  2024-10-16 10:47:35  ...         94.0            235            2   5.0   \n",
              "\n",
              "                                            Abstract  \\\n",
              "0  … Due to recent developments in quantitative t...   \n",
              "1  … As few studies have been done on Instagram-b...   \n",
              "\n",
              "                                         FullTextURL  \\\n",
              "0  https://journals.sagepub.com/doi/full/10.1177/...   \n",
              "1  https://journals.sagepub.com/doi/full/10.1177/...   \n",
              "\n",
              "                                          RelatedURL  Relevant  Notes  Checked  \n",
              "0  https://scholar.google.com/scholar?q=related:J...                     False  \n",
              "1  https://scholar.google.com/scholar?q=related:7...                     False  \n",
              "\n",
              "[2 rows x 29 columns]"
            ]
          },
          "execution_count": 5,
          "metadata": {},
          "output_type": "execute_result"
        }
      ],
      "source": [
        "# Check the structure (and content) of the file\n",
        "all_data.head(2)"
      ]
    },
    {
      "cell_type": "markdown",
      "metadata": {
        "id": "LsiM0hlypQj-"
      },
      "source": [
        "In the next step we are going to start our literature review:\n",
        "1. We filter for the first unchecked row, ordered by the cite count.\n",
        "2. We retrieve the abstract from [CrossRef API](https://www.crossref.org/documentation/retrieve-metadata/rest-api/) using the [DOI](https://en.wikipedia.org/wiki/Digital_object_identifier).\n",
        "3. We display all information\n",
        "4. We answer whether the paper appear to be relevant by entering y or n for **y**es or **n**o.\n",
        "\n",
        "For our session, the cell only runs through one row and finishes afterwards. For a real world application you'd probably like to add some kind of loop."
      ]
    },
    {
      "cell_type": "code",
      "execution_count": 8,
      "metadata": {
        "colab": {
          "base_uri": "https://localhost:8080/",
          "height": 407
        },
        "id": "tlmQi90Hd_Hw",
        "outputId": "ace6acb3-51ab-41c7-afdf-e5c2f013f427"
      },
      "outputs": [
        {
          "data": {
            "text/html": [
              "<h2>Every tweet counts? How sentiment analysis of social media can improve our knowledge of citizens' political preferences with an application to Italy and France</h2>"
            ],
            "text/plain": [
              "<IPython.core.display.HTML object>"
            ]
          },
          "metadata": {},
          "output_type": "display_data"
        },
        {
          "data": {
            "text/html": [
              "<p>A Ceron, L Curini, SM Iacus, G Porro</p>"
            ],
            "text/plain": [
              "<IPython.core.display.HTML object>"
            ]
          },
          "metadata": {},
          "output_type": "display_data"
        },
        {
          "data": {
            "text/html": [
              "<p><a target='_blank' href='https://doi.org/10.1177/1461444813480466'>10.1177/1461444813480466</a></p>"
            ],
            "text/plain": [
              "<IPython.core.display.HTML object>"
            ]
          },
          "metadata": {},
          "output_type": "display_data"
        },
        {
          "name": "stdout",
          "output_type": "stream",
          "text": [
            " The growing usage of social media by a wider audience of citizens sharply\n",
            "increases the possibility of investigating the web as a device to explore and\n",
            "track political preferences. In the present paper we apply a method recently\n",
            "proposed by other social scientists to three different scenarios, by analyzing\n",
            "on one side the online popularity of Italian political leaders throughout 2011,\n",
            "and on the other the voting intention of French Internet users in both the 2012\n",
            "presidential ballot and the subsequent legislative election. While Internet\n",
            "users are not necessarily representative of the whole population of a country’s\n",
            "citizens, our analysis shows a remarkable ability for social media to forecast\n",
            "electoral results, as well as a noteworthy correlation between social media and\n",
            "the results of traditional mass surveys. We also illustrate that the predictive\n",
            "ability of social media analysis strengthens as the number of citizens\n",
            "expressing their opinion online increases, provided that the citizens act\n",
            "consistently on these opinions.\n",
            "Relevant? (y/n): y\n"
          ]
        }
      ],
      "source": [
        "from crossref_commons.retrieval import get_publication_as_json\n",
        "import json\n",
        "import openai\n",
        "import textwrap\n",
        "import IPython\n",
        "import re\n",
        "\n",
        "# Get one row: Not checked, highest Citation count.\n",
        "highest_cites_unchecked = all_data[all_data['Checked'] == False].sort_values(by=\"Cites\", ascending=False).iloc[0]\n",
        "index = highest_cites_unchecked.name\n",
        "\n",
        "# Retrieve Abstract from Crossref\n",
        "response = get_publication_as_json(highest_cites_unchecked['DOI'])\n",
        "abstract =  response.get(\"abstract\", \"\")\n",
        "\n",
        "# Remove XML\n",
        "abstract = re.sub(r'<[^>]+>', '', abstract)\n",
        "all_data.loc[index, 'Abstract'] = abstract\n",
        "\n",
        "\n",
        "# Display all information\n",
        "IPython.display.clear_output(wait=True)\n",
        "title_disp = IPython.display.HTML(\"<h2>{}</h2>\".format(highest_cites_unchecked['Title']))\n",
        "authors_disp = IPython.display.HTML(\"<p>{}</p>\".format(highest_cites_unchecked['Authors']))\n",
        "doi_disp = IPython.display.HTML(\"<p><a target='_blank' href='https://doi.org/{}'>{}</a></p>\".format(highest_cites_unchecked['DOI'],highest_cites_unchecked['DOI']))\n",
        "display(title_disp, authors_disp, doi_disp)\n",
        "print(textwrap.fill(abstract, 80))\n",
        "relevant_input = input('Relevant? (y/n): ').lower().strip() == 'y'\n",
        "\n",
        "# Save user input\n",
        "all_data.loc[index, 'Checked'] = True\n",
        "all_data.loc[index, 'Relevant'] = relevant_input"
      ]
    },
    {
      "cell_type": "markdown",
      "metadata": {
        "id": "TEMUGVWaqWPn"
      },
      "source": [
        "Next, we check whether our input has been saved:"
      ]
    },
    {
      "cell_type": "code",
      "execution_count": 9,
      "metadata": {
        "colab": {
          "base_uri": "https://localhost:8080/",
          "height": 994
        },
        "id": "UPvuxfbrhIzK",
        "outputId": "5e128c42-32c9-474b-8ea5-1307370b135f"
      },
      "outputs": [
        {
          "data": {
            "text/html": [
              "<div>\n",
              "<style scoped>\n",
              "    .dataframe tbody tr th:only-of-type {\n",
              "        vertical-align: middle;\n",
              "    }\n",
              "\n",
              "    .dataframe tbody tr th {\n",
              "        vertical-align: top;\n",
              "    }\n",
              "\n",
              "    .dataframe thead th {\n",
              "        text-align: right;\n",
              "    }\n",
              "</style>\n",
              "<table border=\"1\" class=\"dataframe\">\n",
              "  <thead>\n",
              "    <tr style=\"text-align: right;\">\n",
              "      <th></th>\n",
              "      <th>0</th>\n",
              "    </tr>\n",
              "  </thead>\n",
              "  <tbody>\n",
              "    <tr>\n",
              "      <th>Cites</th>\n",
              "      <td>764</td>\n",
              "    </tr>\n",
              "    <tr>\n",
              "      <th>Authors</th>\n",
              "      <td>A Ceron, L Curini, SM Iacus, G Porro</td>\n",
              "    </tr>\n",
              "    <tr>\n",
              "      <th>Title</th>\n",
              "      <td>Every tweet counts? How sentiment analysis of ...</td>\n",
              "    </tr>\n",
              "    <tr>\n",
              "      <th>Year</th>\n",
              "      <td>2014.0</td>\n",
              "    </tr>\n",
              "    <tr>\n",
              "      <th>Source</th>\n",
              "      <td>New media &amp;society</td>\n",
              "    </tr>\n",
              "    <tr>\n",
              "      <th>Publisher</th>\n",
              "      <td>journals.sagepub.com</td>\n",
              "    </tr>\n",
              "    <tr>\n",
              "      <th>ArticleURL</th>\n",
              "      <td>https://journals.sagepub.com/doi/abs/10.1177/1...</td>\n",
              "    </tr>\n",
              "    <tr>\n",
              "      <th>CitesURL</th>\n",
              "      <td>https://scholar.google.com/scholar?cites=18273...</td>\n",
              "    </tr>\n",
              "    <tr>\n",
              "      <th>GSRank</th>\n",
              "      <td>175</td>\n",
              "    </tr>\n",
              "    <tr>\n",
              "      <th>QueryDate</th>\n",
              "      <td>2024-10-16 10:47:35</td>\n",
              "    </tr>\n",
              "    <tr>\n",
              "      <th>Type</th>\n",
              "      <td>NaN</td>\n",
              "    </tr>\n",
              "    <tr>\n",
              "      <th>DOI</th>\n",
              "      <td>10.1177/1461444813480466</td>\n",
              "    </tr>\n",
              "    <tr>\n",
              "      <th>ISSN</th>\n",
              "      <td>NaN</td>\n",
              "    </tr>\n",
              "    <tr>\n",
              "      <th>CitationURL</th>\n",
              "      <td>NaN</td>\n",
              "    </tr>\n",
              "    <tr>\n",
              "      <th>Volume</th>\n",
              "      <td>NaN</td>\n",
              "    </tr>\n",
              "    <tr>\n",
              "      <th>Issue</th>\n",
              "      <td>NaN</td>\n",
              "    </tr>\n",
              "    <tr>\n",
              "      <th>StartPage</th>\n",
              "      <td>NaN</td>\n",
              "    </tr>\n",
              "    <tr>\n",
              "      <th>EndPage</th>\n",
              "      <td>NaN</td>\n",
              "    </tr>\n",
              "    <tr>\n",
              "      <th>ECC</th>\n",
              "      <td>764</td>\n",
              "    </tr>\n",
              "    <tr>\n",
              "      <th>CitesPerYear</th>\n",
              "      <td>76.4</td>\n",
              "    </tr>\n",
              "    <tr>\n",
              "      <th>CitesPerAuthor</th>\n",
              "      <td>191</td>\n",
              "    </tr>\n",
              "    <tr>\n",
              "      <th>AuthorCount</th>\n",
              "      <td>4</td>\n",
              "    </tr>\n",
              "    <tr>\n",
              "      <th>Age</th>\n",
              "      <td>10.0</td>\n",
              "    </tr>\n",
              "    <tr>\n",
              "      <th>Abstract</th>\n",
              "      <td>The growing usage of social media by a wider ...</td>\n",
              "    </tr>\n",
              "    <tr>\n",
              "      <th>FullTextURL</th>\n",
              "      <td>https://journals.sagepub.com/doi/full/10.1177/...</td>\n",
              "    </tr>\n",
              "    <tr>\n",
              "      <th>RelatedURL</th>\n",
              "      <td>https://scholar.google.com/scholar?q=related:J...</td>\n",
              "    </tr>\n",
              "    <tr>\n",
              "      <th>Relevant</th>\n",
              "      <td>True</td>\n",
              "    </tr>\n",
              "    <tr>\n",
              "      <th>Notes</th>\n",
              "      <td></td>\n",
              "    </tr>\n",
              "    <tr>\n",
              "      <th>Checked</th>\n",
              "      <td>True</td>\n",
              "    </tr>\n",
              "  </tbody>\n",
              "</table>\n",
              "</div><br><label><b>dtype:</b> object</label>"
            ],
            "text/plain": [
              "Cites                                                           764\n",
              "Authors                        A Ceron, L Curini, SM Iacus, G Porro\n",
              "Title             Every tweet counts? How sentiment analysis of ...\n",
              "Year                                                         2014.0\n",
              "Source                                           New media &society\n",
              "Publisher                                      journals.sagepub.com\n",
              "ArticleURL        https://journals.sagepub.com/doi/abs/10.1177/1...\n",
              "CitesURL          https://scholar.google.com/scholar?cites=18273...\n",
              "GSRank                                                          175\n",
              "QueryDate                                       2024-10-16 10:47:35\n",
              "Type                                                            NaN\n",
              "DOI                                        10.1177/1461444813480466\n",
              "ISSN                                                            NaN\n",
              "CitationURL                                                     NaN\n",
              "Volume                                                          NaN\n",
              "Issue                                                           NaN\n",
              "StartPage                                                       NaN\n",
              "EndPage                                                         NaN\n",
              "ECC                                                             764\n",
              "CitesPerYear                                                   76.4\n",
              "CitesPerAuthor                                                  191\n",
              "AuthorCount                                                       4\n",
              "Age                                                            10.0\n",
              "Abstract           The growing usage of social media by a wider ...\n",
              "FullTextURL       https://journals.sagepub.com/doi/full/10.1177/...\n",
              "RelatedURL        https://scholar.google.com/scholar?q=related:J...\n",
              "Relevant                                                       True\n",
              "Notes                                                              \n",
              "Checked                                                        True\n",
              "Name: 0, dtype: object"
            ]
          },
          "execution_count": 9,
          "metadata": {},
          "output_type": "execute_result"
        }
      ],
      "source": [
        "# Check the result\n",
        "all_data.iloc[index]"
      ]
    },
    {
      "cell_type": "code",
      "execution_count": 10,
      "metadata": {
        "id": "S55s7wPAieZn"
      },
      "outputs": [],
      "source": [
        "system_prompt = \"\"\"\n",
        "You are an advanced AI research assistant. Your task is to extract the following information from the given research abstract:\n",
        "\n",
        "- Research Questions\n",
        "- Operationalization\n",
        "- Data Sources\n",
        "- Population\n",
        "- Scientific Disciplines\n",
        "\n",
        "If any of the above information is not available in the abstract, return \"None\" for that field.\n",
        "\n",
        "**Output Format:**\n",
        "\n",
        "Return the extracted information in the following JSON format:\n",
        "\n",
        "{\n",
        "  \"research_questions\": \"...\",\n",
        "  \"operationalization\": \"...\",\n",
        "  \"data_sources\": \"...\",\n",
        "  \"population\": \"...\",\n",
        "  \"scientific_disciplines\": \"...\"\n",
        "}\n",
        "\n",
        "Ensure the JSON is properly formatted.\n",
        "\"\"\""
      ]
    },
    {
      "cell_type": "markdown",
      "metadata": {
        "id": "z5kNsRUHYhor"
      },
      "source": [
        "The following lines initialize access to the OpenAI API, allowing us to make GPT requests directly from this notebook. Here's a breakdown of each part:\n",
        "\n",
        "1. **API Key Setup**: We retrieve the API key securely from Colab’s `userdata` storage. Ensure your key is stored with the name specified in `api_key_name`.\n",
        "2. **OpenAI Initialization**: By passing the API key to the OpenAI client, we can now make requests to the API for GPT-powered text analysis.\n"
      ]
    },
    {
      "cell_type": "markdown",
      "metadata": {},
      "source": [
        "::: {.callout-tip}\n",
        "## OpenAI Basics\n",
        "Information on how to set up the OpenAI API Keys is available on the [OpenAI Basics page.](../basics/openai.qmd)\n",
        ":::"
      ]
    },
    {
      "cell_type": "code",
      "execution_count": 11,
      "metadata": {
        "cellView": "form",
        "id": "2YWERXBBYOaA"
      },
      "outputs": [],
      "source": [
        "import openai\n",
        "from google.colab import userdata\n",
        "import backoff\n",
        "import json\n",
        "\n",
        "# Fetch the API key from Colab\n",
        "api_key_name = \"openai-forschung-mad\"  # @param {type: \"string\"}\n",
        "api_key = userdata.get(api_key_name)\n",
        "\n",
        "# Initialize OpenAI with the provided API key\n",
        "client = openai.OpenAI(api_key=api_key)"
      ]
    },
    {
      "cell_type": "markdown",
      "metadata": {
        "id": "6Sz50QHvZIsF"
      },
      "source": [
        "Next, we define the `get_gpt_extracted_data` function, which sends a formatted request to GPT-4 with the research paper’s title and abstract. This function uses retry logic to handle any API errors, automatically retrying the request if needed. Upon success, the extracted information is returned in JSON format, making it straightforward to parse and analyze the results.\n"
      ]
    },
    {
      "cell_type": "code",
      "execution_count": 15,
      "metadata": {
        "id": "-kl5Le83ZAyc"
      },
      "outputs": [],
      "source": [
        "# Retry logic in case of API errors using backoff\n",
        "@backoff.on_exception(backoff.expo, openai.APIError, max_tries=8)\n",
        "def get_gpt_extracted_data(title, abstract):\n",
        "    try:\n",
        "        response = client.chat.completions.create(\n",
        "            model=\"gpt-4o-mini\",  #\n",
        "            temperature=0,\n",
        "            messages=[\n",
        "                {\"role\": \"system\", \"content\": system_prompt},\n",
        "                {\"role\": \"user\", \"content\": f\"\"\"**{title}** \\n **Abstract:** {abstract}\"\"\"},\n",
        "            ],\n",
        "            response_format= { \"type\": \"json_object\" }\n",
        "        )\n",
        "\n",
        "        gpt_result = response.choices[0].message.content\n",
        "        return json.loads(gpt_result)\n",
        "\n",
        "    except Exception as e:\n",
        "        return f\"GPT API Error: {str(e)}\""
      ]
    },
    {
      "cell_type": "markdown",
      "metadata": {
        "id": "c6doRGjfrEtK"
      },
      "source": [
        "We have changed the cell to include the `gpt_prompt` variable, which sends the title and abstract as a **user prompt**. We're using the `get_gpt_extracted_data(title, abstract)` method that we defined above, to send our request to the API. We expect the response in `response.choices[0].message.content` to be JSON. Visit the [OpenAI Docs](https://platform.openai.com/docs/api-reference/introduction) for more information."
      ]
    },
    {
      "cell_type": "code",
      "execution_count": 16,
      "metadata": {
        "colab": {
          "base_uri": "https://localhost:8080/",
          "height": 784
        },
        "id": "uHbHo0F1iiCG",
        "outputId": "bae8d991-4490-4885-e90b-a77a0c407105"
      },
      "outputs": [
        {
          "data": {
            "text/markdown": [
              "## The power of political image: Justin Trudeau, Instagram, and celebrity politics"
            ],
            "text/plain": [
              "<IPython.core.display.Markdown object>"
            ]
          },
          "metadata": {},
          "output_type": "display_data"
        },
        {
          "data": {
            "text/markdown": [
              "**Authors**: M Lalancette, V Raynauld"
            ],
            "text/plain": [
              "<IPython.core.display.Markdown object>"
            ]
          },
          "metadata": {},
          "output_type": "display_data"
        },
        {
          "data": {
            "text/markdown": [
              "**DOI**: [https://doi.org/10.1177/0002764217744838](https://doi.org/10.1177/0002764217744838)"
            ],
            "text/plain": [
              "<IPython.core.display.Markdown object>"
            ]
          },
          "metadata": {},
          "output_type": "display_data"
        },
        {
          "data": {
            "text/markdown": [
              "### Abstract\n",
              "\n",
              "This article explores dynamics of online image management and its impact on leadership in a context of digital permanent campaigning and celebrity politics in Canada. Recent studies have shown that images can play a critical role when members of the public are evaluating politicians. Specifically, voters are looking for specific qualities in political leaders, including honesty, intelligence, friendliness, sincerity, and trustworthiness, when making electoral decisions. Image management techniques can help create the impression that politicians possess these qualities. Heads of governments using social media to capture attention through impactful images or videos on an almost daily basis seems like a new norm. Specifically, this article takes interest in Justin Trudeau’s use of Instagram during the first year immediately following his election on October 19, 2015. Through a hybrid quantitative and qualitative approach, we examine how Trudeau and his party convey a specific image to voters in a context of permanent and increasingly personalized campaigning. We do so through an analysis of his Instagram feed focusing on different elements, including how he frames his governing style visually, how his personal life is used on his Instagram to support the Liberal Party of Canada’s values and ideas, and how celebrity culture codes are mobilized to discuss policy issues such as environment, youth, and technology. This analysis sheds light on the effects and implications of image management in Canada. More generally, it offers a much-needed look at image-based e-politicking and contributes to the academic literature on social media, permanent campaigning, as well as celebrity and politics in Canada."
            ],
            "text/plain": [
              "<IPython.core.display.Markdown object>"
            ]
          },
          "metadata": {},
          "output_type": "display_data"
        },
        {
          "data": {
            "text/markdown": [
              "\n",
              "::: warning\n",
              "The following results are generated using AI extraction and may contain inaccuracies. Please review and verify the information before relying on it for further analysis.\n",
              ":::\n"
            ],
            "text/plain": [
              "<IPython.core.display.Markdown object>"
            ]
          },
          "metadata": {},
          "output_type": "display_data"
        },
        {
          "data": {
            "text/markdown": [
              "\n",
              "## GPT Extracted Data\n",
              "\n",
              "### Research Questions\n",
              "How does Justin Trudeau's use of Instagram impact the perception of his leadership qualities among voters in the context of digital permanent campaigning and celebrity politics?\n",
              "\n",
              "### Operationalization\n",
              "Analysis of Trudeau's Instagram feed focusing on visual framing of his governing style, use of personal life to support party values, and mobilization of celebrity culture codes in discussing policy issues.\n",
              "\n",
              "### Data Sources\n",
              "Justin Trudeau's Instagram feed.\n",
              "\n",
              "### Population\n",
              "Voters in Canada.\n",
              "\n",
              "### Scientific Disciplines\n",
              "Political Science, Media Studies, Communication Studies.\n"
            ],
            "text/plain": [
              "<IPython.core.display.Markdown object>"
            ]
          },
          "metadata": {},
          "output_type": "display_data"
        },
        {
          "name": "stdout",
          "output_type": "stream",
          "text": [
            "Relevant? (y/n): y\n"
          ]
        }
      ],
      "source": [
        "from crossref_commons.retrieval import get_publication_as_json\n",
        "import json\n",
        "import textwrap\n",
        "import IPython\n",
        "import re\n",
        "\n",
        "# Get one row: Not checked, highest Citation count.\n",
        "highest_cites_unchecked = all_data[all_data['Checked'] == False].sort_values(by=\"Cites\", ascending=False).iloc[0]\n",
        "index = highest_cites_unchecked.name\n",
        "\n",
        "# Retrieve Abstract from Crossref\n",
        "response = get_publication_as_json(highest_cites_unchecked['DOI'])\n",
        "abstract = response.get(\"abstract\", \"\")\n",
        "\n",
        "# Remove XML tags\n",
        "abstract = re.sub(r'<[^>]+>', '', abstract)\n",
        "all_data.loc[index, 'Abstract'] = abstract\n",
        "\n",
        "# Display all information (before we send the request to OpenAI)\n",
        "IPython.display.clear_output(wait=True)\n",
        "title_disp = IPython.display.Markdown(f\"## {highest_cites_unchecked['Title']}\")\n",
        "authors_disp = IPython.display.Markdown(f\"**Authors**: {highest_cites_unchecked['Authors']}\")\n",
        "doi_disp = IPython.display.Markdown(f\"**DOI**: [https://doi.org/{highest_cites_unchecked['DOI']}](https://doi.org/{highest_cites_unchecked['DOI']})\")\n",
        "abstract_disp = IPython.display.Markdown(f\"### Abstract\\n\\n{abstract}\")\n",
        "display(title_disp, authors_disp, doi_disp, abstract_disp)\n",
        "\n",
        "try:\n",
        "    gpt_results = get_gpt_extracted_data(highest_cites_unchecked['Title'], abstract)\n",
        "\n",
        "    research_questions = gpt_results.get('research_questions', 'None')\n",
        "    operationalization = gpt_results.get('operationalization', 'None')\n",
        "    data_sources = gpt_results.get('data_sources', 'None')\n",
        "    population = gpt_results.get('population', 'None')\n",
        "    disciplines = gpt_results.get('scientific_disciplines', 'None')\n",
        "\n",
        "    # Add callout block warning for Quarto about reliability\n",
        "    warning_disp = IPython.display.Markdown(\"\"\"\n",
        "::: warning\n",
        "The following results are generated using AI extraction and may contain inaccuracies. Please review and verify the information before relying on it for further analysis.\n",
        ":::\n",
        "\"\"\")\n",
        "    display(warning_disp)\n",
        "\n",
        "    # Display the GPT result with Markdown formatting\n",
        "    gpt_disp = IPython.display.Markdown(f\"\"\"\n",
        "## GPT Extracted Data\n",
        "\n",
        "### Research Questions\n",
        "{research_questions}\n",
        "\n",
        "### Operationalization\n",
        "{operationalization}\n",
        "\n",
        "### Data Sources\n",
        "{data_sources}\n",
        "\n",
        "### Population\n",
        "{population}\n",
        "\n",
        "### Scientific Disciplines\n",
        "{disciplines}\n",
        "\"\"\")\n",
        "    display(gpt_disp)\n",
        "except Exception as e:\n",
        "    print(f\"Error displaying GPT results: {str(e)}\")\n",
        "\n",
        "relevant_input = input('Relevant? (y/n): ').lower().strip() == 'y'\n",
        "\n",
        "# Save user input\n",
        "all_data.loc[index, 'Checked'] = True\n",
        "all_data.loc[index, 'Relevant'] = relevant_input\n"
      ]
    },
    {
      "cell_type": "markdown",
      "metadata": {},
      "source": [
        "---\n",
        "The above output shows a formatted table listing all extracted features. In this short warm-up session on GPT we have seen one use case of the LLM: The extraction of text feautures. In future sessions we are going to dive deeper into this topic.\n"
      ]
    },
    {
      "cell_type": "markdown",
      "metadata": {},
      "source": [
        "## Save your Progress\n",
        "The following line saves all progress to `file_name`. If `file_name` is a path to Google Drive you will be able to pick up your work later on."
      ]
    },
    {
      "cell_type": "code",
      "execution_count": null,
      "metadata": {},
      "outputs": [],
      "source": [
        "all_data.to_csv(file_name)"
      ]
    }
  ],
  "metadata": {
    "colab": {
      "provenance": []
    },
    "kernelspec": {
      "display_name": "Python 3",
      "name": "python3"
    },
    "language_info": {
      "name": "python"
    }
  },
  "nbformat": 4,
  "nbformat_minor": 0
}
