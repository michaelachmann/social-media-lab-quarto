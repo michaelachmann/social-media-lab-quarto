{
  "cells": [
    {
      "cell_type": "code",
      "execution_count": null,
      "metadata": {
        "colab": {
          "base_uri": "https://localhost:8080/"
        },
        "id": "jb9b2g4PaRCa",
        "outputId": "12f53a05-4958-4505-d220-af0e1d058757"
      },
      "outputs": [],
      "source": [
        "pip install krippendorff"
      ]
    },
    {
      "cell_type": "code",
      "execution_count": 86,
      "metadata": {
        "id": "wDp8nWn4pCJf"
      },
      "outputs": [],
      "source": [
        "def draw_coding_plot_fixed(coder1, coder2):\n",
        "    # Determine the number of codings (columns)\n",
        "    num_codings = max(len(coder1), len(coder2))\n",
        "\n",
        "    # Create a figure and axis with a fixed size\n",
        "    fig, ax = plt.subplots(figsize=(10, 5))  # Fixed size for better control\n",
        "\n",
        "    # Remove axis lines and ticks\n",
        "    ax.axis('off')\n",
        "\n",
        "    # Adding labels for Coders\n",
        "    ax.text(-1, 2.5, 'Coder 1', fontsize=10, ha='right')\n",
        "    ax.text(-1, 1, 'Coder 2', fontsize=10, ha='right')\n",
        "    ax.set_aspect('equal')\n",
        "\n",
        "\n",
        "    # Function to draw circles\n",
        "    def draw_circles(codes, y_coord):\n",
        "        for index, code in enumerate(codes):\n",
        "            circle_color = 'black' if code == 1 else 'none'\n",
        "            ax.add_patch(plt.Circle((index+0.5, y_coord), 0.4, color=circle_color, ec='black', lw=1))\n",
        "\n",
        "    # Drawing circles for codings\n",
        "    draw_circles(coder1, 2.8)\n",
        "    draw_circles(coder2, 1.25)\n",
        "\n",
        "    # Set plot limits\n",
        "    ax.set_xlim(0, num_codings)\n",
        "    ax.set_ylim(0.5, 5)\n",
        "\n",
        "    # Show plot\n",
        "    plt.show()\n"
      ]
    },
    {
      "cell_type": "code",
      "execution_count": 88,
      "metadata": {
        "colab": {
          "base_uri": "https://localhost:8080/",
          "height": 142
        },
        "id": "Q6x2-5sxpTDw",
        "outputId": "55eb486d-38d2-4d72-fd44-62e846013cbf"
      },
      "outputs": [
        {
          "name": "stdout",
          "output_type": "stream",
          "text": [
            "n: 65\n",
            "Disagreement: 10%\n",
            "Krippendorff's Alpha: 0.8164136622390892\n"
          ]
        },
        {
          "data": {
            "image/png": "[encoded data removed]",
            "text/plain": [
              "<Figure size 1000x500 with 1 Axes>"
            ]
          },
          "metadata": {},
          "output_type": "display_data"
        }
      ],
      "source": [
        "import numpy as np\n",
        "import krippendorff\n",
        "\n",
        "def calculate_krippendorffs_alpha(coder1, coder2):\n",
        "    \"\"\"Calculate Krippendorff's Alpha.\"\"\"\n",
        "    data = np.vstack([coder1, coder2])\n",
        "    alpha = krippendorff.alpha(reliability_data=data, level_of_measurement='nominal')\n",
        "    return alpha\n",
        "\n",
        "def generate_controlled_coding(n_items, disagreement_rate):\n",
        "    # Generate coder1 coding\n",
        "    coder1 = np.random.choice([0, 1], size=n_items)\n",
        "\n",
        "    # Initially set coder2 to be the same as coder1\n",
        "    coder2 = np.copy(coder1)\n",
        "\n",
        "    # Calculate the number of disagreements\n",
        "    n_disagreements = int(n_items * (disagreement_rate / 100))\n",
        "\n",
        "    # Introduce disagreements\n",
        "    disagreement_indices = np.random.choice(n_items, n_disagreements, replace=False)\n",
        "    for index in disagreement_indices:\n",
        "        coder2[index] = 1 - coder2[index]\n",
        "\n",
        "    return coder1, coder2\n",
        "\n",
        "# Example usage\n",
        "n_items = 65\n",
        "disagreement_rate = 10 # 30% disagreement rate\n",
        "coder1, coder2 = generate_controlled_coding(n_items, disagreement_rate)\n",
        "\n",
        "print(f\"n: {n_items}\")\n",
        "print(f\"Disagreement: {disagreement_rate}%\")\n",
        "print(f\"Krippendorff's Alpha: {calculate_krippendorffs_alpha(coder1, coder2)}\")\n",
        "\n",
        "draw_coding_plot_fixed(coder1, coder2)"
      ]
    }
  ],
  "metadata": {
    "colab": {
      "provenance": []
    },
    "kernelspec": {
      "display_name": "Python 3",
      "name": "python3"
    },
    "language_info": {
      "name": "python"
    }
  },
  "nbformat": 4,
  "nbformat_minor": 0
}
