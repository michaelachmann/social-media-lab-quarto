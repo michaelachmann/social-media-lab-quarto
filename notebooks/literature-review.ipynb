{
 "cells": [
  {
   "cell_type": "raw",
   "metadata": {
    "vscode": {
     "languageId": "raw"
    }
   },
   "source": [
    "---\n",
    "format:\n",
    "  html: default\n",
    "aliases:\n",
    "  - getting-started/literature-review-assistant.html\n",
    "title: \"GPT Literature Review Assistant\"\n",
    "date: 2023-10-31\n",
    "date-modified: 2024-10-28\n",
    "bibliography: ../literature.bib\n",
    "author:\n",
    "  - name: Michael Achmann-Denkler\n",
    "    id: ma\n",
    "    orcid: \"0000-0002-4754-7842\"\n",
    "    doi: \"10.5281/zenodo.10039756\"\n",
    "    email: michael.achmann@informatik.uni-regensburg.de\n",
    "citation:\n",
    "  type: webpage\n",
    "  doi: \"10.5281/zenodo.10039756\"\n",
    "license: \n",
    "  text: \"GNU GPLv3\"\n",
    "  link: https://www.gnu.org/licenses/gpl-3.0.en.html\n",
    "notebook-view:\n",
    "  - notebook: ../notebooks/literature-review.ipynb\n",
    "    title: \"GPT Literature Review Assistant\"\n",
    "    url: https://github.com/michaelachmann/social-media-lab/blob/main/notebooks/2023_10_05_GPT_Literature_Review_Assistant.ipynb\n",
    "---"
   ]
  },
  {
   "cell_type": "markdown",
   "metadata": {},
   "source": [
    "## Introduction \n",
    "\n",
    "In this session, we build upon our previous exploration of literature research methods and guidelines for composing related work sections in your projects. As you prepare to develop your project reports, a thorough and efficient literature review becomes crucial.\n",
    "\n",
    "We will introduce you to the use of GPT, a state-of-the-art language model, to assist in extracting key information from research paper abstracts. This technique will not only streamline your literature review process but also serve as a practical introduction to automated text analysis—a topic we'll delve deeper into in upcoming sessions.\n",
    "\n",
    "By integrating Python with the OpenAI GPT API, you'll learn how to automate the extraction of features such as research questions, methodologies, data sources, populations, and scientific disciplines from abstracts. This hands-on experience will demonstrate the potential of LLMs.\n",
    "\n",
    "**What You'll Learn:**\n",
    "\n",
    "- **Automating Literature Review Tasks:** Use GPT to quickly identify and summarize key aspects of academic papers.\n",
    "- **Practical Python Skills:** Enhance your coding abilities by working with APIs and handling data within Jupyter notebooks.\n",
    "- **Foundations for Text Classification:** Gain insights that will prepare you for our future sessions on automated text classification techniques.\n",
    "\n",
    "\n",
    "By the end of this session, you'll have a functional literature review assistant powered by GPT, positioning you well for the advanced text analysis topics ahead.\n",
    "\n",
    "::: {.callout-warning}\n",
    "This notebook provides a quick introduction to automated text extraction using GPT. **Note**: We are not [evaluating](../evaluation/index.qmd) the results in this session, so **do not use this notebook for production purposes or in your actual project reports**! Additionally, we use certain shortcuts for demonstration purposes—for example, removing search results that lack DOIs.\n",
    ":::\n"
   ]
  },
  {
   "cell_type": "markdown",
   "metadata": {},
   "source": [
    "## Setup\n",
    "At first we need to install necessary packages. Hit run and wait."
   ]
  },
  {
   "cell_type": "code",
   "execution_count": null,
   "metadata": {
    "cellView": "form",
    "colab": {
     "base_uri": "https://localhost:8080/"
    },
    "id": "XlJ90uBPmknH",
    "outputId": "8cdcc02c-fdae-45e8-a510-7f758d65e9f8"
   },
   "outputs": [],
   "source": [
    "print(\"Install Packages\")\n",
    "!pip install -q openai crossref-commons"
   ]
  },
  {
   "cell_type": "markdown",
   "metadata": {},
   "source": [
    "## Import Publish or Perish Data.\n",
    "\n",
    "If this is the start of your review process, upload the `csv` file exported from [Publish or Perish](https://harzing.com/resources/publish-or-perish) in the left-hand *Files* pane. Enter the filename in `publish_or_perish_file_name`. Define the output name in `file_name`. If you want to save the imported file in the google drive add `/content/drive/MyDrive/` to the path. <br/> **Skip this cell if you want to work with a file that has been imported in the past.**\n",
    "\n",
    "::: {.callout-warning}\n",
    "We delete rows with missing [DOIs](https://de.wikipedia.org/wiki/Digital_Object_Identifier). Without a DOI our code cannot retrieve abstracts. When importing the Publish or Perish file, the following code will display the number of rows that have been deleted due to missing DOIs. When using this notebook for real-world projects, you should be aware of the missing rows and manually review them!\n",
    ":::\n"
   ]
  },
  {
   "cell_type": "code",
   "execution_count": 3,
   "metadata": {
    "cellView": "form",
    "colab": {
     "base_uri": "https://localhost:8080/"
    },
    "id": "qVDJxnENyXyq",
    "outputId": "5ddc5646-1b57-4f03-fb3b-46cbfd22001b"
   },
   "outputs": [
    {
     "name": "stdout",
     "output_type": "stream",
     "text": [
      "Removed 172 duplicates based on DOI.\n",
      "Removed 1 rows without DOI.\n",
      "Sorted Table by Cites.\n",
      "Initializes Columns\n",
      "Success: Saved data to 2023-10-31-Literature-Review.csv\n",
      "Success: Data loaded from File \"2023-10-31-Literature-Review.csv\".\n"
     ]
    }
   ],
   "source": [
    "#@title Import from Publish or Perish Data.\n",
    "#@markdown If this is the start of your review process, upload the `csv` file exported from [Publish or Perish](https://harzing.com/resources/publish-or-perish) in the left-hand *Files* pane. Enter the filename in `publish_or_perish_file_name`. Define the output name in `file_name`. If you want to save the imported file in the google drive add `/content/drive/MyDrive/` to the path. <br/> **Skip this cell if you want to work with a file that has been imported in the past.**\n",
    "\n",
    "import pandas as pd\n",
    "import numpy as np\n",
    "import io\n",
    "\n",
    "publish_or_perish_file_name = \"scholar.csv\" # @param {type: \"string\"}\n",
    "file_name = \"2023-10-31-Literature-Review.csv\" # @param {type: \"string\"}\n",
    "\n",
    "# Initialize empty DataFrame\n",
    "all_data = pd.DataFrame()\n",
    "\n",
    "\n",
    "try:\n",
    "    all_data = pd.read_csv(publish_or_perish_file_name)\n",
    "\n",
    "    # Remove Duplicates\n",
    "    initial_len = len(all_data)\n",
    "    all_data = all_data.drop_duplicates(subset='DOI', keep='first')\n",
    "    removed_len = initial_len - len(all_data)\n",
    "    print(f'Removed {removed_len} duplicates based on DOI.')\n",
    "\n",
    "    # Remove missing DOIs\n",
    "    initial_len = len(all_data)\n",
    "    all_data = all_data[~pd.isna(all_data['DOI'])]\n",
    "    removed_len = initial_len - len(all_data)\n",
    "    print(f'Removed {removed_len} rows without DOI.')\n",
    "\n",
    "    all_data = all_data.sort_values(by='Cites', ascending=False).reset_index(drop=True)\n",
    "\n",
    "    print('Sorted Table by Cites.')\n",
    "\n",
    "    # Create empty columns for Literature Review\n",
    "    all_data[\"Relevant\"] = \"\"\n",
    "    all_data[\"Notes\"] = \"\"\n",
    "    all_data[\"Checked\"] = False\n",
    "\n",
    "    print('Initialized Columns')\n",
    "\n",
    "    all_data.to_csv(file_name)\n",
    "    print(f\"Success: Saved data to {file_name}\")\n",
    "\n",
    "    print(f'Success: Data loaded from File \"{file_name}\".')\n",
    "except Exception as e:\n",
    "    print(f\"Error: Failed to load data from File. {str(e)}\")"
   ]
  },
  {
   "cell_type": "markdown",
   "metadata": {},
   "source": [
    "## Read previously imported File\n",
    "If you want to keep going with a former review process, we can read an uploaded file / a file from google drive. **Only run one cell, this one or the above.**\n"
   ]
  },
  {
   "cell_type": "code",
   "execution_count": 5,
   "metadata": {
    "cellView": "form",
    "colab": {
     "base_uri": "https://localhost:8080/"
    },
    "id": "iixJcNUUm3QF",
    "outputId": "405622bc-05b3-40ad-984b-47bff749c27c"
   },
   "outputs": [
    {
     "name": "stdout",
     "output_type": "stream",
     "text": [
      "Success: Data loaded from File \"2023-10-31-Literature-Review.csv\".\n"
     ]
    }
   ],
   "source": [
    "#@title Read previously imported File\n",
    "#@markdown If you want to keep going with a former review process, we can read an uploaded file / a file from google drive. **Only run one cell, this one or the above.**\n",
    "import pandas as pd\n",
    "import numpy as np\n",
    "import io\n",
    "\n",
    "file_name = \"2023-10-31-Literature-Review.csv\" # @param {type: \"string\"}\n",
    "\n",
    "try:\n",
    "    all_data = pd.read_csv(file_name)\n",
    "\n",
    "    print(f'Success: Data loaded from File \"{file_name}\".')\n",
    "except Exception as e:\n",
    "    print(f\"Error: Failed to load data from File. {str(e)}\")"
   ]
  },
  {
   "cell_type": "markdown",
   "metadata": {
    "id": "8xMdEPeOobA_"
   },
   "source": [
    "---\n",
    "\n",
    "In this example we've saved the file locally. When working with Colab, the file will be deleted when we disconnect. For colab you should link your google drive (open the files pane on the left, click the Google Drive button). Once connected, save the file in the folder `/content/drive/MyDrive/YOUR-FILENAME.csv`. It will be accessible through Drive, and Colab is from now on going to connect automatically to drive.\n",
    "\n",
    "Check the imported data. We're using pandas, the imported data is saved in the `all_data`variable. `head(2)`displays the two top rows of the table. Additionally, we have added three columns: `Relevant`, `Notes`, and `Checked`. We are going to make use of them to keep track of our progress."
   ]
  },
  {
   "cell_type": "code",
   "execution_count": 50,
   "metadata": {
    "colab": {
     "base_uri": "https://localhost:8080/",
     "height": 335
    },
    "id": "5qaAJSF1omZe",
    "outputId": "cb9568f5-5958-4a9b-9999-ad53d43bee45"
   },
   "outputs": [
    {
     "data": {
      "text/html": [
       "\n",
       "  <div id=\"df-a55d055f-bb8e-4e4f-a237-07affa98de13\" class=\"colab-df-container\">\n",
       "    <div>\n",
       "<style scoped>\n",
       "    .dataframe tbody tr th:only-of-type {\n",
       "        vertical-align: middle;\n",
       "    }\n",
       "\n",
       "    .dataframe tbody tr th {\n",
       "        vertical-align: top;\n",
       "    }\n",
       "\n",
       "    .dataframe thead th {\n",
       "        text-align: right;\n",
       "    }\n",
       "</style>\n",
       "<table border=\"1\" class=\"dataframe\">\n",
       "  <thead>\n",
       "    <tr style=\"text-align: right;\">\n",
       "      <th></th>\n",
       "      <th>Unnamed: 0.2</th>\n",
       "      <th>Unnamed: 0.1</th>\n",
       "      <th>Unnamed: 0</th>\n",
       "      <th>Cites</th>\n",
       "      <th>Authors</th>\n",
       "      <th>Title</th>\n",
       "      <th>Year</th>\n",
       "      <th>Source</th>\n",
       "      <th>Publisher</th>\n",
       "      <th>ArticleURL</th>\n",
       "      <th>...</th>\n",
       "      <th>Age</th>\n",
       "      <th>Abstract</th>\n",
       "      <th>FullTextURL</th>\n",
       "      <th>RelatedURL</th>\n",
       "      <th>babbage_similarity</th>\n",
       "      <th>babbage_search</th>\n",
       "      <th>similarities</th>\n",
       "      <th>Relevant</th>\n",
       "      <th>Notes</th>\n",
       "      <th>Checked</th>\n",
       "    </tr>\n",
       "  </thead>\n",
       "  <tbody>\n",
       "    <tr>\n",
       "      <th>0</th>\n",
       "      <td>0</td>\n",
       "      <td>746</td>\n",
       "      <td>844</td>\n",
       "      <td>21</td>\n",
       "      <td>Florian Arendt</td>\n",
       "      <td>Suicide on Instagram – Content Analysis of a G...</td>\n",
       "      <td>2019.0</td>\n",
       "      <td>Crisis</td>\n",
       "      <td>Hogrefe Publishing Group</td>\n",
       "      <td>http://dx.doi.org/10.1027/0227-5910/a000529</td>\n",
       "      <td>...</td>\n",
       "      <td>3.0</td>\n",
       "      <td>Abstract. Background: Suicide is the second le...</td>\n",
       "      <td>https://econtent.hogrefe.com/doi/pdf/10.1027/0...</td>\n",
       "      <td>NaN</td>\n",
       "      <td>[-0.0018475924152880907, 0.022463073953986168,...</td>\n",
       "      <td>[-0.014954154379665852, 0.026176564395427704, ...</td>\n",
       "      <td>-1</td>\n",
       "      <td>NaN</td>\n",
       "      <td>NaN</td>\n",
       "      <td>False</td>\n",
       "    </tr>\n",
       "    <tr>\n",
       "      <th>1</th>\n",
       "      <td>1</td>\n",
       "      <td>770</td>\n",
       "      <td>868</td>\n",
       "      <td>4</td>\n",
       "      <td>Paloma de H. Sánchez-Cobarro, Francisco-Jose M...</td>\n",
       "      <td>The Brand-Generated Content Interaction of Ins...</td>\n",
       "      <td>2020.0</td>\n",
       "      <td>Journal of Theoretical and Applied Electronic ...</td>\n",
       "      <td>MDPI AG</td>\n",
       "      <td>http://dx.doi.org/10.3390/jtaer16030031</td>\n",
       "      <td>...</td>\n",
       "      <td>2.0</td>\n",
       "      <td>The last decade has seen a considerable increa...</td>\n",
       "      <td>https://www.mdpi.com/0718-1876/16/3/31/pdf</td>\n",
       "      <td>NaN</td>\n",
       "      <td>[-0.0029447057750076056, 0.01190990675240755, ...</td>\n",
       "      <td>[-0.01012819167226553, 0.02539714053273201, -0...</td>\n",
       "      <td>-1</td>\n",
       "      <td>NaN</td>\n",
       "      <td>NaN</td>\n",
       "      <td>False</td>\n",
       "    </tr>\n",
       "  </tbody>\n",
       "</table>\n",
       "<p>2 rows × 35 columns</p>\n",
       "</div>\n",
       "    <div class=\"colab-df-buttons\">\n",
       "\n",
       "  <div class=\"colab-df-container\">\n",
       "    <button class=\"colab-df-convert\" onclick=\"convertToInteractive('df-a55d055f-bb8e-4e4f-a237-07affa98de13')\"\n",
       "            title=\"Convert this dataframe to an interactive table.\"\n",
       "            style=\"display:none;\">\n",
       "\n",
       "  <svg xmlns=\"http://www.w3.org/2000/svg\" height=\"24px\" viewBox=\"0 -960 960 960\">\n",
       "    <path d=\"M120-120v-720h720v720H120Zm60-500h600v-160H180v160Zm220 220h160v-160H400v160Zm0 220h160v-160H400v160ZM180-400h160v-160H180v160Zm440 0h160v-160H620v160ZM180-180h160v-160H180v160Zm440 0h160v-160H620v160Z\"/>\n",
       "  </svg>\n",
       "    </button>\n",
       "\n",
       "  <style>\n",
       "    .colab-df-container {\n",
       "      display:flex;\n",
       "      gap: 12px;\n",
       "    }\n",
       "\n",
       "    .colab-df-convert {\n",
       "      background-color: #E8F0FE;\n",
       "      border: none;\n",
       "      border-radius: 50%;\n",
       "      cursor: pointer;\n",
       "      display: none;\n",
       "      fill: #1967D2;\n",
       "      height: 32px;\n",
       "      padding: 0 0 0 0;\n",
       "      width: 32px;\n",
       "    }\n",
       "\n",
       "    .colab-df-convert:hover {\n",
       "      background-color: #E2EBFA;\n",
       "      box-shadow: 0px 1px 2px rgba(60, 64, 67, 0.3), 0px 1px 3px 1px rgba(60, 64, 67, 0.15);\n",
       "      fill: #174EA6;\n",
       "    }\n",
       "\n",
       "    .colab-df-buttons div {\n",
       "      margin-bottom: 4px;\n",
       "    }\n",
       "\n",
       "    [theme=dark] .colab-df-convert {\n",
       "      background-color: #3B4455;\n",
       "      fill: #D2E3FC;\n",
       "    }\n",
       "\n",
       "    [theme=dark] .colab-df-convert:hover {\n",
       "      background-color: #434B5C;\n",
       "      box-shadow: 0px 1px 3px 1px rgba(0, 0, 0, 0.15);\n",
       "      filter: drop-shadow(0px 1px 2px rgba(0, 0, 0, 0.3));\n",
       "      fill: #FFFFFF;\n",
       "    }\n",
       "  </style>\n",
       "\n",
       "    <script>\n",
       "      const buttonEl =\n",
       "        document.querySelector('#df-a55d055f-bb8e-4e4f-a237-07affa98de13 button.colab-df-convert');\n",
       "      buttonEl.style.display =\n",
       "        google.colab.kernel.accessAllowed ? 'block' : 'none';\n",
       "\n",
       "      async function convertToInteractive(key) {\n",
       "        const element = document.querySelector('#df-a55d055f-bb8e-4e4f-a237-07affa98de13');\n",
       "        const dataTable =\n",
       "          await google.colab.kernel.invokeFunction('convertToInteractive',\n",
       "                                                    [key], {});\n",
       "        if (!dataTable) return;\n",
       "\n",
       "        const docLinkHtml = 'Like what you see? Visit the ' +\n",
       "          '<a target=\"_blank\" href=https://colab.research.google.com/notebooks/data_table.ipynb>data table notebook</a>'\n",
       "          + ' to learn more about interactive tables.';\n",
       "        element.innerHTML = '';\n",
       "        dataTable['output_type'] = 'display_data';\n",
       "        await google.colab.output.renderOutput(dataTable, element);\n",
       "        const docLink = document.createElement('div');\n",
       "        docLink.innerHTML = docLinkHtml;\n",
       "        element.appendChild(docLink);\n",
       "      }\n",
       "    </script>\n",
       "  </div>\n",
       "\n",
       "\n",
       "<div id=\"df-f68cad29-4153-4e59-a238-ec50a22a7089\">\n",
       "  <button class=\"colab-df-quickchart\" onclick=\"quickchart('df-f68cad29-4153-4e59-a238-ec50a22a7089')\"\n",
       "            title=\"Suggest charts.\"\n",
       "            style=\"display:none;\">\n",
       "\n",
       "<svg xmlns=\"http://www.w3.org/2000/svg\" height=\"24px\"viewBox=\"0 0 24 24\"\n",
       "     width=\"24px\">\n",
       "    <g>\n",
       "        <path d=\"M19 3H5c-1.1 0-2 .9-2 2v14c0 1.1.9 2 2 2h14c1.1 0 2-.9 2-2V5c0-1.1-.9-2-2-2zM9 17H7v-7h2v7zm4 0h-2V7h2v10zm4 0h-2v-4h2v4z\"/>\n",
       "    </g>\n",
       "</svg>\n",
       "  </button>\n",
       "\n",
       "<style>\n",
       "  .colab-df-quickchart {\n",
       "      --bg-color: #E8F0FE;\n",
       "      --fill-color: #1967D2;\n",
       "      --hover-bg-color: #E2EBFA;\n",
       "      --hover-fill-color: #174EA6;\n",
       "      --disabled-fill-color: #AAA;\n",
       "      --disabled-bg-color: #DDD;\n",
       "  }\n",
       "\n",
       "  [theme=dark] .colab-df-quickchart {\n",
       "      --bg-color: #3B4455;\n",
       "      --fill-color: #D2E3FC;\n",
       "      --hover-bg-color: #434B5C;\n",
       "      --hover-fill-color: #FFFFFF;\n",
       "      --disabled-bg-color: #3B4455;\n",
       "      --disabled-fill-color: #666;\n",
       "  }\n",
       "\n",
       "  .colab-df-quickchart {\n",
       "    background-color: var(--bg-color);\n",
       "    border: none;\n",
       "    border-radius: 50%;\n",
       "    cursor: pointer;\n",
       "    display: none;\n",
       "    fill: var(--fill-color);\n",
       "    height: 32px;\n",
       "    padding: 0;\n",
       "    width: 32px;\n",
       "  }\n",
       "\n",
       "  .colab-df-quickchart:hover {\n",
       "    background-color: var(--hover-bg-color);\n",
       "    box-shadow: 0 1px 2px rgba(60, 64, 67, 0.3), 0 1px 3px 1px rgba(60, 64, 67, 0.15);\n",
       "    fill: var(--button-hover-fill-color);\n",
       "  }\n",
       "\n",
       "  .colab-df-quickchart-complete:disabled,\n",
       "  .colab-df-quickchart-complete:disabled:hover {\n",
       "    background-color: var(--disabled-bg-color);\n",
       "    fill: var(--disabled-fill-color);\n",
       "    box-shadow: none;\n",
       "  }\n",
       "\n",
       "  .colab-df-spinner {\n",
       "    border: 2px solid var(--fill-color);\n",
       "    border-color: transparent;\n",
       "    border-bottom-color: var(--fill-color);\n",
       "    animation:\n",
       "      spin 1s steps(1) infinite;\n",
       "  }\n",
       "\n",
       "  @keyframes spin {\n",
       "    0% {\n",
       "      border-color: transparent;\n",
       "      border-bottom-color: var(--fill-color);\n",
       "      border-left-color: var(--fill-color);\n",
       "    }\n",
       "    20% {\n",
       "      border-color: transparent;\n",
       "      border-left-color: var(--fill-color);\n",
       "      border-top-color: var(--fill-color);\n",
       "    }\n",
       "    30% {\n",
       "      border-color: transparent;\n",
       "      border-left-color: var(--fill-color);\n",
       "      border-top-color: var(--fill-color);\n",
       "      border-right-color: var(--fill-color);\n",
       "    }\n",
       "    40% {\n",
       "      border-color: transparent;\n",
       "      border-right-color: var(--fill-color);\n",
       "      border-top-color: var(--fill-color);\n",
       "    }\n",
       "    60% {\n",
       "      border-color: transparent;\n",
       "      border-right-color: var(--fill-color);\n",
       "    }\n",
       "    80% {\n",
       "      border-color: transparent;\n",
       "      border-right-color: var(--fill-color);\n",
       "      border-bottom-color: var(--fill-color);\n",
       "    }\n",
       "    90% {\n",
       "      border-color: transparent;\n",
       "      border-bottom-color: var(--fill-color);\n",
       "    }\n",
       "  }\n",
       "</style>\n",
       "\n",
       "  <script>\n",
       "    async function quickchart(key) {\n",
       "      const quickchartButtonEl =\n",
       "        document.querySelector('#' + key + ' button');\n",
       "      quickchartButtonEl.disabled = true;  // To prevent multiple clicks.\n",
       "      quickchartButtonEl.classList.add('colab-df-spinner');\n",
       "      try {\n",
       "        const charts = await google.colab.kernel.invokeFunction(\n",
       "            'suggestCharts', [key], {});\n",
       "      } catch (error) {\n",
       "        console.error('Error during call to suggestCharts:', error);\n",
       "      }\n",
       "      quickchartButtonEl.classList.remove('colab-df-spinner');\n",
       "      quickchartButtonEl.classList.add('colab-df-quickchart-complete');\n",
       "    }\n",
       "    (() => {\n",
       "      let quickchartButtonEl =\n",
       "        document.querySelector('#df-f68cad29-4153-4e59-a238-ec50a22a7089 button');\n",
       "      quickchartButtonEl.style.display =\n",
       "        google.colab.kernel.accessAllowed ? 'block' : 'none';\n",
       "    })();\n",
       "  </script>\n",
       "</div>\n",
       "    </div>\n",
       "  </div>\n"
      ],
      "text/plain": [
       "   Unnamed: 0.2  Unnamed: 0.1  Unnamed: 0  Cites  \\\n",
       "0             0           746         844     21   \n",
       "1             1           770         868      4   \n",
       "\n",
       "                                             Authors  \\\n",
       "0                                     Florian Arendt   \n",
       "1  Paloma de H. Sánchez-Cobarro, Francisco-Jose M...   \n",
       "\n",
       "                                               Title    Year  \\\n",
       "0  Suicide on Instagram – Content Analysis of a G...  2019.0   \n",
       "1  The Brand-Generated Content Interaction of Ins...  2020.0   \n",
       "\n",
       "                                              Source  \\\n",
       "0                                             Crisis   \n",
       "1  Journal of Theoretical and Applied Electronic ...   \n",
       "\n",
       "                  Publisher                                   ArticleURL  ...  \\\n",
       "0  Hogrefe Publishing Group  http://dx.doi.org/10.1027/0227-5910/a000529  ...   \n",
       "1                   MDPI AG      http://dx.doi.org/10.3390/jtaer16030031  ...   \n",
       "\n",
       "   Age                                           Abstract  \\\n",
       "0  3.0  Abstract. Background: Suicide is the second le...   \n",
       "1  2.0  The last decade has seen a considerable increa...   \n",
       "\n",
       "                                         FullTextURL RelatedURL  \\\n",
       "0  https://econtent.hogrefe.com/doi/pdf/10.1027/0...        NaN   \n",
       "1         https://www.mdpi.com/0718-1876/16/3/31/pdf        NaN   \n",
       "\n",
       "                                  babbage_similarity  \\\n",
       "0  [-0.0018475924152880907, 0.022463073953986168,...   \n",
       "1  [-0.0029447057750076056, 0.01190990675240755, ...   \n",
       "\n",
       "                                      babbage_search  similarities  Relevant  \\\n",
       "0  [-0.014954154379665852, 0.026176564395427704, ...            -1       NaN   \n",
       "1  [-0.01012819167226553, 0.02539714053273201, -0...            -1       NaN   \n",
       "\n",
       "   Notes  Checked  \n",
       "0    NaN    False  \n",
       "1    NaN    False  \n",
       "\n",
       "[2 rows x 35 columns]"
      ]
     },
     "execution_count": 50,
     "metadata": {},
     "output_type": "execute_result"
    }
   ],
   "source": [
    "# Check the structure (and content) of the file\n",
    "all_data.head(2)"
   ]
  },
  {
   "cell_type": "markdown",
   "metadata": {
    "id": "LsiM0hlypQj-"
   },
   "source": [
    "In the next step we are going to start our literature review:\n",
    "\n",
    "1. We filter for the first unchecked row, ordered by the cite count.\n",
    "2. We retrieve the abstract from [CrossRef API](https://www.crossref.org/documentation/retrieve-metadata/rest-api/) using the [DOI](https://en.wikipedia.org/wiki/Digital_object_identifier).\n",
    "3. We display all information\n",
    "4. We answer whether the paper appear to be relevant by entering y or n for **y**es or **n**o.\n",
    "\n",
    "For our session, the cell only runs through one row and finishes afterwards. For a real world application you'd probably like to add some kind of loop."
   ]
  },
  {
   "cell_type": "code",
   "execution_count": 51,
   "metadata": {
    "colab": {
     "base_uri": "https://localhost:8080/",
     "height": 512
    },
    "id": "tlmQi90Hd_Hw",
    "outputId": "f38e2810-566f-4d17-a872-795c1276bfcc"
   },
   "outputs": [
    {
     "data": {
      "text/html": [
       "<h2>Suicide on Instagram – Content Analysis of a German Suicide-Related Hashtag</h2>"
      ],
      "text/plain": [
       "<IPython.core.display.HTML object>"
      ]
     },
     "metadata": {},
     "output_type": "display_data"
    },
    {
     "data": {
      "text/html": [
       "<p>Florian Arendt</p>"
      ],
      "text/plain": [
       "<IPython.core.display.HTML object>"
      ]
     },
     "metadata": {},
     "output_type": "display_data"
    },
    {
     "data": {
      "text/html": [
       "<p><a target='_blank' href='https://doi.org/10.1027/0227-5910/a000529'>10.1027/0227-5910/a000529</a></p>"
      ],
      "text/plain": [
       "<IPython.core.display.HTML object>"
      ]
     },
     "metadata": {},
     "output_type": "display_data"
    },
    {
     "name": "stdout",
     "output_type": "stream",
     "text": [
      "Abstract. Background: Suicide is the second leading cause of death among\n",
      "15–29-year-olds globally. Unfortunately, the suicide-related content on\n",
      "Instagram, a popular social media platform for youth, has not received the\n",
      "scholarly attention it deserves. Method: The present study provides a content\n",
      "analysis of posts tagged as #selbstmord, a German suicide-related hashtag. These\n",
      "posts were created between July 5 and July 11, 2017. Results: Approximately half\n",
      "of all posts included words or visuals related to suicide. Cutting was by far\n",
      "the most prominent method. Although sadness was the dominant emotion, self-hate\n",
      "and loneliness also appeared regularly. Importantly, inconsistency – a gap\n",
      "between one's inner mental state (e.g., sadness) and one's overtly expressed\n",
      "behavior (e.g., smiling) – was also a recurring theme. Conversely, help-seeking,\n",
      "death wishes, and professional awareness–intervention material were very rare.\n",
      "An explorative analysis revealed that some videos relied on very fast cutting\n",
      "techniques. We provide tentative evidence that users may be exposed to\n",
      "purposefully inserted suicide-related subliminal messages (i.e., exposure to\n",
      "content without the user's conscious awareness). Limitations: We only\n",
      "investigated the content of posts on one German hashtag, and the sample size was\n",
      "rather small. Conclusion: Suicide prevention organizations may consider posting\n",
      "more awareness–intervention materials. Future research should investigate\n",
      "suicide-related subliminal messages in social media video posts. Although\n",
      "tentative, this finding should raise a warning flag for suicide prevention\n",
      "scholars.\n",
      "Relevant? (y/n): y\n"
     ]
    }
   ],
   "source": [
    "from crossref_commons.retrieval import get_publication_as_json\n",
    "import json\n",
    "import openai\n",
    "import textwrap\n",
    "import IPython\n",
    "import re\n",
    "\n",
    "# Get one row: Not checked, highest Citation count.\n",
    "highest_cites_unchecked = all_data[all_data['Checked'] == False].sort_values(by=\"Cites\", ascending=False).iloc[0]\n",
    "index = highest_cites_unchecked.name\n",
    "\n",
    "# Retrieve Abstract from Crossref\n",
    "response = get_publication_as_json(highest_cites_unchecked['DOI'])\n",
    "abstract = response.get(\"abstract\", \"\")\n",
    "\n",
    "# Remove XML\n",
    "abstract = re.sub(r'<[^>]+>', '', abstract)\n",
    "all_data.loc[index, 'Abstract'] = abstract\n",
    "\n",
    "\n",
    "# Display all information\n",
    "IPython.display.clear_output(wait=True)\n",
    "title_disp = IPython.display.HTML(\"<h2>{}</h2>\".format(highest_cites_unchecked['Title']))\n",
    "authors_disp = IPython.display.HTML(\"<p>{}</p>\".format(highest_cites_unchecked['Authors']))\n",
    "doi_disp = IPython.display.HTML(\"<p><a target='_blank' href='https://doi.org/{}'>{}</a></p>\".format(highest_cites_unchecked['DOI'],highest_cites_unchecked['DOI']))\n",
    "display(title_disp, authors_disp, doi_disp)\n",
    "print(textwrap.fill(abstract, 80))\n",
    "relevant_input = input('Relevant? (y/n): ').lower().strip() == 'y'\n",
    "\n",
    "# Save user input\n",
    "all_data.loc[index, 'Checked'] = True\n",
    "all_data.loc[index, 'Relevant'] = relevant_input"
   ]
  },
  {
   "cell_type": "markdown",
   "metadata": {
    "id": "TEMUGVWaqWPn"
   },
   "source": [
    "Next, we check whether our input has been saved:"
   ]
  },
  {
   "cell_type": "code",
   "execution_count": 52,
   "metadata": {
    "colab": {
     "base_uri": "https://localhost:8080/"
    },
    "id": "UPvuxfbrhIzK",
    "outputId": "9d583e3a-a62c-46a0-f7c5-0452afae5c38"
   },
   "outputs": [
    {
     "data": {
      "text/plain": [
       "Unnamed: 0.2                                                          0\n",
       "Unnamed: 0.1                                                        746\n",
       "Unnamed: 0                                                          844\n",
       "Cites                                                                21\n",
       "Authors                                                  Florian Arendt\n",
       "Title                 Suicide on Instagram – Content Analysis of a G...\n",
       "Year                                                             2019.0\n",
       "Source                                                           Crisis\n",
       "Publisher                                      Hogrefe Publishing Group\n",
       "ArticleURL                  http://dx.doi.org/10.1027/0227-5910/a000529\n",
       "CitesURL                                                            NaN\n",
       "GSRank                                                               26\n",
       "QueryDate                                           2022-09-08 10:44:44\n",
       "Type                                                    journal-article\n",
       "DOI                                           10.1027/0227-5910/a000529\n",
       "ISSN                                                          0227-5910\n",
       "CitationURL                                                         NaN\n",
       "Volume                                                             40.0\n",
       "Issue                                                               1.0\n",
       "StartPage                                                          36.0\n",
       "EndPage                                                            41.0\n",
       "ECC                                                                  21\n",
       "CitesPerYear                                                        7.0\n",
       "CitesPerAuthor                                                       21\n",
       "AuthorCount                                                           1\n",
       "Age                                                                 3.0\n",
       "Abstract              Abstract. Background: Suicide is the second le...\n",
       "FullTextURL           https://econtent.hogrefe.com/doi/pdf/10.1027/0...\n",
       "RelatedURL                                                          NaN\n",
       "babbage_similarity    [-0.0018475924152880907, 0.022463073953986168,...\n",
       "babbage_search        [-0.014954154379665852, 0.026176564395427704, ...\n",
       "similarities                                                         -1\n",
       "Relevant                                                           True\n",
       "Notes                                                               NaN\n",
       "Checked                                                            True\n",
       "Name: 0, dtype: object"
      ]
     },
     "execution_count": 52,
     "metadata": {},
     "output_type": "execute_result"
    }
   ],
   "source": [
    "# Check the result\n",
    "all_data.iloc[index]"
   ]
  },
  {
   "cell_type": "markdown",
   "metadata": {
    "id": "iHqbR57EiKLE"
   },
   "source": [
    "## Using GPT to extract information from abstracts\n",
    "\n",
    "Now for the fun part: Is it possible to use GPT to help us during the review process? We are going to try and extract text features automatically. For the moment we are going to use `gpt3.5-turbo`.\n",
    "\n",
    "**Note:**\n",
    "Please feel free to test different prompts and questions. The [Promptingguide](https://www.promptingguide.ai/) is a good resource to learn more about different prompting techniques. Use the [ChatGPT](https://chat.openai.com/) interface to cheaply test prompts prior to using them with the API. Use the [OpenAI Playground](https://platform.openai.com/playground) to optimize your prompts with a visual user interface for different settings and a prompting history (trust me, this can save your life!).\n",
    "\n",
    "**Prompts:** We're going to use the **system prompt** for our instructions, and the **user prompt** to send our content.\n",
    "\n",
    "::: {.callout-caution}\n",
    "## Caution\n",
    "A word of warning: You should not trust the quality of the GPT output at this stage. The prompt has not been evaluated, overall LLMs produce output that appears meaningful most of the times. Sometimes, however, it is [Hallucinations](https://en.wikipedia.org/wiki/Hallucination_(artificial_intelligence)). Thus, before using prompts and LLMs for production, we have to make sure we can trust their outputs. We will dive deeper into this topic in the classification sessions. \n",
    ":::"
   ]
  },
  {
   "cell_type": "code",
   "execution_count": 53,
   "metadata": {
    "id": "S55s7wPAieZn"
   },
   "outputs": [],
   "source": [
    "system_prompt = \"\"\"\n",
    "You're an advanced AI research assistant. Your task is to extract **research questions**, **operationalization**, **data sources**, **population**, and **scientific disciplines** from user input. Return \"None\" if you can't find the information in user input.\n",
    "\n",
    "**Formatting**\n",
    "Return a markdown table, one row for each extracted feature: **research questions**, **operationalization**, **data sources**, **population**, and **scientific disciplines**.\n",
    "\"\"\""
   ]
  },
  {
   "cell_type": "markdown",
   "metadata": {
    "id": "c6doRGjfrEtK"
   },
   "source": [
    "Please enter your API-Code in the next code cell for the `openai.api_key` variable. We have changed the cell to include the `gpt_prompt` variable, which sends the title and abstract as a **user prompt**. We're using the `openai.ChatCompletion.create()` method to send our request to the API. We expect the response in `api_response['choices'][0]['message']['content']` to be markdown (see prompt above), as such we display the markdown in our notebook."
   ]
  },
  {
   "cell_type": "code",
   "execution_count": 54,
   "metadata": {
    "colab": {
     "base_uri": "https://localhost:8080/",
     "height": 742
    },
    "id": "uHbHo0F1iiCG",
    "outputId": "ff66462e-41ed-45ec-e009-db91c4229347"
   },
   "outputs": [
    {
     "data": {
      "text/html": [
       "<h2>The Brand-Generated Content Interaction of Instagram Stories and Publications: A Comparison between Retailers and Manufacturers</h2>"
      ],
      "text/plain": [
       "<IPython.core.display.HTML object>"
      ]
     },
     "metadata": {},
     "output_type": "display_data"
    },
    {
     "data": {
      "text/html": [
       "<p>Paloma de H. Sánchez-Cobarro, Francisco-Jose Molina-Castillo, Cristina Alcazar-Caceres</p>"
      ],
      "text/plain": [
       "<IPython.core.display.HTML object>"
      ]
     },
     "metadata": {},
     "output_type": "display_data"
    },
    {
     "data": {
      "text/html": [
       "<p><a target='_blank' href='https://doi.org/10.3390/jtaer16030031'>10.3390/jtaer16030031</a></p>"
      ],
      "text/plain": [
       "<IPython.core.display.HTML object>"
      ]
     },
     "metadata": {},
     "output_type": "display_data"
    },
    {
     "name": "stdout",
     "output_type": "stream",
     "text": [
      "The last decade has seen a considerable increase in entertainment-oriented\n",
      "communication techniques. Likewise, the rise of social networks has evolved,\n",
      "offering different formats such as publication and stories. Hence, there has\n",
      "been a growing interest in knowing which strategies have the greatest social\n",
      "impact to help position organizations in the mind of the consumer. This research\n",
      "aims to analyze the different impact that stories and publications can have on\n",
      "the Instagram social network as a tool for generating branded content. To this\n",
      "end, it analyses the impact of the different Instagram stories and publications\n",
      "in various sectors using a methodology of structural equations with composite\n",
      "constructs. The results obtained, based on 800 stories and publications in four\n",
      "different companies (retailers and manufacturers), show that the reach of the\n",
      "story generally explains the interaction with Instagram stories. In contrast, in\n",
      "the case of publications, impressions are of greater importance in explaining\n",
      "the interaction with the publication. Among the main contributions of the work,\n",
      "we find that traditional pull communication techniques have been losing\n",
      "effectiveness in front of new formats of brand content generation that have been\n",
      "occupying the time in the relationship between users and brands.\n"
     ]
    },
    {
     "data": {
      "text/html": [
       "<h3>GPT Extracted Data</h3>"
      ],
      "text/plain": [
       "<IPython.core.display.HTML object>"
      ]
     },
     "metadata": {},
     "output_type": "display_data"
    },
    {
     "data": {
      "text/markdown": [
       "| Feature                | Value                                                                                                                                                                                                                   |\n",
       "|------------------------|-------------------------------------------------------------------------------------------------------------------------------------------------------------------------------------------------------------------------|\n",
       "| Research questions     | - What strategies have the greatest social impact on Instagram?<br>- How do stories and publications on Instagram impact the consumer's perception of brands?<br>- What is the relationship between reach and interaction with Instagram stories?<br>- What is the relationship between impressions and interaction with Instagram publications? |\n",
       "| Operationalization     | - Analyzing the impact of Instagram stories and publications in various sectors<br>- Using a methodology of structural equations with composite constructs                                                                                                                                 |\n",
       "| Data sources           | - 800 stories and publications on Instagram                                                                                                                                                                              |\n",
       "| Population             | - Four different companies (retailers and manufacturers)                                                                                                                                                                |\n",
       "| Scientific disciplines | - Marketing<br>- Communication                                                                                                                                                                                         |"
      ],
      "text/plain": [
       "<IPython.core.display.Markdown object>"
      ]
     },
     "metadata": {},
     "output_type": "display_data"
    },
    {
     "name": "stdout",
     "output_type": "stream",
     "text": [
      "Relevant? (y/n): y\n"
     ]
    }
   ],
   "source": [
    "from crossref_commons.retrieval import get_publication_as_json\n",
    "import json\n",
    "import openai\n",
    "import textwrap\n",
    "import IPython\n",
    "import re\n",
    "\n",
    "# Enter OpenAI API-Code\n",
    "openai.api_key = \"sk-XXXXXXXXX\"\n",
    "\n",
    "# Get one row: Not checked, highest Citation count.\n",
    "highest_cites_unchecked = all_data[all_data['Checked'] == False].sort_values(by=\"Cites\", ascending=False).iloc[0]\n",
    "index = highest_cites_unchecked.name\n",
    "\n",
    "# Retrieve Abstract from Crossref\n",
    "response = get_publication_as_json(highest_cites_unchecked['DOI'])\n",
    "abstract = response.get(\"abstract\", \"\")\n",
    "\n",
    "# Remove XML\n",
    "abstract = re.sub(r'<[^>]+>', '', abstract)\n",
    "\n",
    "all_data.loc[index, 'Abstract'] = abstract\n",
    "\n",
    "# Display all information (before we send the request to OpenAI)\n",
    "IPython.display.clear_output(wait=True)\n",
    "title_disp = IPython.display.HTML(\"<h2>{}</h2>\".format(highest_cites_unchecked['Title']))\n",
    "authors_disp = IPython.display.HTML(\"<p>{}</p>\".format(highest_cites_unchecked['Authors']))\n",
    "doi_disp = IPython.display.HTML(\"<p><a target='_blank' href='https://doi.org/{}'>{}</a></p>\".format(highest_cites_unchecked['DOI'],highest_cites_unchecked['DOI']))\n",
    "display(title_disp, authors_disp, doi_disp)\n",
    "print(textwrap.fill(abstract, 80))\n",
    "\n",
    "gpt_prompt = f\"\"\"\n",
    "**Title**: {highest_cites_unchecked['Title']}\n",
    "**Abstract**: {abstract}\n",
    "\"\"\"\n",
    "\n",
    "# Sending request, takes a moment. In the meantime you may read the abstract.\n",
    "messages = [\n",
    "    {\"role\": \"system\", \"content\": system_prompt},\n",
    "    {\"role\": \"user\", \"content\": abstract}\n",
    "]\n",
    "\n",
    "try:\n",
    "  api_response = openai.ChatCompletion.create(\n",
    "      model=\"gpt-3.5-turbo\",\n",
    "      messages=messages,\n",
    "      temperature=0,\n",
    "      timeout=30\n",
    "    )\n",
    "\n",
    "  gpt_result = api_response['choices'][0]['message']['content']\n",
    "\n",
    "  # Display the GPT result\n",
    "  display(IPython.display.HTML(f\"<h3>GPT Extracted Data</h3>\"))\n",
    "  display(IPython.display.Markdown(gpt_result))\n",
    "except:\n",
    "  print(\"GPT API Error\")\n",
    "\n",
    "relevant_input = input('Relevant? (y/n): ').lower().strip() == 'y'\n",
    "\n",
    "# Save user input\n",
    "all_data.loc[index, 'Checked'] = True\n",
    "all_data.loc[index, 'Relevant'] = relevant_input"
   ]
  },
  {
   "cell_type": "markdown",
   "metadata": {},
   "source": [
    "---\n",
    "The above output shows a formatted table listing all extracted features. In this short warm-up session on GPT we have seen one use case of the LLM: The extraction of text feautures. In future sessions we are going to dive deeper into this topic.\n",
    "\n",
    "::: {.callout-note}\n",
    "Did you create an excellent prompt? [Share it with us! Enter your prompt into this Excel Sheet](https://uniregensburg-my.sharepoint.com/:x:/g/personal/acm53421_ads_uni-regensburg_de/EVgX8Avwyx5DvRUGugboTCkBPLxgrndfe6RPfsjGnMs8gA?e=clcejc)\n",
    ":::\n",
    "\n"
   ]
  },
  {
   "cell_type": "markdown",
   "metadata": {},
   "source": [
    "## Save your Progress\n",
    "The following line saves all progress to `file_name`. If `file_name` is a path to Google Drive you will be able to pick up your work later on."
   ]
  },
  {
   "cell_type": "code",
   "execution_count": null,
   "metadata": {},
   "outputs": [],
   "source": [
    "all_data.to_csv(file_name)"
   ]
  }
 ],
 "metadata": {
  "colab": {
   "provenance": []
  },
  "kernelspec": {
   "display_name": "Python 3",
   "language": "python",
   "name": "python3"
  },
  "language_info": {
   "codemirror_mode": {
    "name": "ipython",
    "version": 3
   },
   "file_extension": ".py",
   "mimetype": "text/x-python",
   "name": "python",
   "nbconvert_exporter": "python",
   "pygments_lexer": "ipython3",
   "version": "3.8.3"
  }
 },
 "nbformat": 4,
 "nbformat_minor": 4
}
