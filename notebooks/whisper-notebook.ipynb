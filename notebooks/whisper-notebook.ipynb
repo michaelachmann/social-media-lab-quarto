{
  "cells": [
    {
      "cell_type": "markdown",
      "metadata": {
        "id": "Mms7h-ZTkqTs"
      },
      "source": [
        "**Extract Audio from Video File**\n",
        "\n",
        "After loading the metadta and media files from the Google Drive, we extract the audio from each video file to prepare the automated transcription."
      ]
    },
    {
      "cell_type": "code",
      "execution_count": 8,
      "metadata": {
        "id": "TDxfWwn9tCcn"
      },
      "outputs": [],
      "source": [
        "!pip install -q moviepy"
      ]
    },
    {
      "cell_type": "code",
      "execution_count": 9,
      "metadata": {
        "id": "zVzCCYwLKHGR"
      },
      "outputs": [],
      "source": [
        "import os\n",
        "\n",
        "# Set audio directory path\n",
        "audio_path = \"media/audio/\"\n",
        "\n",
        "# Check if the directory exists\n",
        "if not os.path.exists(audio_path):\n",
        "    # Create the directory if it does not exist\n",
        "    os.makedirs(audio_path)"
      ]
    },
    {
      "cell_type": "code",
      "execution_count": 10,
      "metadata": {
        "colab": {
          "base_uri": "https://localhost:8080/"
        },
        "id": "cSz_dO6bKKxT",
        "outputId": "5dcf27b3-c6d4-4548-f9e4-657635c9bac0"
      },
      "outputs": [
        {
          "name": "stdout",
          "output_type": "stream",
          "text": [
            "MoviePy - Writing audio in media/audio/CzD93SEIi-E.mp3\n"
          ]
        },
        {
          "name": "stderr",
          "output_type": "stream",
          "text": [
            "                                                                      "
          ]
        },
        {
          "name": "stdout",
          "output_type": "stream",
          "text": [
            "MoviePy - Done.\n"
          ]
        },
        {
          "name": "stderr",
          "output_type": "stream",
          "text": [
            "\r"
          ]
        }
      ],
      "source": [
        "from moviepy.editor import *\n",
        "\n",
        "for index, row in df.iterrows():\n",
        "    if row['video_file'] != \"\":\n",
        "        # Load the video file\n",
        "        video = VideoFileClip(row['video_file'])\n",
        "        filename = row['video_file'].split('/')[-1]\n",
        "\n",
        "        # Extract the audio from the video file\n",
        "        audio = video.audio\n",
        "\n",
        "        if audio is not None:\n",
        "            sampling_rate = audio.fps\n",
        "            current_suffix = filename.split(\".\")[-1]\n",
        "            new_filename = filename.replace(current_suffix, \"mp3\")\n",
        "\n",
        "            # Save the audio to a file\n",
        "            audio.write_audiofile(\"{}{}\".format(audio_path, new_filename))\n",
        "        else:\n",
        "            new_filename = \"No Audio\"\n",
        "            sampling_rate = -1\n",
        "\n",
        "        # Update DataFrame inplace\n",
        "        df.at[index, 'audio_file'] = new_filename\n",
        "        df.at[index, 'duration'] = video.duration\n",
        "        df.at[index, 'sampling_rate'] = sampling_rate\n",
        "\n",
        "        df.at[index, 'video_file'] = row['video_file'].split('/')[-1]\n",
        "\n",
        "        # Close the video file\n",
        "        video.close()\n"
      ]
    },
    {
      "cell_type": "markdown",
      "metadata": {
        "id": "DyVuFEMBHOmk"
      },
      "source": [
        "We've extracted the audio content of each video file to a `mp3` file in the `media/audio` folder. The files keep the name of the video file. We added new columns to the metadata for audio duration and sampling_rate. In case the video did not include an audio file, `smapling_rate`is set to `-1`, which we use to filter the `df` when transcribing the files."
      ]
    },
    {
      "cell_type": "code",
      "execution_count": 11,
      "metadata": {
        "colab": {
          "base_uri": "https://localhost:8080/",
          "height": 182
        },
        "id": "Uk6uo3SrlPEY",
        "outputId": "46950938-f26d-4c6d-b933-dcefdcc23c26"
      },
      "outputs": [
        {
          "data": {
            "text/html": [
              "\n",
              "  <div id=\"df-8aec1eb9-74d8-4d05-a892-6603f34aa7e1\" class=\"colab-df-container\">\n",
              "    <div>\n",
              "<style scoped>\n",
              "    .dataframe tbody tr th:only-of-type {\n",
              "        vertical-align: middle;\n",
              "    }\n",
              "\n",
              "    .dataframe tbody tr th {\n",
              "        vertical-align: top;\n",
              "    }\n",
              "\n",
              "    .dataframe thead th {\n",
              "        text-align: right;\n",
              "    }\n",
              "</style>\n",
              "<table border=\"1\" class=\"dataframe\">\n",
              "  <thead>\n",
              "    <tr style=\"text-align: right;\">\n",
              "      <th></th>\n",
              "      <th>id</th>\n",
              "      <th>thread_id</th>\n",
              "      <th>parent_id</th>\n",
              "      <th>body</th>\n",
              "      <th>author</th>\n",
              "      <th>author_fullname</th>\n",
              "      <th>author_avatar_url</th>\n",
              "      <th>timestamp</th>\n",
              "      <th>type</th>\n",
              "      <th>url</th>\n",
              "      <th>...</th>\n",
              "      <th>num_comments</th>\n",
              "      <th>num_media</th>\n",
              "      <th>location_name</th>\n",
              "      <th>location_latlong</th>\n",
              "      <th>location_city</th>\n",
              "      <th>unix_timestamp</th>\n",
              "      <th>video_file</th>\n",
              "      <th>audio_file</th>\n",
              "      <th>duration</th>\n",
              "      <th>sampling_rate</th>\n",
              "    </tr>\n",
              "  </thead>\n",
              "  <tbody>\n",
              "    <tr>\n",
              "      <th>4</th>\n",
              "      <td>CzD93SEIi-E</td>\n",
              "      <td>CzD93SEIi-E</td>\n",
              "      <td>CzD93SEIi-E</td>\n",
              "      <td>Mitzuarbeiten für unser Land, Bayern zu entwic...</td>\n",
              "      <td>markus.soeder</td>\n",
              "      <td>Markus Söder</td>\n",
              "      <td>https://scontent-fra3-1.cdninstagram.com/v/t51...</td>\n",
              "      <td>2023-10-31 12:06:23</td>\n",
              "      <td>video</td>\n",
              "      <td>https://www.instagram.com/p/CzD93SEIi-E</td>\n",
              "      <td>...</td>\n",
              "      <td>227</td>\n",
              "      <td>1</td>\n",
              "      <td>NaN</td>\n",
              "      <td>NaN</td>\n",
              "      <td>NaN</td>\n",
              "      <td>1698753983</td>\n",
              "      <td>CzD93SEIi-E.mp4</td>\n",
              "      <td>CzD93SEIi-E.mp3</td>\n",
              "      <td>67.89</td>\n",
              "      <td>44100.0</td>\n",
              "    </tr>\n",
              "  </tbody>\n",
              "</table>\n",
              "<p>1 rows × 24 columns</p>\n",
              "</div>\n",
              "    <div class=\"colab-df-buttons\">\n",
              "\n",
              "  <div class=\"colab-df-container\">\n",
              "    <button class=\"colab-df-convert\" onclick=\"convertToInteractive('df-8aec1eb9-74d8-4d05-a892-6603f34aa7e1')\"\n",
              "            title=\"Convert this dataframe to an interactive table.\"\n",
              "            style=\"display:none;\">\n",
              "\n",
              "  <svg xmlns=\"http://www.w3.org/2000/svg\" height=\"24px\" viewBox=\"0 -960 960 960\">\n",
              "    <path d=\"M120-120v-720h720v720H120Zm60-500h600v-160H180v160Zm220 220h160v-160H400v160Zm0 220h160v-160H400v160ZM180-400h160v-160H180v160Zm440 0h160v-160H620v160ZM180-180h160v-160H180v160Zm440 0h160v-160H620v160Z\"/>\n",
              "  </svg>\n",
              "    </button>\n",
              "\n",
              "  <style>\n",
              "    .colab-df-container {\n",
              "      display:flex;\n",
              "      gap: 12px;\n",
              "    }\n",
              "\n",
              "    .colab-df-convert {\n",
              "      background-color: #E8F0FE;\n",
              "      border: none;\n",
              "      border-radius: 50%;\n",
              "      cursor: pointer;\n",
              "      display: none;\n",
              "      fill: #1967D2;\n",
              "      height: 32px;\n",
              "      padding: 0 0 0 0;\n",
              "      width: 32px;\n",
              "    }\n",
              "\n",
              "    .colab-df-convert:hover {\n",
              "      background-color: #E2EBFA;\n",
              "      box-shadow: 0px 1px 2px rgba(60, 64, 67, 0.3), 0px 1px 3px 1px rgba(60, 64, 67, 0.15);\n",
              "      fill: #174EA6;\n",
              "    }\n",
              "\n",
              "    .colab-df-buttons div {\n",
              "      margin-bottom: 4px;\n",
              "    }\n",
              "\n",
              "    [theme=dark] .colab-df-convert {\n",
              "      background-color: #3B4455;\n",
              "      fill: #D2E3FC;\n",
              "    }\n",
              "\n",
              "    [theme=dark] .colab-df-convert:hover {\n",
              "      background-color: #434B5C;\n",
              "      box-shadow: 0px 1px 3px 1px rgba(0, 0, 0, 0.15);\n",
              "      filter: drop-shadow(0px 1px 2px rgba(0, 0, 0, 0.3));\n",
              "      fill: #FFFFFF;\n",
              "    }\n",
              "  </style>\n",
              "\n",
              "    <script>\n",
              "      const buttonEl =\n",
              "        document.querySelector('#df-8aec1eb9-74d8-4d05-a892-6603f34aa7e1 button.colab-df-convert');\n",
              "      buttonEl.style.display =\n",
              "        google.colab.kernel.accessAllowed ? 'block' : 'none';\n",
              "\n",
              "      async function convertToInteractive(key) {\n",
              "        const element = document.querySelector('#df-8aec1eb9-74d8-4d05-a892-6603f34aa7e1');\n",
              "        const dataTable =\n",
              "          await google.colab.kernel.invokeFunction('convertToInteractive',\n",
              "                                                    [key], {});\n",
              "        if (!dataTable) return;\n",
              "\n",
              "        const docLinkHtml = 'Like what you see? Visit the ' +\n",
              "          '<a target=\"_blank\" href=https://colab.research.google.com/notebooks/data_table.ipynb>data table notebook</a>'\n",
              "          + ' to learn more about interactive tables.';\n",
              "        element.innerHTML = '';\n",
              "        dataTable['output_type'] = 'display_data';\n",
              "        await google.colab.output.renderOutput(dataTable, element);\n",
              "        const docLink = document.createElement('div');\n",
              "        docLink.innerHTML = docLinkHtml;\n",
              "        element.appendChild(docLink);\n",
              "      }\n",
              "    </script>\n",
              "  </div>\n",
              "\n",
              "    </div>\n",
              "  </div>\n"
            ],
            "text/plain": [
              "            id    thread_id    parent_id  \\\n",
              "4  CzD93SEIi-E  CzD93SEIi-E  CzD93SEIi-E   \n",
              "\n",
              "                                                body         author  \\\n",
              "4  Mitzuarbeiten für unser Land, Bayern zu entwic...  markus.soeder   \n",
              "\n",
              "  author_fullname                                  author_avatar_url  \\\n",
              "4   Markus Söder  https://scontent-fra3-1.cdninstagram.com/v/t51...   \n",
              "\n",
              "             timestamp   type                                      url  ...  \\\n",
              "4  2023-10-31 12:06:23  video  https://www.instagram.com/p/CzD93SEIi-E  ...   \n",
              "\n",
              "  num_comments num_media location_name  location_latlong  location_city  \\\n",
              "4          227         1           NaN               NaN            NaN   \n",
              "\n",
              "   unix_timestamp       video_file       audio_file  duration  sampling_rate  \n",
              "4      1698753983  CzD93SEIi-E.mp4  CzD93SEIi-E.mp3     67.89        44100.0  \n",
              "\n",
              "[1 rows x 24 columns]"
            ]
          },
          "execution_count": 11,
          "metadata": {},
          "output_type": "execute_result"
        }
      ],
      "source": [
        "df[df['video_file'] != \"\"].head()"
      ]
    },
    {
      "cell_type": "markdown",
      "metadata": {
        "id": "CShiv5jYHwUZ"
      },
      "source": [
        "Let's update the `ZIP`ed folder to include the audio files."
      ]
    },
    {
      "cell_type": "code",
      "execution_count": 12,
      "metadata": {
        "colab": {
          "base_uri": "https://localhost:8080/"
        },
        "id": "_Dcn7CdGvp1U",
        "outputId": "d5a1ced4-f1aa-4bab-fdb7-1363c61cfcdd"
      },
      "outputs": [
        {
          "name": "stdout",
          "output_type": "stream",
          "text": [
            "updating: media/ (stored 0%)\n",
            "updating: media/videos/ (stored 0%)\n",
            "updating: media/videos/CzD93SEIi-E.mp4 (deflated 0%)\n",
            "  adding: media/audio/ (stored 0%)\n",
            "  adding: media/audio/CzD93SEIi-E.mp3 (deflated 1%)\n"
          ]
        }
      ],
      "source": [
        "!zip -r /content/drive/MyDrive/2023-11-24-4CAT-Images-Clean.zip media"
      ]
    },
    {
      "cell_type": "markdown",
      "metadata": {
        "id": "tunnacjWH2Su"
      },
      "source": [
        "And save the updated metadata file. **Change filename when importing stories here!**"
      ]
    },
    {
      "cell_type": "code",
      "execution_count": 14,
      "metadata": {
        "id": "YVyuAYYMlqGc"
      },
      "outputs": [],
      "source": [
        "df.to_csv(four_cat_file_path)"
      ]
    },
    {
      "cell_type": "markdown",
      "metadata": {
        "id": "ZSy1alp2nPid"
      },
      "source": [
        "**Transcriptions using Whisper**\n",
        "\n",
        "> The Whisper model was proposed in Robust Speech Recognition via Large-Scale  Weak Supervision by Alec Radford, Jong Wook Kim, Tao Xu, Greg Brockman, Christine McLeavey, Ilya Sutskever.\n",
        "\n",
        "> The abstract from the paper is the following:\n",
        "\n",
        ">>  We study the capabilities of speech processing systems trained simply to predict large amounts of transcripts of audio on the internet. When scaled to 680,000 hours of multilingual and multitask supervision, the resulting models generalize well to standard benchmarks and are often competitive with prior fully supervised results but in a zeroshot transfer setting without the need for any finetuning. When compared to humans, the models approach their accuracy and robustness. We are releasing models and inference code to serve as a foundation for further work on robust speech processing.\n",
        "\n",
        "-- https://huggingface.co/docs/transformers/model_doc/whisper"
      ]
    },
    {
      "cell_type": "code",
      "execution_count": 15,
      "metadata": {
        "id": "sXMiLbxWoAsi"
      },
      "outputs": [],
      "source": [
        "!pip install -q transformers"
      ]
    },
    {
      "cell_type": "markdown",
      "metadata": {
        "id": "AjXTkKGBIot3"
      },
      "source": [
        "The next code snippet initializes the Whisper model. The `transcribe_aduio` method is applied to each row of the dataframe where `sampling_rate` > `0`, thus only to those lines with referencees to audio files. Each audio file is transcribed using Whisper, the result, one text string, is saved to the `transcript` column.\n",
        "\n",
        "**Adjust the language variable according to your needs!** The model is also capable of automated translation, e.g. setting `language` to english when processing German content results in an English translation of the speech. (Additionally, the `task` variable accepts `translate`)."
      ]
    },
    {
      "cell_type": "code",
      "execution_count": 19,
      "metadata": {
        "colab": {
          "base_uri": "https://localhost:8080/"
        },
        "id": "NsRCA2kQHmf7",
        "outputId": "8400ca21-c56c-422f-c4ae-c1f036647d9f"
      },
      "outputs": [
        {
          "name": "stderr",
          "output_type": "stream",
          "text": [
            "Special tokens have been added in the vocabulary, make sure the associated word embeddings are fine-tuned or trained.\n"
          ]
        }
      ],
      "source": [
        "import torch\n",
        "from transformers import pipeline, WhisperProcessor, WhisperForConditionalGeneration\n",
        "import librosa\n",
        "\n",
        "# Set device to GPU if available, else use CPU\n",
        "device = \"cuda:0\" if torch.cuda.is_available() else \"cpu\"\n",
        "\n",
        "# Initialize the Whisper model pipeline for automatic speech recognition\n",
        "pipe = pipeline(\n",
        "    \"automatic-speech-recognition\",\n",
        "    model=\"openai/whisper-large\",\n",
        "    chunk_length_s=30,\n",
        "    device=device,\n",
        ")\n",
        "\n",
        "# Load model and processor for multilingual support\n",
        "processor = WhisperProcessor.from_pretrained(\"openai/whisper-large\")\n",
        "model = WhisperForConditionalGeneration.from_pretrained(\"openai/whisper-large\")\n",
        "\n",
        "# Function to read, transcribe, and handle longer audio files in different languages\n",
        "def transcribe_audio(filename, language='german'):\n",
        "    try:\n",
        "        # Load and resample audio file\n",
        "        audio_path = f\"{audio_folder}/{filename}\"\n",
        "        waveform, original_sample_rate = librosa.load(audio_path, sr=None, mono=True)\n",
        "        waveform_resampled = librosa.resample(waveform, orig_sr=original_sample_rate, target_sr=16000)\n",
        "\n",
        "        # Get forced decoder IDs for the specified language\n",
        "        forced_decoder_ids = processor.get_decoder_prompt_ids(language=language, task=\"transcribe\")\n",
        "\n",
        "        # Process the audio file in chunks and transcribe\n",
        "        transcription = \"\"\n",
        "        for i in range(0, len(waveform_resampled), 16000 * 30):  # 30 seconds chunks\n",
        "            chunk = waveform_resampled[i:i + 16000 * 30]\n",
        "            input_features = processor(chunk, sampling_rate=16000, return_tensors=\"pt\").input_features\n",
        "            predicted_ids = model.generate(input_features, forced_decoder_ids=forced_decoder_ids)\n",
        "            chunk_transcription = processor.batch_decode(predicted_ids, skip_special_tokens=True)[0]\n",
        "            transcription += \" \" + chunk_transcription\n",
        "\n",
        "        return transcription.strip()\n",
        "    except Exception as e:\n",
        "        print(f\"Error processing file {filename}: {e}\")\n",
        "        return \"\"\n",
        "\n",
        "\n",
        "# Filter the DataFrame (sampling_rates < 0 identify items without audio)\n",
        "filtered_index = df['sampling_rate'] > 0\n",
        "\n",
        "# Apply the transcription function to each row in the filtered DataFrame\n",
        "df.loc[filtered_index, 'transcript'] = df.loc[filtered_index, 'audio_file'].apply(transcribe_audio)"
      ]
    },
    {
      "cell_type": "code",
      "execution_count": 20,
      "metadata": {
        "colab": {
          "base_uri": "https://localhost:8080/",
          "height": 180
        },
        "id": "JFychrz-rSlY",
        "outputId": "6ba00b74-ad5e-4def-9bbb-d5d69ac399be"
      },
      "outputs": [
        {
          "data": {
            "text/html": [
              "\n",
              "  <div id=\"df-f0098e61-844a-4b08-aeba-50efc2e0231d\" class=\"colab-df-container\">\n",
              "    <div>\n",
              "<style scoped>\n",
              "    .dataframe tbody tr th:only-of-type {\n",
              "        vertical-align: middle;\n",
              "    }\n",
              "\n",
              "    .dataframe tbody tr th {\n",
              "        vertical-align: top;\n",
              "    }\n",
              "\n",
              "    .dataframe thead th {\n",
              "        text-align: right;\n",
              "    }\n",
              "</style>\n",
              "<table border=\"1\" class=\"dataframe\">\n",
              "  <thead>\n",
              "    <tr style=\"text-align: right;\">\n",
              "      <th></th>\n",
              "      <th>id</th>\n",
              "      <th>thread_id</th>\n",
              "      <th>parent_id</th>\n",
              "      <th>body</th>\n",
              "      <th>author</th>\n",
              "      <th>author_fullname</th>\n",
              "      <th>author_avatar_url</th>\n",
              "      <th>timestamp</th>\n",
              "      <th>type</th>\n",
              "      <th>url</th>\n",
              "      <th>...</th>\n",
              "      <th>num_media</th>\n",
              "      <th>location_name</th>\n",
              "      <th>location_latlong</th>\n",
              "      <th>location_city</th>\n",
              "      <th>unix_timestamp</th>\n",
              "      <th>video_file</th>\n",
              "      <th>audio_file</th>\n",
              "      <th>duration</th>\n",
              "      <th>sampling_rate</th>\n",
              "      <th>transcript</th>\n",
              "    </tr>\n",
              "  </thead>\n",
              "  <tbody>\n",
              "    <tr>\n",
              "      <th>4</th>\n",
              "      <td>CzD93SEIi-E</td>\n",
              "      <td>CzD93SEIi-E</td>\n",
              "      <td>CzD93SEIi-E</td>\n",
              "      <td>Mitzuarbeiten für unser Land, Bayern zu entwic...</td>\n",
              "      <td>markus.soeder</td>\n",
              "      <td>Markus Söder</td>\n",
              "      <td>https://scontent-fra3-1.cdninstagram.com/v/t51...</td>\n",
              "      <td>2023-10-31 12:06:23</td>\n",
              "      <td>video</td>\n",
              "      <td>https://www.instagram.com/p/CzD93SEIi-E</td>\n",
              "      <td>...</td>\n",
              "      <td>1</td>\n",
              "      <td>NaN</td>\n",
              "      <td>NaN</td>\n",
              "      <td>NaN</td>\n",
              "      <td>1698753983</td>\n",
              "      <td>CzD93SEIi-E.mp4</td>\n",
              "      <td>CzD93SEIi-E.mp3</td>\n",
              "      <td>67.89</td>\n",
              "      <td>44100.0</td>\n",
              "      <td>Ich bitte auf den abgelagerten Vortrag der Maa...</td>\n",
              "    </tr>\n",
              "  </tbody>\n",
              "</table>\n",
              "<p>1 rows × 25 columns</p>\n",
              "</div>\n",
              "    <div class=\"colab-df-buttons\">\n",
              "\n",
              "  <div class=\"colab-df-container\">\n",
              "    <button class=\"colab-df-convert\" onclick=\"convertToInteractive('df-f0098e61-844a-4b08-aeba-50efc2e0231d')\"\n",
              "            title=\"Convert this dataframe to an interactive table.\"\n",
              "            style=\"display:none;\">\n",
              "\n",
              "  <svg xmlns=\"http://www.w3.org/2000/svg\" height=\"24px\" viewBox=\"0 -960 960 960\">\n",
              "    <path d=\"M120-120v-720h720v720H120Zm60-500h600v-160H180v160Zm220 220h160v-160H400v160Zm0 220h160v-160H400v160ZM180-400h160v-160H180v160Zm440 0h160v-160H620v160ZM180-180h160v-160H180v160Zm440 0h160v-160H620v160Z\"/>\n",
              "  </svg>\n",
              "    </button>\n",
              "\n",
              "  <style>\n",
              "    .colab-df-container {\n",
              "      display:flex;\n",
              "      gap: 12px;\n",
              "    }\n",
              "\n",
              "    .colab-df-convert {\n",
              "      background-color: #E8F0FE;\n",
              "      border: none;\n",
              "      border-radius: 50%;\n",
              "      cursor: pointer;\n",
              "      display: none;\n",
              "      fill: #1967D2;\n",
              "      height: 32px;\n",
              "      padding: 0 0 0 0;\n",
              "      width: 32px;\n",
              "    }\n",
              "\n",
              "    .colab-df-convert:hover {\n",
              "      background-color: #E2EBFA;\n",
              "      box-shadow: 0px 1px 2px rgba(60, 64, 67, 0.3), 0px 1px 3px 1px rgba(60, 64, 67, 0.15);\n",
              "      fill: #174EA6;\n",
              "    }\n",
              "\n",
              "    .colab-df-buttons div {\n",
              "      margin-bottom: 4px;\n",
              "    }\n",
              "\n",
              "    [theme=dark] .colab-df-convert {\n",
              "      background-color: #3B4455;\n",
              "      fill: #D2E3FC;\n",
              "    }\n",
              "\n",
              "    [theme=dark] .colab-df-convert:hover {\n",
              "      background-color: #434B5C;\n",
              "      box-shadow: 0px 1px 3px 1px rgba(0, 0, 0, 0.15);\n",
              "      filter: drop-shadow(0px 1px 2px rgba(0, 0, 0, 0.3));\n",
              "      fill: #FFFFFF;\n",
              "    }\n",
              "  </style>\n",
              "\n",
              "    <script>\n",
              "      const buttonEl =\n",
              "        document.querySelector('#df-f0098e61-844a-4b08-aeba-50efc2e0231d button.colab-df-convert');\n",
              "      buttonEl.style.display =\n",
              "        google.colab.kernel.accessAllowed ? 'block' : 'none';\n",
              "\n",
              "      async function convertToInteractive(key) {\n",
              "        const element = document.querySelector('#df-f0098e61-844a-4b08-aeba-50efc2e0231d');\n",
              "        const dataTable =\n",
              "          await google.colab.kernel.invokeFunction('convertToInteractive',\n",
              "                                                    [key], {});\n",
              "        if (!dataTable) return;\n",
              "\n",
              "        const docLinkHtml = 'Like what you see? Visit the ' +\n",
              "          '<a target=\"_blank\" href=https://colab.research.google.com/notebooks/data_table.ipynb>data table notebook</a>'\n",
              "          + ' to learn more about interactive tables.';\n",
              "        element.innerHTML = '';\n",
              "        dataTable['output_type'] = 'display_data';\n",
              "        await google.colab.output.renderOutput(dataTable, element);\n",
              "        const docLink = document.createElement('div');\n",
              "        docLink.innerHTML = docLinkHtml;\n",
              "        element.appendChild(docLink);\n",
              "      }\n",
              "    </script>\n",
              "  </div>\n",
              "\n",
              "    </div>\n",
              "  </div>\n"
            ],
            "text/plain": [
              "            id    thread_id    parent_id  \\\n",
              "4  CzD93SEIi-E  CzD93SEIi-E  CzD93SEIi-E   \n",
              "\n",
              "                                                body         author  \\\n",
              "4  Mitzuarbeiten für unser Land, Bayern zu entwic...  markus.soeder   \n",
              "\n",
              "  author_fullname                                  author_avatar_url  \\\n",
              "4   Markus Söder  https://scontent-fra3-1.cdninstagram.com/v/t51...   \n",
              "\n",
              "             timestamp   type                                      url  ...  \\\n",
              "4  2023-10-31 12:06:23  video  https://www.instagram.com/p/CzD93SEIi-E  ...   \n",
              "\n",
              "  num_media location_name location_latlong  location_city  unix_timestamp  \\\n",
              "4         1           NaN              NaN            NaN      1698753983   \n",
              "\n",
              "        video_file       audio_file  duration  sampling_rate  \\\n",
              "4  CzD93SEIi-E.mp4  CzD93SEIi-E.mp3     67.89        44100.0   \n",
              "\n",
              "                                          transcript  \n",
              "4  Ich bitte auf den abgelagerten Vortrag der Maa...  \n",
              "\n",
              "[1 rows x 25 columns]"
            ]
          },
          "execution_count": 20,
          "metadata": {},
          "output_type": "execute_result"
        }
      ],
      "source": [
        "df[df['video_file'] != \"\"].head()"
      ]
    },
    {
      "cell_type": "code",
      "execution_count": 21,
      "metadata": {
        "colab": {
          "base_uri": "https://localhost:8080/",
          "height": 53
        },
        "id": "d4MCmlhRG_Ei",
        "outputId": "547cdf2d-3e04-441c-d99f-4ea291390324"
      },
      "outputs": [
        {
          "data": {
            "application/vnd.google.colaboratory.intrinsic+json": {
              "type": "string"
            },
            "text/plain": [
              "'Ich bitte auf den abgelagerten Vortrag der Maaßen-Söder-Entfühlen ein.  Erfüllung meiner Amtspflichten, so wahr mir Gott helfe. Ich schwöre Treue der Verfassung des Freistaates Bayern, Gehorsam den Gesetzen und gewissenhafte Erfüllung meiner Amtspflichten, so wahr mir Gott helfe. Herr Ministerpräsident, ich darf Ihnen im Namen des ganzen Hauses ganz persönlich die herzlichsten Glückwünsche aussprechen und wünsche Ihnen viel Erfolg und gute Nerven auch bei Ihrer Aufgabe. Herzlichen Dank.  Applaus'"
            ]
          },
          "execution_count": 21,
          "metadata": {},
          "output_type": "execute_result"
        }
      ],
      "source": [
        "df.loc[4, 'transcript']"
      ]
    },
    {
      "cell_type": "markdown",
      "metadata": {},
      "source": [
        "Overall, the transcriptions work well. The first sentence above, however, shows that we still can expect misinterpretations. "
      ]
    }
  ],
  "metadata": {
    "accelerator": "GPU",
    "colab": {
      "gpuType": "A100",
      "machine_shape": "hm",
      "provenance": []
    },
    "kernelspec": {
      "display_name": "Python 3",
      "name": "python3"
    },
    "language_info": {
      "name": "python"
    }
  },
  "nbformat": 4,
  "nbformat_minor": 0
}
