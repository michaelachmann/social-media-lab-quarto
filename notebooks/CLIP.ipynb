{
  "cells": [
    {
      "cell_type": "raw",
      "id": "ecb195fd",
      "metadata": {},
      "source": [
        "---\n",
        "title: Image Classification using CLIP\n",
        "format: html\n",
        "---"
      ]
    },
    {
      "cell_type": "code",
      "execution_count": null,
      "id": "b7ec5bed",
      "metadata": {},
      "outputs": [],
      "source": [
        "!pip -q install ftfy regex tqdm\n",
        "!pip -q install git+https://github.com/openai/CLIP.git\n",
        "!pip -q install pyarrow\n",
        "import os\n",
        "import torch\n",
        "import clip\n",
        "import numpy as np\n",
        "import pandas as pd\n",
        "import pyarrow.feather as feather\n",
        "from PIL import Image\n",
        "from urllib import request\n",
        "from tqdm import tqdm\n",
        "from torch.utils.data import Dataset, DataLoader\n",
        "from torchvision import datasets, transforms\n",
        "\n",
        "device = \"cuda\" if torch.cuda.is_available() else \"cpu\"\n",
        "model, preprocess = clip.load(\"ViT-B/32\", device=device)\n",
        "device\n",
        "\n",
        "# Download der Bilder\n",
        "!unzip -q /content/drive/MyDrive/insta-story-images.zip -d ./images\n",
        "\n",
        "import os\n",
        "\n",
        "image_files = []\n",
        "image_folder = '/content/images/upload_s3'\n",
        "\n",
        "for filename in os.listdir(image_folder):\n",
        "  if filename.endswith(\".jpeg\"):\n",
        "    image_files.append(filename)"
      ]
    },
    {
      "cell_type": "code",
      "execution_count": 1,
      "id": "e45d1812",
      "metadata": {},
      "outputs": [
        {
          "name": "stdout",
          "output_type": "stream",
          "text": [
            "Hello World!\n"
          ]
        }
      ],
      "source": [
        "#| label: fig-bill-marginal\n",
        "#| fig-cap: \"Marginal distributions of bill dimensions\"\n",
        "#| fig-subcap: \n",
        "#|   - \"Gentoo penguins tend to have thinner bills,\"\n",
        "#|   - \"and Adelie penguins tend to have shorter bills.\"\n",
        "#| fig-alt:\n",
        "#|   - \"Density plot of bill depth by species.\"\n",
        "#|   - \"Density plot of bill length by species.\"\n",
        "#| layout-ncol: 2\n",
        "\n",
        "print(\"Hello World!\")\n",
        "\n"
      ]
    }
  ],
  "metadata": {
    "kernelspec": {
      "display_name": "Python 3 (ipykernel)",
      "language": "python",
      "name": "python3"
    },
    "language_info": {
      "codemirror_mode": {
        "name": "ipython",
        "version": 3
      },
      "file_extension": ".py",
      "mimetype": "text/x-python",
      "name": "python",
      "nbconvert_exporter": "python",
      "pygments_lexer": "ipython3",
      "version": "3.11.3"
    }
  },
  "nbformat": 4,
  "nbformat_minor": 5
}
