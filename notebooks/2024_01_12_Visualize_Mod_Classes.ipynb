{
  "cells": [
    {
      "cell_type": "markdown",
      "metadata": {
        "id": "EWB7hdcaDoDf"
      },
      "source": [
        "Unzip the image files, e.g. from your Drive."
      ]
    },
    {
      "cell_type": "code",
      "execution_count": null,
      "metadata": {
        "id": "09AIEmwXC1zx"
      },
      "outputs": [],
      "source": [
        "!zip -r /content/drive/MyDrive/2024-01-09-Bauernproteste/2024-01-09-Images-Clean.zip media"
      ]
    },
    {
      "cell_type": "markdown",
      "metadata": {},
      "source": [
        "Import the CSV-File exported from Gephi. Set `sample_size` to your desired number, I recommend a low number, e.g. 5."
      ]
    },
    {
      "cell_type": "code",
      "execution_count": 54,
      "metadata": {
        "cellView": "form",
        "id": "WdS8jiZGY8SS"
      },
      "outputs": [],
      "source": [
        "import pandas as pd\n",
        "\n",
        "gephi_file = \"/content/drive/MyDrive/2024-01-09-Bauernproteste/2024-01-11-Google-Vision-Graph-w-modclasses.csv\"  #@param {type:\"string\"}\n",
        "sample_size = 5 \n",
        "gephi_df = pd.read_csv(gephi_file)"
      ]
    },
    {
      "cell_type": "markdown",
      "metadata": {},
      "source": [
        "Render the Sample: Hit run for the next cell to create an HTML view of image classifications. The HTML will also be saved to file, check the files in the left pane for a file named `{formatted_date}-Gephi-Mod-Classes-Visualisation.html` to download the document to your computer. The file includes the `base64` encoded images."
      ]
    },
    {
      "cell_type": "code",
      "execution_count": null,
      "metadata": {
        "cellView": "form",
        "id": "VMNgAbLmDEOl"
      },
      "outputs": [],
      "source": [
        "from IPython.display import HTML, display\n",
        "import datetime\n",
        "import base64\n",
        "\n",
        "def get_base64_encoded_image(image_path):\n",
        "    with open(image_path, \"rb\") as img_file:\n",
        "        return base64.b64encode(img_file.read()).decode('utf-8')\n",
        "\n",
        "\n",
        "# Include the Bootstrap CSS\n",
        "bootstrap_link = '<link rel=\"stylesheet\" href=\"https://cdn.jsdelivr.net/npm/bootstrap@5.2.3/dist/css/bootstrap.min.css\" integrity=\"sha384-rbsA2VBKQhggwzxH7pPCaAqO46MgnOM80zW1RWuH61DGLwZJEdK2Kadq2F9CUG65\" crossorigin=\"anonymous\">'\n",
        "\n",
        "# Create an empty list to store the HTML content\n",
        "html_content = []\n",
        "\n",
        "# Group the DataFrame by image_type\n",
        "filtered_gephi_df = gephi_df[gephi_df['attr_type'] == \"Image_BaseName\"]\n",
        "grouped = filtered_gephi_df.groupby(\"modularity_class\")\n",
        "\n",
        "# Start the grid container\n",
        "html_content.append(\"<div class='container-fluid mt-3'>\")\n",
        "\n",
        "# Iterate over image_type groups\n",
        "for image_type, group_df in grouped:\n",
        "    # Create a header for the image_type group\n",
        "    html_content.append(f\"<h2>Modularity Class #{image_type}</h2>\")\n",
        "    html_content.append(\"<div class='row row-cols-1 row-cols-md-6 g-10'>\")\n",
        "\n",
        "    group_df_sample = group_df.sample(sample_size, replace=True)\n",
        "    # Iterate over rows in the group\n",
        "    for _, row in group_df_sample.iterrows():\n",
        "        image_path = f\"media/images/{row['image']}\"\n",
        "        base64_image = get_base64_encoded_image(image_path)\n",
        "        image_tag = f'<img src=\"data:image/jpeg;base64,{base64_image}\" class=\"card-img-top\">'\n",
        "\n",
        "        card_content = f\"\"\"\n",
        "        <div class='col-lg-2 col-md-4 col-sm-6 mb-4'>\n",
        "            <div class='card h-100'>\n",
        "                {image_tag}\n",
        "            </div>\n",
        "        </div>\n",
        "        \"\"\"\n",
        "        html_content.append(card_content)\n",
        "\n",
        "    # Close the row and container for the image_type group\n",
        "    html_content.append(\"</div>\")\n",
        "\n",
        "# Close the overall container\n",
        "html_content.append(\"</div>\")\n",
        "\n",
        "css = \"\"\"\n",
        "<style>\n",
        "@media print {\n",
        "    h2 {\n",
        "      break-before: page;\n",
        "    }\n",
        "    .grid-container {\n",
        "        display: flex;\n",
        "        flex-wrap: wrap;\n",
        "        justify-content: space-between;\n",
        "        width: 297mm; /* A4 landscape width */\n",
        "        height: 210mm; /* A4 landscape height */\n",
        "        padding: 5mm; /* Padding around the edges */\n",
        "        gap: 3mm; /* Gap between grid items */\n",
        "    }\n",
        "    .image-entry {\n",
        "        flex: 1 1 calc(16.66% - 3mm); /* 6 images per row with a little space between */\n",
        "        box-sizing: border-box;\n",
        "        text-align: center;\n",
        "        page-break-inside: avoid;\n",
        "        border: 1px solid #ddd; /* A subtle border around each image entry for clarity */\n",
        "        padding: 2mm; /* Padding inside each grid item */\n",
        "    }\n",
        "    .image-entry h2 {\n",
        "        font-size: 11pt; /* Adjusted font size */\n",
        "        margin: 2mm 0; /* Reduced margin around the text */\n",
        "    }\n",
        "    img {\n",
        "        max-width: 100%;\n",
        "        max-height: 60mm; /* Adjusted image height to fit 3 rows */\n",
        "        display: block;\n",
        "        margin: 0 auto;\n",
        "    }\n",
        "}\n",
        "</style>\n",
        "\"\"\"\n",
        "\n",
        "final_html = f\"{bootstrap_link}\\n{css}\\n{' '.join(html_content)}\"\n",
        "\n",
        "display(HTML(final_html))\n",
        "\n",
        "\n",
        "# Get the current date and time\n",
        "current_date = datetime.datetime.now()\n",
        "\n",
        "# Format the date as YYYY-MM-DD\n",
        "formatted_date = current_date.strftime('%Y-%m-%d')\n",
        "\n",
        "\n",
        "# Generate the HTML file name with the current date\n",
        "html_file_name = f\"{formatted_date}-Gephi-Mod-Classes-Visualisation.html\"\n",
        "\n",
        "\n",
        "# Write the HTML to a file\n",
        "with open(html_file_name, \"w\") as file:\n",
        "    file.write(final_html)\n"
      ]
    }
  ],
  "metadata": {
    "colab": {
      "provenance": []
    },
    "kernelspec": {
      "display_name": "Python 3",
      "name": "python3"
    },
    "language_info": {
      "name": "python"
    }
  },
  "nbformat": 4,
  "nbformat_minor": 0
}
