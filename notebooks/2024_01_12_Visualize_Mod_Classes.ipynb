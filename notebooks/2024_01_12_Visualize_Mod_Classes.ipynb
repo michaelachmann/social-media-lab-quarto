{
  "cells": [
    {
      "cell_type": "markdown",
      "metadata": {},
      "source": [
        ":::{.content-hidden}\n",
        "# Visual Exploration\n",
        ":::\n"
      ]
    },
    {
      "cell_type": "markdown",
      "metadata": {
        "id": "EWB7hdcaDoDf"
      },
      "source": [
        "Unzip the image files, e.g. from your Drive."
      ]
    },
    {
      "cell_type": "code",
      "execution_count": null,
      "metadata": {
        "id": "09AIEmwXC1zx"
      },
      "outputs": [],
      "source": [
        "!zip -r /content/drive/MyDrive/2024-01-09-Bauernproteste/2024-01-09-Images-Clean.zip media"
      ]
    },
    {
      "cell_type": "markdown",
      "metadata": {},
      "source": [
        "Import the CSV-File exported from Gephi. Set `sample_size` to your desired number, I recommend a low number, e.g. 5."
      ]
    },
    {
      "cell_type": "code",
      "execution_count": 54,
      "metadata": {
        "cellView": "form",
        "id": "WdS8jiZGY8SS"
      },
      "outputs": [],
      "source": [
        "import pandas as pd\n",
        "\n",
        "gephi_file = \"/content/drive/MyDrive/2024-01-09-Bauernproteste/2024-01-11-Google-Vision-Graph-w-modclasses.csv\"  #@param {type:\"string\"}\n",
        "sample_size = 5 \n",
        "gephi_df = pd.read_csv(gephi_file)"
      ]
    },
    {
      "cell_type": "markdown",
      "metadata": {},
      "source": [
        "Render the Sample: Hit run for the next cell to create an HTML view of image classifications. The HTML will also be saved to file, check the files in the left pane for a file named `{formatted_date}-Gephi-Mod-Classes-Visualisation.html` to download the document to your computer. The file includes the `base64` encoded images."
      ]
    },
    {
      "cell_type": "code",
      "execution_count": null,
      "metadata": {
        "cellView": "form",
        "id": "VMNgAbLmDEOl"
      },
      "outputs": [],
      "source": [
        "# See linked notebook for code."
      ]
    }
  ],
  "metadata": {
    "colab": {
      "provenance": []
    },
    "kernelspec": {
      "display_name": "Python 3",
      "name": "python3"
    },
    "language_info": {
      "name": "python"
    }
  },
  "nbformat": 4,
  "nbformat_minor": 0
}
