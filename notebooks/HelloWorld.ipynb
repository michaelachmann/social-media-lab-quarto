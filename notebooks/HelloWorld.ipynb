{
  "cells": [
    {
      "cell_type": "raw",
      "id": "ecb195fd",
      "metadata": {},
      "source": [
        "---\n",
        "title: Hello World\n",
        "format: html\n",
        "---"
      ]
    },
    {
      "cell_type": "code",
      "execution_count": 1,
      "id": "e45d1812",
      "metadata": {},
      "outputs": [
        {
          "name": "stdout",
          "output_type": "stream",
          "text": [
            "Hello World!\n"
          ]
        }
      ],
      "source": [
        "#| label: fig-bill-marginal\n",
        "#| fig-cap: \"Marginal distributions of bill dimensions\"\n",
        "#| fig-subcap: \n",
        "#|   - \"Gentoo penguins tend to have thinner bills,\"\n",
        "#|   - \"and Adelie penguins tend to have shorter bills.\"\n",
        "#| fig-alt:\n",
        "#|   - \"Density plot of bill depth by species.\"\n",
        "#|   - \"Density plot of bill length by species.\"\n",
        "#| layout-ncol: 2\n",
        "\n",
        "print(\"Hello World!\")\n",
        "\n"
      ]
    }
  ],
  "metadata": {
    "kernelspec": {
      "display_name": "Python 3 (ipykernel)",
      "language": "python",
      "name": "python3"
    },
    "language_info": {
      "codemirror_mode": {
        "name": "ipython",
        "version": 3
      },
      "file_extension": ".py",
      "mimetype": "text/x-python",
      "name": "python",
      "nbconvert_exporter": "python",
      "pygments_lexer": "ipython3",
      "version": "3.11.3"
    }
  },
  "nbformat": 4,
  "nbformat_minor": 5
}
