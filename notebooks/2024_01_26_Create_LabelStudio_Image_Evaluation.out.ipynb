{
  "cells": [
    {
      "cell_type": "markdown",
      "metadata": {},
      "source": [
        "# Label Studio for Visual Annotations\n",
        "\n",
        "First lets install the packages:"
      ],
      "id": "95781c1f-a708-4f85-857f-127d76f6eac1"
    },
    {
      "cell_type": "code",
      "execution_count": 1,
      "metadata": {
        "outputId": "a81dd24b-23cb-4f38-9cdc-ea98d56f6eee"
      },
      "outputs": [
        {
          "output_type": "stream",
          "name": "stdout",
          "text": [
            "     ━━━━━━━━━━━━━━━━━━━━━━━━━━━━━━━━━━━━━━━━ 0.0/454.4 kB ? eta -:--:--     ━━━━━━━━━━━━━━━━━━━━━━━━━━━━━━╸━━━━━━━━━ 348.2/454.4 kB 10.2 MB/s eta 0:00:01     ━━━━━━━━━━━━━━━━━━━━━━━━━━━━━━━━━━━━━━━━ 454.4/454.4 kB 9.5 MB/s eta 0:00:00\n",
            "  Preparing metadata (setup.py) ... done\n",
            "  Building wheel for gcloud (setup.py) ... done"
          ]
        }
      ],
      "source": [
        "!pip -q install label-studio-sdk gcloud"
      ],
      "id": "cell-2"
    },
    {
      "cell_type": "markdown",
      "metadata": {},
      "source": [
        "Next, setup Google Cloud. Please specify the file path for the\n",
        "credentials file in order to upload images to google cloud bucket\n",
        "(provided via GRIPS or your own)."
      ],
      "id": "03a8d957-df22-4c1f-a587-614f9923fdff"
    },
    {
      "cell_type": "code",
      "execution_count": 2,
      "metadata": {
        "cellView": "form"
      },
      "outputs": [],
      "source": [
        "#@title ## Gcloud Setup\n",
        "#@markdown \n",
        "\n",
        "import json\n",
        "from gcloud import storage\n",
        "from oauth2client.service_account import ServiceAccountCredentials\n",
        "\n",
        "gcloud_credentials_path = '/content/vsma-course-2324-72da2075ad3a.json' #@param {type: \"string\"}\n",
        "gcloud_bucket = 'label-studio-vsma' #@param {type: \"string\"}\n",
        "\n",
        "with open(gcloud_credentials_path, 'rb') as f:\n",
        "  credentials_dict = json.loads(f.read())\n",
        "\n",
        "credentials = ServiceAccountCredentials.from_json_keyfile_dict(\n",
        "    credentials_dict\n",
        ")\n",
        "client = storage.Client(credentials=credentials, project='local-grove-153811')\n",
        "bucket = client.get_bucket(gcloud_bucket)"
      ],
      "id": "cell-4"
    },
    {
      "cell_type": "markdown",
      "metadata": {},
      "source": [
        "Let’s read the dataframe from previous sessions"
      ],
      "id": "bdb38b22-b3ca-4e1b-9867-3d197e55f271"
    },
    {
      "cell_type": "code",
      "execution_count": 4,
      "metadata": {},
      "outputs": [],
      "source": [
        "import pandas as pd\n",
        "\n",
        "df = pd.read_csv('/content/drive/MyDrive/2024-01-19-AfD-Stories-Exported.csv')"
      ],
      "id": "cell-6"
    },
    {
      "cell_type": "code",
      "execution_count": 6,
      "metadata": {
        "outputId": "673caec9-4a2f-4cec-b0f9-1e132190e9e5"
      },
      "outputs": [
        {
          "output_type": "display_data",
          "metadata": {},
          "data": {
            "text/html": [
              "\n",
              "<p>5 rows × 23 columns</p>\n",
              "</div>\n",
              "    <div class=\"colab-df-buttons\">\n",
              "\n",
              "  <div class=\"colab-df-container\">\n",
              "    <button class=\"colab-df-convert\" onclick=\"convertToInteractive('df-6da6ceb3-7b95-4256-9b96-3340e0a99601')\"\n",
              "            title=\"Convert this dataframe to an interactive table.\"\n",
              "            style=\"display:none;\">\n",
              "\n",
              "  <svg xmlns=\"http://www.w3.org/2000/svg\" height=\"24px\" viewBox=\"0 -960 960 960\">\n",
              "    <path d=\"M120-120v-720h720v720H120Zm60-500h600v-160H180v160Zm220 220h160v-160H400v160Zm0 220h160v-160H400v160ZM180-400h160v-160H180v160Zm440 0h160v-160H620v160ZM180-180h160v-160H180v160Zm440 0h160v-160H620v160Z\"/>\n",
              "  </svg>\n",
              "    </button>\n",
              "\n",
              "  <style>\n",
              "    .colab-df-container {\n",
              "      display:flex;\n",
              "      gap: 12px;\n",
              "    }\n",
              "\n",
              "    .colab-df-convert {\n",
              "      background-color: #E8F0FE;\n",
              "      border: none;\n",
              "      border-radius: 50%;\n",
              "      cursor: pointer;\n",
              "      display: none;\n",
              "      fill: #1967D2;\n",
              "      height: 32px;\n",
              "      padding: 0 0 0 0;\n",
              "      width: 32px;\n",
              "    }\n",
              "\n",
              "    .colab-df-convert:hover {\n",
              "      background-color: #E2EBFA;\n",
              "      box-shadow: 0px 1px 2px rgba(60, 64, 67, 0.3), 0px 1px 3px 1px rgba(60, 64, 67, 0.15);\n",
              "      fill: #174EA6;\n",
              "    }\n",
              "\n",
              "    .colab-df-buttons div {\n",
              "      margin-bottom: 4px;\n",
              "    }\n",
              "\n",
              "    [theme=dark] .colab-df-convert {\n",
              "      background-color: #3B4455;\n",
              "      fill: #D2E3FC;\n",
              "    }\n",
              "\n",
              "    [theme=dark] .colab-df-convert:hover {\n",
              "      background-color: #434B5C;\n",
              "      box-shadow: 0px 1px 3px 1px rgba(0, 0, 0, 0.15);\n",
              "      filter: drop-shadow(0px 1px 2px rgba(0, 0, 0, 0.3));\n",
              "      fill: #FFFFFF;\n",
              "    }\n",
              "  </style>\n",
              "\n",
              "    <script>\n",
              "      const buttonEl =\n",
              "        document.querySelector('#df-6da6ceb3-7b95-4256-9b96-3340e0a99601 button.colab-df-convert');\n",
              "      buttonEl.style.display =\n",
              "        google.colab.kernel.accessAllowed ? 'block' : 'none';\n",
              "\n",
              "      async function convertToInteractive(key) {\n",
              "        const element = document.querySelector('#df-6da6ceb3-7b95-4256-9b96-3340e0a99601');\n",
              "        const dataTable =\n",
              "          await google.colab.kernel.invokeFunction('convertToInteractive',\n",
              "                                                    [key], {});\n",
              "        if (!dataTable) return;\n",
              "\n",
              "        const docLinkHtml = 'Like what you see? Visit the ' +\n",
              "          '<a target=\"_blank\" href=https://colab.research.google.com/notebooks/data_table.ipynb>data table notebook</a>'\n",
              "          + ' to learn more about interactive tables.';\n",
              "        element.innerHTML = '';\n",
              "        dataTable['output_type'] = 'display_data';\n",
              "        await google.colab.output.renderOutput(dataTable, element);\n",
              "        const docLink = document.createElement('div');\n",
              "        docLink.innerHTML = docLinkHtml;\n",
              "        element.appendChild(docLink);\n",
              "      }\n",
              "    </script>\n",
              "  </div>\n",
              "\n",
              "\n",
              "<div id=\"df-6c5408fb-1517-4544-b928-29ec853a7745\">\n",
              "  <button class=\"colab-df-quickchart\" onclick=\"quickchart('df-6c5408fb-1517-4544-b928-29ec853a7745')\"\n",
              "            title=\"Suggest charts\"\n",
              "            style=\"display:none;\">\n",
              "\n",
              "<svg xmlns=\"http://www.w3.org/2000/svg\" height=\"24px\"viewBox=\"0 0 24 24\"\n",
              "     width=\"24px\">\n",
              "    <g>\n",
              "        <path d=\"M19 3H5c-1.1 0-2 .9-2 2v14c0 1.1.9 2 2 2h14c1.1 0 2-.9 2-2V5c0-1.1-.9-2-2-2zM9 17H7v-7h2v7zm4 0h-2V7h2v10zm4 0h-2v-4h2v4z\"/>\n",
              "    </g>\n",
              "</svg>\n",
              "  </button>\n",
              "\n",
              "<style>\n",
              "  .colab-df-quickchart {\n",
              "      --bg-color: #E8F0FE;\n",
              "      --fill-color: #1967D2;\n",
              "      --hover-bg-color: #E2EBFA;\n",
              "      --hover-fill-color: #174EA6;\n",
              "      --disabled-fill-color: #AAA;\n",
              "      --disabled-bg-color: #DDD;\n",
              "  }\n",
              "\n",
              "  [theme=dark] .colab-df-quickchart {\n",
              "      --bg-color: #3B4455;\n",
              "      --fill-color: #D2E3FC;\n",
              "      --hover-bg-color: #434B5C;\n",
              "      --hover-fill-color: #FFFFFF;\n",
              "      --disabled-bg-color: #3B4455;\n",
              "      --disabled-fill-color: #666;\n",
              "  }\n",
              "\n",
              "  .colab-df-quickchart {\n",
              "    background-color: var(--bg-color);\n",
              "    border: none;\n",
              "    border-radius: 50%;\n",
              "    cursor: pointer;\n",
              "    display: none;\n",
              "    fill: var(--fill-color);\n",
              "    height: 32px;\n",
              "    padding: 0;\n",
              "    width: 32px;\n",
              "  }\n",
              "\n",
              "  .colab-df-quickchart:hover {\n",
              "    background-color: var(--hover-bg-color);\n",
              "    box-shadow: 0 1px 2px rgba(60, 64, 67, 0.3), 0 1px 3px 1px rgba(60, 64, 67, 0.15);\n",
              "    fill: var(--button-hover-fill-color);\n",
              "  }\n",
              "\n",
              "  .colab-df-quickchart-complete:disabled,\n",
              "  .colab-df-quickchart-complete:disabled:hover {\n",
              "    background-color: var(--disabled-bg-color);\n",
              "    fill: var(--disabled-fill-color);\n",
              "    box-shadow: none;\n",
              "  }\n",
              "\n",
              "  .colab-df-spinner {\n",
              "    border: 2px solid var(--fill-color);\n",
              "    border-color: transparent;\n",
              "    border-bottom-color: var(--fill-color);\n",
              "    animation:\n",
              "      spin 1s steps(1) infinite;\n",
              "  }\n",
              "\n",
              "  @keyframes spin {\n",
              "    0% {\n",
              "      border-color: transparent;\n",
              "      border-bottom-color: var(--fill-color);\n",
              "      border-left-color: var(--fill-color);\n",
              "    }\n",
              "    20% {\n",
              "      border-color: transparent;\n",
              "      border-left-color: var(--fill-color);\n",
              "      border-top-color: var(--fill-color);\n",
              "    }\n",
              "    30% {\n",
              "      border-color: transparent;\n",
              "      border-left-color: var(--fill-color);\n",
              "      border-top-color: var(--fill-color);\n",
              "      border-right-color: var(--fill-color);\n",
              "    }\n",
              "    40% {\n",
              "      border-color: transparent;\n",
              "      border-right-color: var(--fill-color);\n",
              "      border-top-color: var(--fill-color);\n",
              "    }\n",
              "    60% {\n",
              "      border-color: transparent;\n",
              "      border-right-color: var(--fill-color);\n",
              "    }\n",
              "    80% {\n",
              "      border-color: transparent;\n",
              "      border-right-color: var(--fill-color);\n",
              "      border-bottom-color: var(--fill-color);\n",
              "    }\n",
              "    90% {\n",
              "      border-color: transparent;\n",
              "      border-bottom-color: var(--fill-color);\n",
              "    }\n",
              "  }\n",
              "</style>\n",
              "\n",
              "  <script>\n",
              "    async function quickchart(key) {\n",
              "      const quickchartButtonEl =\n",
              "        document.querySelector('#' + key + ' button');\n",
              "      quickchartButtonEl.disabled = true;  // To prevent multiple clicks.\n",
              "      quickchartButtonEl.classList.add('colab-df-spinner');\n",
              "      try {\n",
              "        const charts = await google.colab.kernel.invokeFunction(\n",
              "            'suggestCharts', [key], {});\n",
              "      } catch (error) {\n",
              "        console.error('Error during call to suggestCharts:', error);\n",
              "      }\n",
              "      quickchartButtonEl.classList.remove('colab-df-spinner');\n",
              "      quickchartButtonEl.classList.add('colab-df-quickchart-complete');\n",
              "    }\n",
              "    (() => {\n",
              "      let quickchartButtonEl =\n",
              "        document.querySelector('#df-6c5408fb-1517-4544-b928-29ec853a7745 button');\n",
              "      quickchartButtonEl.style.display =\n",
              "        google.colab.kernel.accessAllowed ? 'block' : 'none';\n",
              "    })();\n",
              "  </script>\n",
              "</div>\n",
              "    </div>\n",
              "  </div>"
            ]
          }
        }
      ],
      "source": [
        "df.head()"
      ],
      "id": "cell-7"
    },
    {
      "cell_type": "markdown",
      "metadata": {},
      "source": [
        "And let’s unzip the images"
      ],
      "id": "0656db0d-dbc5-4158-be76-d14db18c01e5"
    },
    {
      "cell_type": "code",
      "execution_count": null,
      "metadata": {},
      "outputs": [],
      "source": [
        "!unzip /content/drive/MyDrive/2024-01-19-AfD-Stories-Exported.zip"
      ],
      "id": "cell-9"
    },
    {
      "cell_type": "markdown",
      "metadata": {},
      "source": [
        "## Upload files to Cloud Bucket\n",
        "\n",
        "We’re using the naming convention `{cloud-bucket}/{username}/{id}.jpg`.\n",
        "The naming convention is important, as we will use it later on to map\n",
        "the manual and computational annotations into one dataframe. (See\n",
        "*Identifier* in the text annotation project)."
      ],
      "id": "d769ed1a-4b79-4777-9f8b-6f607ee21323"
    },
    {
      "cell_type": "code",
      "execution_count": 30,
      "metadata": {},
      "outputs": [],
      "source": [
        "df[\"Image\"] =  df.apply(lambda row: \"gs://{}/{}/{}.jpg\".format(gcloud_bucket, row['Username'], row['ID']), axis=1)"
      ],
      "id": "cell-11"
    },
    {
      "cell_type": "code",
      "execution_count": 34,
      "metadata": {
        "outputId": "003ccb57-bdf3-4ba3-d819-eeade5877a1f"
      },
      "outputs": [
        {
          "output_type": "display_data",
          "metadata": {},
          "data": {
            "application/vnd.jupyter.widget-view+json": {
              "model_id": "7d4bfe0e8b0c40b69c701ee4b4f1bffb",
              "version_major": 2,
              "version_minor": 0
            }
          }
        },
        {
          "output_type": "stream",
          "name": "stdout",
          "text": [
            "Uploading /content/media/images/afd.bund/2632909594311219564_1484534097.jpg failed: Missing File\n",
            "Uploading /content/media/images/afd.bund/2637169242765597715_1484534097.jpg failed: Missing File\n",
            "Uploading /content/media/images/afd.bund/2637310044636651340_1484534097.jpg failed: Missing File\n",
            "Uploading /content/media/images/afd.bund/2640856259194124126_1484534097.jpg failed: Missing File\n",
            "Uploading /content/media/images/afd.bund/2643802824089930195_1484534097.jpg failed: Missing File\n",
            "Uploading /content/media/images/afd.bund/2653863205891438589_1484534097.jpg failed: Missing File\n",
            "Uploading /content/media/images/afd.bund/2664113842957989541_1484534097.jpg failed: Missing File\n",
            "Uploading /content/media/images/afd.bund/2671444844831156334_1484534097.jpg failed: Missing File\n",
            "\n",
            "Uploaded 1 images successfully, skipped 171 existing files."
          ]
        }
      ],
      "source": [
        "from tqdm.notebook import tqdm\n",
        "\n",
        "df[\"Image\"] = \"gs://{}/{}/{}.jpg\".format(gcloud_bucket, df['Username'], df['ID'])\n",
        "\n",
        "uploaded_count = 0\n",
        "skipped_count = 0\n",
        "\n",
        "# Use tqdm for progress bar\n",
        "for row in tqdm(df.itertuples(), total=len(df), desc=\"Uploading Images\"):\n",
        "    filename = \"{}/{}.jpg\".format(row.Username, row.ID)\n",
        "    source_filename = row.image_path\n",
        "    blob = bucket.blob(filename)\n",
        "\n",
        "    if not blob.exists(client):\n",
        "        try:\n",
        "            blob.upload_from_filename(source_filename)\n",
        "            uploaded_count += 1\n",
        "        except FileNotFoundError:\n",
        "            print(f\"Uploading {source_filename} failed: Missing File\")\n",
        "    else:\n",
        "        skipped_count += 1\n",
        "\n",
        "print()\n",
        "print(f\"Uploaded {uploaded_count} images successfully, skipped {skipped_count} existing files.\")"
      ],
      "id": "cell-12"
    },
    {
      "cell_type": "markdown",
      "metadata": {},
      "source": [
        "#### LabelStudio Setup\n",
        "\n",
        "Please specify the the URL and API-Key for you LabelStudio Instance."
      ],
      "id": "1181bd56-c408-47f5-a47e-d5311412512c"
    },
    {
      "cell_type": "code",
      "execution_count": 13,
      "metadata": {
        "cellView": "form"
      },
      "outputs": [],
      "source": [
        "import json\n",
        "from google.colab import userdata\n",
        "\n",
        "labelstudio_key_name = \"label2-key\" #@param {type: \"string\"}\n",
        "labelstudio_key = userdata.get(labelstudio_key_name)\n",
        "labelstudio_url = \"https://label2.digitalhumanities.io\" #@param {type: \"string\"}"
      ],
      "id": "cell-14"
    },
    {
      "cell_type": "markdown",
      "metadata": {},
      "source": [
        "### Create LabelStudio Interface\n",
        "\n",
        "Before creating the LabelStudio project you will need to define your\n",
        "labelling interface. Once the project is set up you will only be able to\n",
        "edit the interface in LabelStudio."
      ],
      "id": "d055112e-2c45-4b58-a320-4f50bcc1afc3"
    },
    {
      "cell_type": "code",
      "execution_count": 21,
      "metadata": {},
      "outputs": [],
      "source": [
        "interface = \"\"\"\n",
        "<View style=\"display:flex;\">\n",
        "  <View style=\"flex:33%\">\n",
        "    <Image name=\"Image\" value=\"$Image\"/>\n",
        "  </View>\n",
        "  <View style=\"flex:66%\">\n",
        "\"\"\""
      ],
      "id": "cell-16"
    },
    {
      "cell_type": "markdown",
      "metadata": {},
      "source": [
        "#### Add a simple coding interface\n",
        "\n",
        "Do you want add codes (Classification) to the images? Please name your\n",
        "coding instance and add options. <br/> **By running this cell multiple\n",
        "times you’re able to add multiple variables (not recommended)**\n",
        "\n",
        "Add the variable name to `coding_name`, the checkbox labels in\n",
        "`coding_values`, and define whether to expect `single` choice or\n",
        "`multiple` choice input for this variable in `coding_choice`."
      ],
      "id": "c3fefb70-7b04-43d8-b37c-0aa8d7b1619b"
    },
    {
      "cell_type": "code",
      "execution_count": 22,
      "metadata": {
        "cellView": "form",
        "outputId": "7bd1e76c-12c3-4d7f-a842-6e2156f941ee"
      },
      "outputs": [
        {
          "output_type": "stream",
          "name": "stdout",
          "text": [
            "Added Sentiment"
          ]
        }
      ],
      "source": [
        "#@title ### Codes\n",
        "#@markdown Do you want add codes (Classification) to the images? Please name your coding instance and add options. <br/> **By running this cell multiple times you're able to add multiple variables (not recommended)**\n",
        "\n",
        "coding_name = \"Sentiment\" #@param {type:\"string\"}\n",
        "coding_values = \"Positive,Neutral,Negative\" #@param {type:\"string\"}\n",
        "coding_choice = \"single\" #@param [\"single\", \"multiple\"]\n",
        "\n",
        "coding_interface = '<Header value=\"{}\" /><Choices name=\"{}\" choice=\"{}\" toName=\"Image\">'.format(coding_name, coding_name,coding_choice)\n",
        "\n",
        "for value in coding_values.split(\",\"):\n",
        "  value = value.strip()\n",
        "  coding_interface += '<Choice value=\"{}\" />'.format(value)\n",
        "\n",
        "coding_interface += \"</Choices>\"\n",
        "\n",
        "interface += coding_interface\n",
        "\n",
        "print(\"Added {}\".format(coding_name))"
      ],
      "id": "cell-18"
    },
    {
      "cell_type": "markdown",
      "metadata": {},
      "source": [
        "**Don’t forget to run the next line! It closes the interface XML!**"
      ],
      "id": "2ef0ae6a-d84d-4f79-918e-0e2f3e496210"
    },
    {
      "cell_type": "code",
      "execution_count": 23,
      "metadata": {},
      "outputs": [],
      "source": [
        "interface += \"\"\"\n",
        "        </View>\n",
        "    </View>\n",
        "    \"\"\""
      ],
      "id": "cell-20"
    },
    {
      "cell_type": "markdown",
      "metadata": {},
      "source": [
        "#### Project Upload\n",
        "\n",
        "This final step creates a LabelStudio project and configures the\n",
        "interface. Define a `project_name`, and `identifier_column`.\n",
        "Additionally, you may define a `sample_percentage` for sampling, we\n",
        "start with $30\\%$. When working with the Open Source version of Label\n",
        "Studio we need to create on project per annotator, enter the number of\n",
        "annotators in `num_copies` to create multiple copies at once."
      ],
      "id": "3b7c7936-975a-4c5c-94f2-c880e9abe22b"
    },
    {
      "cell_type": "code",
      "execution_count": 33,
      "metadata": {
        "cellView": "form",
        "outputId": "3efc7e2d-e3d6-4a08-8363-65dbef670ee3"
      },
      "outputs": [
        {
          "output_type": "stream",
          "name": "stdout",
          "text": [
            "All done, created project #0! Visit https://label2.digitalhumanities.io/projects/71/ and get started labelling!"
          ]
        }
      ],
      "source": [
        "from label_studio_sdk import Client\n",
        "import contextlib\n",
        "import io\n",
        "\n",
        "project_name = \"vSMA Image Test 1\"  #@param {type: \"string\"}\n",
        "identifier_column = \"ID\"  #@param {type: \"string\"}\n",
        "#@markdown Percentage for drawing a sample to annotate, e.g. 30%\n",
        "sample_percentage = 30  #@param {type: \"number\", min:0, max:100}\n",
        "#@markdown Number of project copies. **Start testing with 1!**\n",
        "num_copies = 1  #@param {type: \"number\", min:0, max:3}\n",
        "\n",
        "sample_size = round(len(df) * (sample_percentage / 100))\n",
        "\n",
        "ls = Client(url=labelstudio_url, api_key=labelstudio_key)\n",
        "\n",
        "\n",
        "# Import all tasks\n",
        "df_tasks = df[[identifier_column, 'Image']]\n",
        "df_tasks = df_tasks.sample(sample_size)\n",
        "df_tasks = df_tasks.fillna(\"\")\n",
        "\n",
        "for i in range(0, num_copies):\n",
        "  project_name = f\"{project_name} #{i}\"\n",
        "  # Create the project\n",
        "  project = ls.start_project(\n",
        "      title=project_name,\n",
        "      label_config=interface,\n",
        "      sampling=\"Uniform sampling\"\n",
        "  )\n",
        "  # Configure Cloud Storage (in order to be able to view the images)\n",
        "  project.connect_google_import_storage(bucket=gcloud_bucket, google_application_credentials=json.dumps(credentials_dict))\n",
        "\n",
        "\n",
        "  with contextlib.redirect_stdout(io.StringIO()):\n",
        "    project.import_tasks(\n",
        "          df_tasks.to_dict('records')\n",
        "        )\n",
        "\n",
        "  print(f\"All done, created project #{i}! Visit {labelstudio_url}/projects/{project.id}/ and get started labelling!\")\n",
        "\n"
      ],
      "id": "cell-22"
    }
  ],
  "nbformat": 4,
  "nbformat_minor": 5,
  "metadata": {
    "colab": {
      "provenance": []
    },
    "kernelspec": {
      "name": "python3",
      "display_name": "Python 3",
      "language": "python"
    },
    "language_info": {
      "name": "python"
    },
    "widgets": {
      "application/vnd.jupyter.widget-state+json": {
        "1b967cc3b1904d8b9698a6b08f24b488": {
          "model_module": "@jupyter-widgets/controls",
          "model_module_version": "1.5.0",
          "model_name": "FloatProgressModel",
          "state": {
            "_dom_classes": [],
            "_model_module": "@jupyter-widgets/controls",
            "_model_module_version": "1.5.0",
            "_model_name": "FloatProgressModel",
            "_view_count": null,
            "_view_module": "@jupyter-widgets/controls",
            "_view_module_version": "1.5.0",
            "_view_name": "ProgressView",
            "bar_style": "success",
            "description": "",
            "description_tooltip": null,
            "layout": "IPY_MODEL_6574cc570cf24127998befb452ed38ae",
            "max": 180,
            "min": 0,
            "orientation": "horizontal",
            "style": "IPY_MODEL_88391ba3126c4f619de3e560f13597c2",
            "value": 180
          }
        },
        "28333a2033254e4e8f71f81a674003e9": {
          "model_module": "@jupyter-widgets/controls",
          "model_module_version": "1.5.0",
          "model_name": "HTMLModel",
          "state": {
            "_dom_classes": [],
            "_model_module": "@jupyter-widgets/controls",
            "_model_module_version": "1.5.0",
            "_model_name": "HTMLModel",
            "_view_count": null,
            "_view_module": "@jupyter-widgets/controls",
            "_view_module_version": "1.5.0",
            "_view_name": "HTMLView",
            "description": "",
            "description_tooltip": null,
            "layout": "IPY_MODEL_6d4eab2924de44babf37cdaff20b9051",
            "placeholder": "​",
            "style": "IPY_MODEL_9d20a49908ac4ce183a2124e437bcaf1",
            "value": "Uploading Images: 100%"
          }
        },
        "6574cc570cf24127998befb452ed38ae": {
          "model_module": "@jupyter-widgets/base",
          "model_module_version": "1.2.0",
          "model_name": "LayoutModel",
          "state": {
            "_model_module": "@jupyter-widgets/base",
            "_model_module_version": "1.2.0",
            "_model_name": "LayoutModel",
            "_view_count": null,
            "_view_module": "@jupyter-widgets/base",
            "_view_module_version": "1.2.0",
            "_view_name": "LayoutView",
            "align_content": null,
            "align_items": null,
            "align_self": null,
            "border": null,
            "bottom": null,
            "display": null,
            "flex": null,
            "flex_flow": null,
            "grid_area": null,
            "grid_auto_columns": null,
            "grid_auto_flow": null,
            "grid_auto_rows": null,
            "grid_column": null,
            "grid_gap": null,
            "grid_row": null,
            "grid_template_areas": null,
            "grid_template_columns": null,
            "grid_template_rows": null,
            "height": null,
            "justify_content": null,
            "justify_items": null,
            "left": null,
            "margin": null,
            "max_height": null,
            "max_width": null,
            "min_height": null,
            "min_width": null,
            "object_fit": null,
            "object_position": null,
            "order": null,
            "overflow": null,
            "overflow_x": null,
            "overflow_y": null,
            "padding": null,
            "right": null,
            "top": null,
            "visibility": null,
            "width": null
          }
        },
        "6d4eab2924de44babf37cdaff20b9051": {
          "model_module": "@jupyter-widgets/base",
          "model_module_version": "1.2.0",
          "model_name": "LayoutModel",
          "state": {
            "_model_module": "@jupyter-widgets/base",
            "_model_module_version": "1.2.0",
            "_model_name": "LayoutModel",
            "_view_count": null,
            "_view_module": "@jupyter-widgets/base",
            "_view_module_version": "1.2.0",
            "_view_name": "LayoutView",
            "align_content": null,
            "align_items": null,
            "align_self": null,
            "border": null,
            "bottom": null,
            "display": null,
            "flex": null,
            "flex_flow": null,
            "grid_area": null,
            "grid_auto_columns": null,
            "grid_auto_flow": null,
            "grid_auto_rows": null,
            "grid_column": null,
            "grid_gap": null,
            "grid_row": null,
            "grid_template_areas": null,
            "grid_template_columns": null,
            "grid_template_rows": null,
            "height": null,
            "justify_content": null,
            "justify_items": null,
            "left": null,
            "margin": null,
            "max_height": null,
            "max_width": null,
            "min_height": null,
            "min_width": null,
            "object_fit": null,
            "object_position": null,
            "order": null,
            "overflow": null,
            "overflow_x": null,
            "overflow_y": null,
            "padding": null,
            "right": null,
            "top": null,
            "visibility": null,
            "width": null
          }
        },
        "73bbc1abedb44f6e880d49dac13e5102": {
          "model_module": "@jupyter-widgets/base",
          "model_module_version": "1.2.0",
          "model_name": "LayoutModel",
          "state": {
            "_model_module": "@jupyter-widgets/base",
            "_model_module_version": "1.2.0",
            "_model_name": "LayoutModel",
            "_view_count": null,
            "_view_module": "@jupyter-widgets/base",
            "_view_module_version": "1.2.0",
            "_view_name": "LayoutView",
            "align_content": null,
            "align_items": null,
            "align_self": null,
            "border": null,
            "bottom": null,
            "display": null,
            "flex": null,
            "flex_flow": null,
            "grid_area": null,
            "grid_auto_columns": null,
            "grid_auto_flow": null,
            "grid_auto_rows": null,
            "grid_column": null,
            "grid_gap": null,
            "grid_row": null,
            "grid_template_areas": null,
            "grid_template_columns": null,
            "grid_template_rows": null,
            "height": null,
            "justify_content": null,
            "justify_items": null,
            "left": null,
            "margin": null,
            "max_height": null,
            "max_width": null,
            "min_height": null,
            "min_width": null,
            "object_fit": null,
            "object_position": null,
            "order": null,
            "overflow": null,
            "overflow_x": null,
            "overflow_y": null,
            "padding": null,
            "right": null,
            "top": null,
            "visibility": null,
            "width": null
          }
        },
        "7d4bfe0e8b0c40b69c701ee4b4f1bffb": {
          "model_module": "@jupyter-widgets/controls",
          "model_module_version": "1.5.0",
          "model_name": "HBoxModel",
          "state": {
            "_dom_classes": [],
            "_model_module": "@jupyter-widgets/controls",
            "_model_module_version": "1.5.0",
            "_model_name": "HBoxModel",
            "_view_count": null,
            "_view_module": "@jupyter-widgets/controls",
            "_view_module_version": "1.5.0",
            "_view_name": "HBoxView",
            "box_style": "",
            "children": [
              "IPY_MODEL_28333a2033254e4e8f71f81a674003e9",
              "IPY_MODEL_1b967cc3b1904d8b9698a6b08f24b488",
              "IPY_MODEL_c0e1274c16b74061b2441286890255fb"
            ],
            "layout": "IPY_MODEL_73bbc1abedb44f6e880d49dac13e5102"
          }
        },
        "88391ba3126c4f619de3e560f13597c2": {
          "model_module": "@jupyter-widgets/controls",
          "model_module_version": "1.5.0",
          "model_name": "ProgressStyleModel",
          "state": {
            "_model_module": "@jupyter-widgets/controls",
            "_model_module_version": "1.5.0",
            "_model_name": "ProgressStyleModel",
            "_view_count": null,
            "_view_module": "@jupyter-widgets/base",
            "_view_module_version": "1.2.0",
            "_view_name": "StyleView",
            "bar_color": null,
            "description_width": ""
          }
        },
        "95374b20ea824cb2bb06a82855ec2fbf": {
          "model_module": "@jupyter-widgets/base",
          "model_module_version": "1.2.0",
          "model_name": "LayoutModel",
          "state": {
            "_model_module": "@jupyter-widgets/base",
            "_model_module_version": "1.2.0",
            "_model_name": "LayoutModel",
            "_view_count": null,
            "_view_module": "@jupyter-widgets/base",
            "_view_module_version": "1.2.0",
            "_view_name": "LayoutView",
            "align_content": null,
            "align_items": null,
            "align_self": null,
            "border": null,
            "bottom": null,
            "display": null,
            "flex": null,
            "flex_flow": null,
            "grid_area": null,
            "grid_auto_columns": null,
            "grid_auto_flow": null,
            "grid_auto_rows": null,
            "grid_column": null,
            "grid_gap": null,
            "grid_row": null,
            "grid_template_areas": null,
            "grid_template_columns": null,
            "grid_template_rows": null,
            "height": null,
            "justify_content": null,
            "justify_items": null,
            "left": null,
            "margin": null,
            "max_height": null,
            "max_width": null,
            "min_height": null,
            "min_width": null,
            "object_fit": null,
            "object_position": null,
            "order": null,
            "overflow": null,
            "overflow_x": null,
            "overflow_y": null,
            "padding": null,
            "right": null,
            "top": null,
            "visibility": null,
            "width": null
          }
        },
        "9d20a49908ac4ce183a2124e437bcaf1": {
          "model_module": "@jupyter-widgets/controls",
          "model_module_version": "1.5.0",
          "model_name": "DescriptionStyleModel",
          "state": {
            "_model_module": "@jupyter-widgets/controls",
            "_model_module_version": "1.5.0",
            "_model_name": "DescriptionStyleModel",
            "_view_count": null,
            "_view_module": "@jupyter-widgets/base",
            "_view_module_version": "1.2.0",
            "_view_name": "StyleView",
            "description_width": ""
          }
        },
        "c0e1274c16b74061b2441286890255fb": {
          "model_module": "@jupyter-widgets/controls",
          "model_module_version": "1.5.0",
          "model_name": "HTMLModel",
          "state": {
            "_dom_classes": [],
            "_model_module": "@jupyter-widgets/controls",
            "_model_module_version": "1.5.0",
            "_model_name": "HTMLModel",
            "_view_count": null,
            "_view_module": "@jupyter-widgets/controls",
            "_view_module_version": "1.5.0",
            "_view_name": "HTMLView",
            "description": "",
            "description_tooltip": null,
            "layout": "IPY_MODEL_95374b20ea824cb2bb06a82855ec2fbf",
            "placeholder": "​",
            "style": "IPY_MODEL_f5e94238277b43119253eeb6b2a61aeb",
            "value": " 180/180 [00:28&lt;00:00,  9.73it/s]"
          }
        },
        "f5e94238277b43119253eeb6b2a61aeb": {
          "model_module": "@jupyter-widgets/controls",
          "model_module_version": "1.5.0",
          "model_name": "DescriptionStyleModel",
          "state": {
            "_model_module": "@jupyter-widgets/controls",
            "_model_module_version": "1.5.0",
            "_model_name": "DescriptionStyleModel",
            "_view_count": null,
            "_view_module": "@jupyter-widgets/base",
            "_view_module_version": "1.2.0",
            "_view_name": "StyleView",
            "description_width": ""
          }
        }
      }
    }
  }
}