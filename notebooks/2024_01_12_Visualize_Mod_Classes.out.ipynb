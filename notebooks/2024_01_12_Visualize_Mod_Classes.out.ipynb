{
  "cells": [
    {
      "cell_type": "markdown",
      "metadata": {},
      "source": [
        "# \n",
        "\n",
        "Unzip the image files, e.g. from your Drive."
      ],
      "id": "544d0654-e081-4b2b-842a-132cccac8f03"
    },
    {
      "cell_type": "code",
      "execution_count": null,
      "metadata": {},
      "outputs": [],
      "source": [
        "!zip -r /content/drive/MyDrive/2024-01-09-Bauernproteste/2024-01-09-Images-Clean.zip media"
      ],
      "id": "cell-2"
    },
    {
      "cell_type": "markdown",
      "metadata": {},
      "source": [
        "Import the CSV-File exported from Gephi. Set `sample_size` to your\n",
        "desired number, I recommend a low number, e.g. 5."
      ],
      "id": "ebdade04-1b2b-4474-93e2-04874a3d6069"
    },
    {
      "cell_type": "code",
      "execution_count": 54,
      "metadata": {
        "cellView": "form"
      },
      "outputs": [],
      "source": [
        "import pandas as pd\n",
        "\n",
        "gephi_file = \"/content/drive/MyDrive/2024-01-09-Bauernproteste/2024-01-11-Google-Vision-Graph-w-modclasses.csv\"  #@param {type:\"string\"}\n",
        "sample_size = 5 \n",
        "gephi_df = pd.read_csv(gephi_file)"
      ],
      "id": "cell-4"
    },
    {
      "cell_type": "markdown",
      "metadata": {},
      "source": [
        "Render the Sample: Hit run for the next cell to create an HTML view of\n",
        "image classifications. The HTML will also be saved to file, check the\n",
        "files in the left pane for a file named\n",
        "`{formatted_date}-Gephi-Mod-Classes-Visualisation.html` to download the\n",
        "document to your computer. The file includes the `base64` encoded\n",
        "images."
      ],
      "id": "890546ed-0c69-4bbf-b2c8-9260c33df41f"
    },
    {
      "cell_type": "code",
      "execution_count": null,
      "metadata": {
        "cellView": "form"
      },
      "outputs": [],
      "source": [
        "# See linked notebook for code."
      ],
      "id": "cell-6"
    }
  ],
  "nbformat": 4,
  "nbformat_minor": 5,
  "metadata": {
    "colab": {
      "provenance": []
    },
    "kernelspec": {
      "name": "python3",
      "display_name": "Python 3",
      "language": "python"
    },
    "language_info": {
      "name": "python"
    }
  }
}