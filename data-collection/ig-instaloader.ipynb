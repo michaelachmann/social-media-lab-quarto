{
 "cells": [
  {
   "cell_type": "raw",
   "metadata": {},
   "source": [
    "---\n",
    "title: \"Instaloader\"    \n",
    "date: 2023-10-11\n",
    "author:\n",
    "  - name: Michael Achmann-Denkler\n",
    "    id: ma\n",
    "    email: michael.achmann@informatik.uni-regensburg.de\n",
    "license:\n",
    "    text: \"Licenced under GNU Affero General Public License v3.0\"\n",
    "    url: https://github.com/michaelachmann/social-media-lab-wiki/blob/main/LICENSE\n",
    "format: \n",
    "  html:\n",
    "    code-fold: false\n",
    "---"
   ]
  },
  {
   "cell_type": "markdown",
   "metadata": {
    "id": "yIChbPDPYQuo"
   },
   "source": [
    "## Install instaloader\n",
    "Now we are all set to install our first python package. In order to download posts and stories from Instagram, we use the package `instaloader`. You can install package for python using `pip install <package>`, the command `-q` minimizes the output. "
   ]
  },
  {
   "cell_type": "code",
   "execution_count": null,
   "metadata": {
    "colab": {
     "base_uri": "https://localhost:8080/"
    },
    "id": "wMwU60m8V7EO",
    "outputId": "aa0e0d4b-dd59-489d-b9cb-4d8f19709378"
   },
   "outputs": [
    {
     "name": "stdout",
     "output_type": "stream",
     "text": [
      "\u001b[K     |████████████████████████████████| 60 kB 3.0 MB/s eta 0:00:011\n",
      "\u001b[?25h  Building wheel for instaloader (setup.py) ... \u001b[?25l\u001b[?25hdone\n"
     ]
    }
   ],
   "source": [
    "!pip -q install instaloader"
   ]
  },
  {
   "cell_type": "markdown",
   "metadata": {
    "id": "7YoJ4ZtxZDzi"
   },
   "source": [
    "Once you install instaloader we log in using your username and password. Session information (not your credentials!) is stored in Google Drive to minimize the need for signing in. \n",
    "\n",
    "**In order to minimize the risk for your account to be disabled we suggest creating a new account on your phone before proceeding!**\n",
    "\n"
   ]
  },
  {
   "cell_type": "code",
   "execution_count": null,
   "metadata": {
    "colab": {
     "base_uri": "https://localhost:8080/"
    },
    "id": "Nguy-cGeZtND",
    "outputId": "c3ef332c-d64c-4188-fc11-cbc1dfafb80e"
   },
   "outputs": [
    {
     "name": "stdout",
     "output_type": "stream",
     "text": [
      "Loaded session from /content/drive/MyDrive/.instaloader/session-mi_sm_lab05.\n"
     ]
    }
   ],
   "source": [
    "#@title Logging into Instagram { display-mode: \"form\" }\n",
    "#@markdown Please provide your username and run the cell. You will be asked to enter your password next.\n",
    "\n",
    "username = 'your.username'  #@param {type: \"string\"}\n",
    "\n",
    "#@markdown We save the sessionfile to the following directory. Default is the new folder `.instaloader` in your google drive.\n",
    "session_directory = '/content/drive/MyDrive/.instaloader/' #@param {type: \"string\"}\n",
    "\n",
    "import instaloader\n",
    "from os.path import exists\n",
    "from pathlib import Path\n",
    "\n",
    "# Creating session directory, if it does not exists yet\n",
    "Path(session_directory).mkdir(parents=True, exist_ok=True)\n",
    "\n",
    "filename = \"{}session-{}\".format(session_directory, username)\n",
    "sessionfile = Path(filename)\n",
    "\n",
    "\n",
    "# Get instance\n",
    "L = instaloader.Instaloader(compress_json=False)\n",
    "\n",
    "# Check if sessionfile exists. If so load session,\n",
    "# else login interactively\n",
    "if exists(sessionfile):\n",
    "  L.load_session_from_file(username, sessionfile)\n",
    "\n",
    "else:\n",
    "  L.interactive_login(username)\n",
    "  L.save_session_to_file(sessionfile)\n"
   ]
  },
  {
   "cell_type": "markdown",
   "metadata": {
    "id": "9L3aQohsdM3r"
   },
   "source": [
    "## Downloading first Posts\n",
    "Next we try to download all posts of a profile. Provide a username and folder:"
   ]
  },
  {
   "cell_type": "code",
   "execution_count": null,
   "metadata": {
    "cellView": "form",
    "id": "GFqLnIr1Zcop"
   },
   "outputs": [],
   "source": [
    "dest_username = 'some.profile'  #@param {type: \"string\"}\n",
    "dest_dir = './drive/MyDrive/insta-posts/'  #@param {type: \"string\"}\n",
    "\n",
    "t = Path(\"{}{}\".format(dest_dir, dest_username))\n",
    "t.mkdir(parents=True, exist_ok=True)\n",
    "\n",
    "profile = instaloader.Profile.from_username(L.context, dest_username)\n",
    "for post in profile.get_posts():\n",
    "    L.download_post(post, target=t)"
   ]
  },
  {
   "cell_type": "markdown",
   "metadata": {
    "id": "rCOPhEdiinMe"
   },
   "source": [
    "Well, you just downloaded your first posts! Open Google Drive and check the folder `insta-posts/` (or whatever folder you chose above)! There should be three files for each post, the image, a `.json` file and a `.txt` file. The `.txt` includes the image caption, the `.json` lots of metadata about the post. \n",
    "\n",
    "### Diving into the metadata \n",
    "The next cell reads all `.json` files of the downloaded posts. Then we browse through some interesting data."
   ]
  },
  {
   "cell_type": "code",
   "execution_count": null,
   "metadata": {
    "id": "jssPEOtGjeny"
   },
   "outputs": [],
   "source": [
    "# Reading the paths of all JSON files from dest_dir\n",
    "import os\n",
    "\n",
    "json_files = []\n",
    "\n",
    "for subdir, dirs, files in os.walk(t):\n",
    "    for file in files:\n",
    "        fullpath = os.path.join(subdir, file)\n",
    "        filename, file_extension = os.path.splitext(fullpath)\n",
    "        if file_extension == \".json\":\n",
    "          json_files.append(fullpath)"
   ]
  },
  {
   "cell_type": "code",
   "execution_count": null,
   "metadata": {
    "colab": {
     "base_uri": "https://localhost:8080/",
     "height": 49,
     "referenced_widgets": [
      "d0e8248f20314929ab7290313d7b7fca",
      "e9b4da35b28c4c37a959af3852fe7a7b",
      "a4eeb318c69c4014b2b7719e1b25225c",
      "dfd7aade8e10493ebc6ec8a7c085cbc2",
      "9e830d38a76848838378fcfe8d8dae48",
      "f3ff70a3040a401a97ff95d5aa49613a",
      "22cbb422e31f4526a3d6559f567b1fa8",
      "2dcf80dad8ff455ea0d235f0ea4d2bbc",
      "ed581dd35e064ccb8a90088663718a66",
      "05fe9fa653804364887a671eba646b3b",
      "ba040b9d901649198653a45b6f22c5cf"
     ]
    },
    "id": "6kzkxjZQkFsc",
    "outputId": "6574dec3-eccd-46e1-cfd6-3798995857e6"
   },
   "outputs": [
    {
     "data": {
      "application/vnd.jupyter.widget-view+json": {
       "model_id": "d0e8248f20314929ab7290313d7b7fca",
       "version_major": 2,
       "version_minor": 0
      },
      "text/plain": [
       "  0%|          | 0/5 [00:00<?, ?it/s]"
      ]
     },
     "metadata": {},
     "output_type": "display_data"
    }
   ],
   "source": [
    "# Reading all JSON files\n",
    "from tqdm.notebook import tqdm\n",
    "import json\n",
    "\n",
    "json_data = []\n",
    "\n",
    "for file in tqdm(json_files):\n",
    "  with open(file, 'r') as f:\n",
    "    data = json.load(f)\n",
    "    json_data.append(data)"
   ]
  },
  {
   "cell_type": "markdown",
   "metadata": {
    "id": "Z0Dp5tPPkcHf"
   },
   "source": [
    "Ok, now all metadata for all posts is saved to the variable `json_data`. Run the next line and copy its output to http://jsonviewer.stack.hu/. Your output should look similar, go ahead and play around to explore your data! What information can you extract?"
   ]
  },
  {
   "cell_type": "code",
   "execution_count": null,
   "metadata": {
    "id": "mwaY7sY1krAW"
   },
   "outputs": [],
   "source": [
    "print(json.dumps(json_data[0]))"
   ]
  },
  {
   "cell_type": "markdown",
   "metadata": {
    "id": "55WnOol1lnEI"
   },
   "source": [
    "### Metadata Preprocessing \n",
    "Posts contain plenty of data, like time and location of the post, the authoring user, a caption, tagged users and more."
   ]
  },
  {
   "cell_type": "code",
   "execution_count": null,
   "metadata": {
    "cellView": "form",
    "id": "rXaNP9BmBPTl"
   },
   "outputs": [],
   "source": [
    "#@title What data do you want to use?\n",
    "username = True #@param {type:\"boolean\"}\n",
    "timestamp = True #@param {type:\"boolean\"}\n",
    "caption = True #@param {type:\"boolean\"}\n",
    "location = True #@param {type:\"boolean\"}\n",
    "shortcode = True #@param {type:\"boolean\"}\n",
    "id = True #@param {type:\"boolean\"}\n",
    "tagged_users = True #@param {type:\"boolean\"}\n"
   ]
  },
  {
   "cell_type": "markdown",
   "metadata": {
    "id": "32W5B0u2B3mD"
   },
   "source": [
    "Next we loop through the data and create a new [pandas](https://pandas.pydata.org/) DataFrame. The DataFrame will have one column for each variable selected above and one row for each downloaded posts. \n",
    "\n",
    "If you are not yet familiar with the concept of dataframes have a look at [YouTube](https://www.youtube.com/results?search_query=pandas+dataframe+basics), there's plenty of introductory videos available."
   ]
  },
  {
   "cell_type": "code",
   "execution_count": null,
   "metadata": {
    "id": "Q4EyuVw-B2Xk"
   },
   "outputs": [],
   "source": [
    "import pandas as pd\n",
    "\n",
    "posts = []  # Initializing an empty list for all posts\n",
    "for post in tqdm(json_data):\n",
    "  row = {} # Initializing an empty row for the post\n",
    "\n",
    "  node = post.get(\"node\")\n",
    "\n",
    "  if username:\n",
    "    owner = node.get(\"owner\")\n",
    "    row['username'] = owner.get(\"username\")\n",
    "\n",
    "  if timestamp:\n",
    "    row['timestamp'] = node.get(\"taken_at_timestamp\")\n",
    "\n",
    "  if location:\n",
    "    l = node.get(\"location\", None)\n",
    "    if l:\n",
    "      row['location'] = l.get(\"name\")\n",
    "\n",
    "  if shortcode:\n",
    "    row['shortcode'] = node.get(\"shortcode\")\n",
    "\n",
    "  if id:\n",
    "    row['id'] = node.get(\"id\")\n",
    "  \n",
    "  if tagged_users:\n",
    "    pass\n",
    "\n",
    "  if caption:\n",
    "    c = \"\"\n",
    "    emtc = node.get(\"edge_media_to_caption\")\n",
    "    edges = emtc.get(\"edges\")\n",
    "    for element in edges:\n",
    "      caption_node = element.get(\"node\")\n",
    "      c = c + caption_node.get(\"text\")\n",
    "    row['caption'] = c\n",
    "\n",
    "  # Finally add row to posts\n",
    "  posts.append(row)\n",
    "\n",
    "# After looping through all posts create data frame from list\n",
    "posts_df = pd.DataFrame.from_dict(posts)"
   ]
  },
  {
   "cell_type": "markdown",
   "metadata": {
    "id": "iW0_eOrAHGYy"
   },
   "source": [
    "Now all information selected above is saved to the dataframe `posts_df`. Run the next cell and it will return a nicely formatted table. If your data is quite long, output will be cropped. Click the wand and after a few seconds you are able to browse through the data or filter by columns"
   ]
  },
  {
   "cell_type": "code",
   "execution_count": null,
   "metadata": {
    "id": "jeK59LIIGDLA"
   },
   "outputs": [],
   "source": [
    "posts_df"
   ]
  },
  {
   "cell_type": "markdown",
   "metadata": {
    "id": "sGd4ZnU2H8Sf"
   },
   "source": [
    "In order to get a first impression of dataframes, the `head()` method is also useful. Run the next cell to see the result"
   ]
  },
  {
   "cell_type": "code",
   "execution_count": null,
   "metadata": {
    "id": "_GOSsm9TGDEz"
   },
   "outputs": [],
   "source": [
    "posts_df.head()"
   ]
  },
  {
   "cell_type": "markdown",
   "metadata": {
    "id": "dhDjIcb1I3bN"
   },
   "source": [
    "The dataframe is only saved in memory, thus when disconnecting and deleting the runtime, the dataframe is lost. Running the next cell saves the table to a [CSV](https://en.wikipedia.org/wiki/Comma-separated_values)-file on your drive. \n",
    "\n",
    "Now the processed data may be recovered or used in another notebook."
   ]
  },
  {
   "cell_type": "code",
   "execution_count": null,
   "metadata": {
    "id": "ZFe2GzUjJZaI"
   },
   "outputs": [],
   "source": [
    "posts_df.to_csv('{}{}.csv'.format(dest_dir, username))"
   ]
  },
  {
   "cell_type": "markdown",
   "metadata": {
    "id": "0M6Fu7lcJ6h4"
   },
   "source": [
    "That's it for this notebook! Now you know how to\n",
    "\n",
    "\n",
    "*   log into Instagram using `instaloader`\n",
    "*   save a session\n",
    "* download posts\n",
    "* read the post metadata\n",
    "* create a dataframe\n",
    "* and save dataframes to CSV files.\n",
    "\n",
    "See you in the next notebook!\n",
    "\n"
   ]
  }
 ],
 "metadata": {
  "colab": {
   "include_colab_link": true,
   "provenance": []
  },
  "kernelspec": {
   "display_name": "Python 3",
   "language": "python",
   "name": "python3"
  },
  "language_info": {
   "codemirror_mode": {
    "name": "ipython",
    "version": 3
   },
   "file_extension": ".py",
   "mimetype": "text/x-python",
   "name": "python",
   "nbconvert_exporter": "python",
   "pygments_lexer": "ipython3",
   "version": "3.8.3"
  },
  "widgets": {
   "application/vnd.jupyter.widget-state+json": {
    "05fe9fa653804364887a671eba646b3b": {
     "model_module": "@jupyter-widgets/base",
     "model_module_version": "1.2.0",
     "model_name": "LayoutModel",
     "state": {
      "_model_module": "@jupyter-widgets/base",
      "_model_module_version": "1.2.0",
      "_model_name": "LayoutModel",
      "_view_count": null,
      "_view_module": "@jupyter-widgets/base",
      "_view_module_version": "1.2.0",
      "_view_name": "LayoutView",
      "align_content": null,
      "align_items": null,
      "align_self": null,
      "border": null,
      "bottom": null,
      "display": null,
      "flex": null,
      "flex_flow": null,
      "grid_area": null,
      "grid_auto_columns": null,
      "grid_auto_flow": null,
      "grid_auto_rows": null,
      "grid_column": null,
      "grid_gap": null,
      "grid_row": null,
      "grid_template_areas": null,
      "grid_template_columns": null,
      "grid_template_rows": null,
      "height": null,
      "justify_content": null,
      "justify_items": null,
      "left": null,
      "margin": null,
      "max_height": null,
      "max_width": null,
      "min_height": null,
      "min_width": null,
      "object_fit": null,
      "object_position": null,
      "order": null,
      "overflow": null,
      "overflow_x": null,
      "overflow_y": null,
      "padding": null,
      "right": null,
      "top": null,
      "visibility": null,
      "width": null
     }
    },
    "22cbb422e31f4526a3d6559f567b1fa8": {
     "model_module": "@jupyter-widgets/controls",
     "model_module_version": "1.5.0",
     "model_name": "DescriptionStyleModel",
     "state": {
      "_model_module": "@jupyter-widgets/controls",
      "_model_module_version": "1.5.0",
      "_model_name": "DescriptionStyleModel",
      "_view_count": null,
      "_view_module": "@jupyter-widgets/base",
      "_view_module_version": "1.2.0",
      "_view_name": "StyleView",
      "description_width": ""
     }
    },
    "2dcf80dad8ff455ea0d235f0ea4d2bbc": {
     "model_module": "@jupyter-widgets/base",
     "model_module_version": "1.2.0",
     "model_name": "LayoutModel",
     "state": {
      "_model_module": "@jupyter-widgets/base",
      "_model_module_version": "1.2.0",
      "_model_name": "LayoutModel",
      "_view_count": null,
      "_view_module": "@jupyter-widgets/base",
      "_view_module_version": "1.2.0",
      "_view_name": "LayoutView",
      "align_content": null,
      "align_items": null,
      "align_self": null,
      "border": null,
      "bottom": null,
      "display": null,
      "flex": null,
      "flex_flow": null,
      "grid_area": null,
      "grid_auto_columns": null,
      "grid_auto_flow": null,
      "grid_auto_rows": null,
      "grid_column": null,
      "grid_gap": null,
      "grid_row": null,
      "grid_template_areas": null,
      "grid_template_columns": null,
      "grid_template_rows": null,
      "height": null,
      "justify_content": null,
      "justify_items": null,
      "left": null,
      "margin": null,
      "max_height": null,
      "max_width": null,
      "min_height": null,
      "min_width": null,
      "object_fit": null,
      "object_position": null,
      "order": null,
      "overflow": null,
      "overflow_x": null,
      "overflow_y": null,
      "padding": null,
      "right": null,
      "top": null,
      "visibility": null,
      "width": null
     }
    },
    "9e830d38a76848838378fcfe8d8dae48": {
     "model_module": "@jupyter-widgets/base",
     "model_module_version": "1.2.0",
     "model_name": "LayoutModel",
     "state": {
      "_model_module": "@jupyter-widgets/base",
      "_model_module_version": "1.2.0",
      "_model_name": "LayoutModel",
      "_view_count": null,
      "_view_module": "@jupyter-widgets/base",
      "_view_module_version": "1.2.0",
      "_view_name": "LayoutView",
      "align_content": null,
      "align_items": null,
      "align_self": null,
      "border": null,
      "bottom": null,
      "display": null,
      "flex": null,
      "flex_flow": null,
      "grid_area": null,
      "grid_auto_columns": null,
      "grid_auto_flow": null,
      "grid_auto_rows": null,
      "grid_column": null,
      "grid_gap": null,
      "grid_row": null,
      "grid_template_areas": null,
      "grid_template_columns": null,
      "grid_template_rows": null,
      "height": null,
      "justify_content": null,
      "justify_items": null,
      "left": null,
      "margin": null,
      "max_height": null,
      "max_width": null,
      "min_height": null,
      "min_width": null,
      "object_fit": null,
      "object_position": null,
      "order": null,
      "overflow": null,
      "overflow_x": null,
      "overflow_y": null,
      "padding": null,
      "right": null,
      "top": null,
      "visibility": null,
      "width": null
     }
    },
    "a4eeb318c69c4014b2b7719e1b25225c": {
     "model_module": "@jupyter-widgets/controls",
     "model_module_version": "1.5.0",
     "model_name": "FloatProgressModel",
     "state": {
      "_dom_classes": [],
      "_model_module": "@jupyter-widgets/controls",
      "_model_module_version": "1.5.0",
      "_model_name": "FloatProgressModel",
      "_view_count": null,
      "_view_module": "@jupyter-widgets/controls",
      "_view_module_version": "1.5.0",
      "_view_name": "ProgressView",
      "bar_style": "success",
      "description": "",
      "description_tooltip": null,
      "layout": "IPY_MODEL_2dcf80dad8ff455ea0d235f0ea4d2bbc",
      "max": 5,
      "min": 0,
      "orientation": "horizontal",
      "style": "IPY_MODEL_ed581dd35e064ccb8a90088663718a66",
      "value": 5
     }
    },
    "ba040b9d901649198653a45b6f22c5cf": {
     "model_module": "@jupyter-widgets/controls",
     "model_module_version": "1.5.0",
     "model_name": "DescriptionStyleModel",
     "state": {
      "_model_module": "@jupyter-widgets/controls",
      "_model_module_version": "1.5.0",
      "_model_name": "DescriptionStyleModel",
      "_view_count": null,
      "_view_module": "@jupyter-widgets/base",
      "_view_module_version": "1.2.0",
      "_view_name": "StyleView",
      "description_width": ""
     }
    },
    "d0e8248f20314929ab7290313d7b7fca": {
     "model_module": "@jupyter-widgets/controls",
     "model_module_version": "1.5.0",
     "model_name": "HBoxModel",
     "state": {
      "_dom_classes": [],
      "_model_module": "@jupyter-widgets/controls",
      "_model_module_version": "1.5.0",
      "_model_name": "HBoxModel",
      "_view_count": null,
      "_view_module": "@jupyter-widgets/controls",
      "_view_module_version": "1.5.0",
      "_view_name": "HBoxView",
      "box_style": "",
      "children": [
       "IPY_MODEL_e9b4da35b28c4c37a959af3852fe7a7b",
       "IPY_MODEL_a4eeb318c69c4014b2b7719e1b25225c",
       "IPY_MODEL_dfd7aade8e10493ebc6ec8a7c085cbc2"
      ],
      "layout": "IPY_MODEL_9e830d38a76848838378fcfe8d8dae48"
     }
    },
    "dfd7aade8e10493ebc6ec8a7c085cbc2": {
     "model_module": "@jupyter-widgets/controls",
     "model_module_version": "1.5.0",
     "model_name": "HTMLModel",
     "state": {
      "_dom_classes": [],
      "_model_module": "@jupyter-widgets/controls",
      "_model_module_version": "1.5.0",
      "_model_name": "HTMLModel",
      "_view_count": null,
      "_view_module": "@jupyter-widgets/controls",
      "_view_module_version": "1.5.0",
      "_view_name": "HTMLView",
      "description": "",
      "description_tooltip": null,
      "layout": "IPY_MODEL_05fe9fa653804364887a671eba646b3b",
      "placeholder": "​",
      "style": "IPY_MODEL_ba040b9d901649198653a45b6f22c5cf",
      "value": " 5/5 [00:00&lt;00:00, 70.77it/s]"
     }
    },
    "e9b4da35b28c4c37a959af3852fe7a7b": {
     "model_module": "@jupyter-widgets/controls",
     "model_module_version": "1.5.0",
     "model_name": "HTMLModel",
     "state": {
      "_dom_classes": [],
      "_model_module": "@jupyter-widgets/controls",
      "_model_module_version": "1.5.0",
      "_model_name": "HTMLModel",
      "_view_count": null,
      "_view_module": "@jupyter-widgets/controls",
      "_view_module_version": "1.5.0",
      "_view_name": "HTMLView",
      "description": "",
      "description_tooltip": null,
      "layout": "IPY_MODEL_f3ff70a3040a401a97ff95d5aa49613a",
      "placeholder": "​",
      "style": "IPY_MODEL_22cbb422e31f4526a3d6559f567b1fa8",
      "value": "100%"
     }
    },
    "ed581dd35e064ccb8a90088663718a66": {
     "model_module": "@jupyter-widgets/controls",
     "model_module_version": "1.5.0",
     "model_name": "ProgressStyleModel",
     "state": {
      "_model_module": "@jupyter-widgets/controls",
      "_model_module_version": "1.5.0",
      "_model_name": "ProgressStyleModel",
      "_view_count": null,
      "_view_module": "@jupyter-widgets/base",
      "_view_module_version": "1.2.0",
      "_view_name": "StyleView",
      "bar_color": null,
      "description_width": ""
     }
    },
    "f3ff70a3040a401a97ff95d5aa49613a": {
     "model_module": "@jupyter-widgets/base",
     "model_module_version": "1.2.0",
     "model_name": "LayoutModel",
     "state": {
      "_model_module": "@jupyter-widgets/base",
      "_model_module_version": "1.2.0",
      "_model_name": "LayoutModel",
      "_view_count": null,
      "_view_module": "@jupyter-widgets/base",
      "_view_module_version": "1.2.0",
      "_view_name": "LayoutView",
      "align_content": null,
      "align_items": null,
      "align_self": null,
      "border": null,
      "bottom": null,
      "display": null,
      "flex": null,
      "flex_flow": null,
      "grid_area": null,
      "grid_auto_columns": null,
      "grid_auto_flow": null,
      "grid_auto_rows": null,
      "grid_column": null,
      "grid_gap": null,
      "grid_row": null,
      "grid_template_areas": null,
      "grid_template_columns": null,
      "grid_template_rows": null,
      "height": null,
      "justify_content": null,
      "justify_items": null,
      "left": null,
      "margin": null,
      "max_height": null,
      "max_width": null,
      "min_height": null,
      "min_width": null,
      "object_fit": null,
      "object_position": null,
      "order": null,
      "overflow": null,
      "overflow_x": null,
      "overflow_y": null,
      "padding": null,
      "right": null,
      "top": null,
      "visibility": null,
      "width": null
     }
    }
   }
  }
 },
 "nbformat": 4,
 "nbformat_minor": 4
}
